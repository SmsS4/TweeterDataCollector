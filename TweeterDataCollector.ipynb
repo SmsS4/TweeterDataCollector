{
  "nbformat": 4,
  "nbformat_minor": 0,
  "metadata": {
    "colab": {
      "name": "TweeterDataCollector.ipynb",
      "provenance": [],
      "collapsed_sections": []
    },
    "kernelspec": {
      "name": "python3",
      "display_name": "Python 3"
    },
    "language_info": {
      "name": "python"
    }
  },
  "cells": [
    {
      "cell_type": "markdown",
      "metadata": {
        "id": "zjgXh0PGl2Uu"
      },
      "source": [
        "<div dir=\"rtl\">\n",
        "از اونجا که خیلی دقیق گفته نشده بود قراره چطوری از این دیتاکالکتور استفاده بشه نسخه‌ای که اینجا هست یکم با گیت‌هاب (وفایل data_getter.py) فرق داره.\n",
        "\n",
        "ابتدا روش نوشتن یک دیتا کالکتور گفته می‌شود (یعنی نوشتن data_getter.py) و سپس استفاده از data_getter.py است.\n",
        "</div>"
      ]
    },
    {
      "cell_type": "markdown",
      "metadata": {
        "id": "bw1kcgOTm8LN"
      },
      "source": [
        "<div dir=\"rtl\">\n",
        "نصب پیش نیاز‌ها\n"
      ]
    },
    {
      "cell_type": "code",
      "metadata": {
        "colab": {
          "base_uri": "https://localhost:8080/"
        },
        "id": "Qx9n4UmWm92y",
        "outputId": "180ee67c-0bb6-42a1-bca0-da2b0e6f42a9"
      },
      "source": [
        "!pip install tweepy\n",
        "!pip install pandas"
      ],
      "execution_count": 1,
      "outputs": [
        {
          "output_type": "stream",
          "text": [
            "Requirement already satisfied: tweepy in /usr/local/lib/python3.7/dist-packages (3.10.0)\n",
            "Requirement already satisfied: six>=1.10.0 in /usr/local/lib/python3.7/dist-packages (from tweepy) (1.15.0)\n",
            "Requirement already satisfied: requests[socks]>=2.11.1 in /usr/local/lib/python3.7/dist-packages (from tweepy) (2.23.0)\n",
            "Requirement already satisfied: requests-oauthlib>=0.7.0 in /usr/local/lib/python3.7/dist-packages (from tweepy) (1.3.0)\n",
            "Requirement already satisfied: urllib3!=1.25.0,!=1.25.1,<1.26,>=1.21.1 in /usr/local/lib/python3.7/dist-packages (from requests[socks]>=2.11.1->tweepy) (1.24.3)\n",
            "Requirement already satisfied: certifi>=2017.4.17 in /usr/local/lib/python3.7/dist-packages (from requests[socks]>=2.11.1->tweepy) (2021.5.30)\n",
            "Requirement already satisfied: chardet<4,>=3.0.2 in /usr/local/lib/python3.7/dist-packages (from requests[socks]>=2.11.1->tweepy) (3.0.4)\n",
            "Requirement already satisfied: idna<3,>=2.5 in /usr/local/lib/python3.7/dist-packages (from requests[socks]>=2.11.1->tweepy) (2.10)\n",
            "Requirement already satisfied: PySocks!=1.5.7,>=1.5.6; extra == \"socks\" in /usr/local/lib/python3.7/dist-packages (from requests[socks]>=2.11.1->tweepy) (1.7.1)\n",
            "Requirement already satisfied: oauthlib>=3.0.0 in /usr/local/lib/python3.7/dist-packages (from requests-oauthlib>=0.7.0->tweepy) (3.1.1)\n",
            "Requirement already satisfied: pandas in /usr/local/lib/python3.7/dist-packages (1.1.5)\n",
            "Requirement already satisfied: numpy>=1.15.4 in /usr/local/lib/python3.7/dist-packages (from pandas) (1.19.5)\n",
            "Requirement already satisfied: python-dateutil>=2.7.3 in /usr/local/lib/python3.7/dist-packages (from pandas) (2.8.1)\n",
            "Requirement already satisfied: pytz>=2017.2 in /usr/local/lib/python3.7/dist-packages (from pandas) (2018.9)\n",
            "Requirement already satisfied: six>=1.5 in /usr/local/lib/python3.7/dist-packages (from python-dateutil>=2.7.3->pandas) (1.15.0)\n"
          ],
          "name": "stdout"
        }
      ]
    },
    {
      "cell_type": "markdown",
      "metadata": {
        "id": "VJMsX569uTCG"
      },
      "source": [
        "<div dir=\"rtl\">\n",
        "کلاس های زیر باید به پروژه اضافه شوند."
      ]
    },
    {
      "cell_type": "code",
      "metadata": {
        "id": "bJJ35DoDuWKq"
      },
      "source": [
        "import time\n",
        "from typing import List, Callable, Optional, Tuple\n",
        "\n",
        "import tweepy\n",
        "import urllib3\n",
        "import pandas as pd\n",
        "from tweet import Tweet"
      ],
      "execution_count": 42,
      "outputs": []
    },
    {
      "cell_type": "markdown",
      "metadata": {
        "id": "4LibeX5wqPSm"
      },
      "source": [
        "<div dir=\"rtl\">\n",
        "برای ایجاد api در \n",
        "<a href=\"https://developer.twitter.com/en/apply/user\"> اینجا </a> اقدام کنید\n",
        "و یک \n",
        "app\n",
        "جدید بسازسید. بعد از ساختن و اضافه کردن 3-legged OAuth\n",
        "۲ تا توکن و ۲ تا سکرت توکن به شما داده می‌شود\n",
        "<div>"
      ]
    },
    {
      "cell_type": "code",
      "metadata": {
        "id": "CmFPP9aereq2"
      },
      "source": [
        "\"\"\"\n",
        "consumer_key: API key\n",
        "consumer_secret: API secret\n",
        "access_token: 3-legged OAuth token\n",
        "access_token_secret: 3-legged OAuth secret\n",
        "\"\"\"\n",
        "consumer_key=\"\"  # API key\n",
        "consumer_secret=\"\"  # API secret\n",
        "access_token=\"\"\n",
        "access_token_secret=\"\""
      ],
      "execution_count": 87,
      "outputs": []
    },
    {
      "cell_type": "markdown",
      "metadata": {
        "id": "waBTtL5Fro7S"
      },
      "source": [
        "<div dir=\"rtl\">\n",
        "با استفاده از پکیج tweepy به api توئیتر وصل می‌شویم\n",
        "<br>\n",
        "wait_on_rate_limit برای این است که هنگامی که به لیمیت api توئیتر رسیدیم به صورت خودکار صبر کند و wait_on_rate_limit_notify نیز وقتی به لیمیت رسیدیم با print به کاربر اعلام می‌کند\n",
        "<div>"
      ]
    },
    {
      "cell_type": "code",
      "metadata": {
        "id": "ZQt7dTHtrwTp"
      },
      "source": [
        "# set auth\n",
        "auth = tweepy.OAuthHandler(consumer_key, consumer_secret)\n",
        "auth.set_access_token(access_token, access_token_secret)\n",
        "\n",
        "# set api\n",
        "api = tweepy.API(\n",
        "    auth,\n",
        "    wait_on_rate_limit=True,\n",
        "    wait_on_rate_limit_notify=True\n",
        ")"
      ],
      "execution_count": 44,
      "outputs": []
    },
    {
      "cell_type": "markdown",
      "metadata": {
        "id": "XIqupTyqsH_V"
      },
      "source": [
        "\n",
        "<div dir=\"rtl\">\n",
        "برای تایید توکن‌ها از تابع زیر می‌توانید استفاده کنید."
      ]
    },
    {
      "cell_type": "code",
      "metadata": {
        "colab": {
          "base_uri": "https://localhost:8080/"
        },
        "id": "vsHy1-VpsEXB",
        "outputId": "79b266a0-2601-43a6-96b6-9aa75889483a"
      },
      "source": [
        "try:\n",
        "  if api.verify_credentials():\n",
        "    print('authentication verifed')\n",
        "  else:\n",
        "    print('authentication failed')\n",
        "except:\n",
        "  print('authentication failed')"
      ],
      "execution_count": 45,
      "outputs": [
        {
          "output_type": "stream",
          "text": [
            "authentication verifed\n"
          ],
          "name": "stdout"
        }
      ]
    },
    {
      "cell_type": "markdown",
      "metadata": {
        "id": "UrszqdartQOK"
      },
      "source": [
        "<div dir=\"rtl\">\n",
        "هرچند خود پکیج tweepy شی Status را برای توئیت‌ها دارد اما برای راحتی مدل خودمان را پیاده سازی می‌کنیم. (status همان tweet است)\n",
        "</div>"
      ]
    },
    {
      "cell_type": "code",
      "metadata": {
        "id": "LCHdP0aetrii"
      },
      "source": [
        "from tweet import Tweet"
      ],
      "execution_count": 46,
      "outputs": []
    },
    {
      "cell_type": "markdown",
      "metadata": {
        "id": "8DbtL0WmtxV5"
      },
      "source": [
        "<div dir=\"rtl\">\n",
        "api توئیتر لیمیت تعداد توئیتی که می‌دهد ۲۰۰ است برای همین اگر می‌خواهیم بیشتر از آن توئیت بگیریم باید چند بار endpoint ها را صدا کنیم\n",
        "<br>\n",
        "تابع زیر متد method را که خروجی آن لیستی از Status است را چند بار صدا می‌زند تا به تعداد مشخص شده توئیت از API بگیرد.\n",
        "</div>"
      ]
    },
    {
      "cell_type": "code",
      "metadata": {
        "id": "L5etYIX9t1Co"
      },
      "source": [
        "MAX_COUNT = 200\n",
        "def collect_tweets(method, count, *args, **kwargs) -> List[tweepy.Status]:\n",
        "    \"\"\"\n",
        "    Tweeter API allow maximum 200 tweets to get\n",
        "    so if we want to collect more than 200 we have\n",
        "    to call method more than once\n",
        "\n",
        "    Args:\n",
        "        method: method to call\n",
        "        count: number of tweets to collect\n",
        "        *args: args of method\n",
        "        **kwargs: kargs of methd\n",
        "\n",
        "    Returns:\n",
        "\n",
        "    \"\"\"\n",
        "    cnt = count\n",
        "    oldest_id = None\n",
        "    result: List[tweepy.Status] = []\n",
        "    while cnt:\n",
        "        if oldest_id is None:\n",
        "            new_tweets = (\n",
        "                method(\n",
        "                    count=min(MAX_COUNT, cnt),\n",
        "                    *args,\n",
        "                    **kwargs\n",
        "                )\n",
        "            )\n",
        "        else:\n",
        "            new_tweets = (\n",
        "                method(\n",
        "                    count=min(MAX_COUNT, cnt),\n",
        "                    max_id=oldest_id - 1,\n",
        "                    *args,\n",
        "                    **kwargs\n",
        "                )\n",
        "            )\n",
        "        if len(new_tweets) == 0:\n",
        "            break\n",
        "        oldest_id = new_tweets[-1].id\n",
        "        result.extend(new_tweets)\n",
        "        cnt -= len(new_tweets)\n",
        "    return result"
      ],
      "execution_count": 47,
      "outputs": []
    },
    {
      "cell_type": "markdown",
      "metadata": {
        "id": "nZOijTCduZ7H"
      },
      "source": [
        "<div dir=\"rtl\">\n",
        "برای گرفتن تایم لاین کاربر (فردی که توکن api برای آن است از تابع api.home_timeline می‌شود استفاده کرد.\n",
        "<br>\n",
        "همانطور که گفته شد مدل خودمان را از توئیت پیاده سازی کردیم اما تابع ذکر شده خروجی اش Status است پس باید این شی را به Tweet تبدیل کرد\n",
        "<br>\n",
        "دکوریتور parse_tweetsاینکار را انجام می‌دهد.\n",
        "</div>"
      ]
    },
    {
      "cell_type": "code",
      "metadata": {
        "id": "GlF8Wfunu2zs"
      },
      "source": [
        "def parse_tweets(func):\n",
        "    \"\"\"\n",
        "    Cast tweepy.Status to tweet.Tweet\n",
        "    \"\"\"\n",
        "\n",
        "    def outer_parser(*args, **kwargs) -> List[Tweet]:\n",
        "        return [Tweet.deserializer(twt._json) for twt in func(*args, **kwargs)]\n",
        "\n",
        "    return outer_parser\n",
        "@parse_tweets\n",
        "def get_timeline_tweets(count: int) -> List[Tweet]:\n",
        "    \"\"\"\n",
        "    Gets timeline tweets of api owner\n",
        "    Args:\n",
        "        count: number of tweets to get\n",
        "    \"\"\"\n",
        "    return collect_tweets(\n",
        "        api.home_timeline,\n",
        "        count=count,\n",
        "        tweet_mode='extended',\n",
        "    )"
      ],
      "execution_count": 48,
      "outputs": []
    },
    {
      "cell_type": "code",
      "metadata": {
        "colab": {
          "base_uri": "https://localhost:8080/"
        },
        "id": "jmCHaN9Mu3zj",
        "outputId": "82ddcf99-5dda-49a5-9cae-2a0e4afc63fb"
      },
      "source": [
        "get_timeline_tweets(5)"
      ],
      "execution_count": 49,
      "outputs": [
        {
          "output_type": "execute_result",
          "data": {
            "text/plain": [
              "[Tweet(created_at='Fri Jul 02 10:15:49 +0000 2021', id=1410905041813319680, full_text='https://t.co/JauFV90aZN', source='<a href=\"http://twitter.com/download/iphone\" rel=\"nofollow\">Twitter for iPhone</a>', in_reply_to_status_id=None, in_reply_to_user_id=None, in_reply_to_screen_name=None, user=TweetUser(id=824696073491017729, name='I told my therapist about you', screen_name='itoldmythe', location='', url='https://t.co/8zFIu1hzwn', description='👀', protected=False, verified=False, followers_count=159600, friends_count=6, listed_count=339, favourites_count=261, statuses_count=4087, created_at='Thu Jan 26 19:10:40 +0000 2017', profile_banner_url='https://pbs.twimg.com/profile_banners/824696073491017729/1613909454', profile_image_url_https='https://pbs.twimg.com/profile_images/1363460782621683714/F9-kqpaB_normal.jpg', default_profile=False, default_profile_image=False, withheld_in_countries=[]), coordinates=None, place=None, is_quote_status=False, quoted_status_id=None, quoted_status=None, retweet_count=46, favorite_count=309, entities=Entities(hashtags=[], urls=[], user_mentions=[], symbols=[]), favorited=False, retweeted=False, possibly_sensitive=False, lang='und', retweeted_status=None),\n",
              " Tweet(created_at='Fri Jul 02 09:50:56 +0000 2021', id=1410898776957624320, full_text='RT @Hozak57: کشوری که غنی از نفت و گاز و کوه طلا است \\nسهمش برای ما #کولبری بود https://t.co/1P9mKiPW2Q', source='<a href=\"http://twitter.com/download/iphone\" rel=\"nofollow\">Twitter for iPhone</a>', in_reply_to_status_id=None, in_reply_to_user_id=None, in_reply_to_screen_name=None, user=TweetUser(id=2544087067, name='mohammad sheikhi 🇮🇹', screen_name='khazanpm', location='نمی\\u200cدانم کجا افتاده\\u200cام', url=None, description='دولت هر مملکت در اختیار ملت است / آخر ای ملت به کف کِی اختیار آید تو را؟! | \\U0001fab4🌾🎼 🔬📚', protected=False, verified=False, followers_count=1831, friends_count=2612, listed_count=0, favourites_count=62523, statuses_count=5207, created_at='Tue Jun 03 18:14:05 +0000 2014', profile_banner_url='https://pbs.twimg.com/profile_banners/2544087067/1524161842', profile_image_url_https='https://pbs.twimg.com/profile_images/1408505977545109509/ArmUrxed_normal.jpg', default_profile=True, default_profile_image=False, withheld_in_countries=[]), coordinates=None, place=None, is_quote_status=False, quoted_status_id=None, quoted_status=None, retweet_count=143, favorite_count=0, entities=Entities(hashtags=[Hashtag(indices=(67, 74), text='کولبری')], urls=[], user_mentions=[UserMention(id=948724000422801408, indices=(3, 11), name='کورد.کوردی.کوردستان🦅', screen_name='Hozak57')], symbols=[]), favorited=False, retweeted=False, possibly_sensitive=False, lang='fa', retweeted_status=Tweet(created_at='Thu Jul 01 08:11:30 +0000 2021', id=1410511367220695044, full_text='کشوری که غنی از نفت و گاز و کوه طلا است \\nسهمش برای ما #کولبری بود https://t.co/1P9mKiPW2Q', source='<a href=\"http://twitter.com/download/android\" rel=\"nofollow\">Twitter for Android</a>', in_reply_to_status_id=None, in_reply_to_user_id=None, in_reply_to_screen_name=None, user=TweetUser(id=948724000422801408, name='کورد.کوردی.کوردستان🦅', screen_name='Hozak57', location='بیکس ترین بیکس ها', url=None, description='\\u200f\\u200f\\u200f\\u200f\\u200f\\u200f\\u200f\\u200f\\u200f\\u200f\\u200f\\u200f\\u200f\\u200f\\u200f\\u200f\\u200f\\u200f\\u200f\\u200f\\u200f\\u200f\\u200f\\u200f\\u200f\\u200f\\u200f\\u200f\\u200f\\u200f\\u200f\\u200f\\u200f\\u200f\\u200f\\u200f\\u200f\\u200f\\u200f\\u200f\\u200f\\u200f\\u200f\\u200f\\u200f\\u200f\\u200f\\u200f\\u200f\\u200f\\u200f\\u200f\\u200f\\u200f\\u200f\\u200f\\u200f\\u200f\\u200f\\u200f\\u200f\\u200f\\u200f\\u200f\\u200f\\u200f\\u200f\\u200f\\u200f\\u200f\\u200f\\u200f\\u200f\\u200f\\u200f\\u200f\\u200f\\u200f\\u200f\\u200f\\u200f\\u200f.عقاب کورد . زیبارویان بی وفایند', protected=False, verified=False, followers_count=44068, friends_count=34847, listed_count=39, favourites_count=266506, statuses_count=244427, created_at='Thu Jan 04 01:13:22 +0000 2018', profile_banner_url='https://pbs.twimg.com/profile_banners/948724000422801408/1537983242', profile_image_url_https='https://pbs.twimg.com/profile_images/1406548815327514625/Zsmo1uSv_normal.jpg', default_profile=True, default_profile_image=False, withheld_in_countries=[]), coordinates=None, place=None, is_quote_status=False, quoted_status_id=None, quoted_status=None, retweet_count=143, favorite_count=2462, entities=Entities(hashtags=[Hashtag(indices=(54, 61), text='کولبری')], urls=[], user_mentions=[], symbols=[]), favorited=False, retweeted=False, possibly_sensitive=False, lang='fa', retweeted_status=None)),\n",
              " Tweet(created_at='Fri Jul 02 09:42:24 +0000 2021', id=1410896628517638145, full_text='رییس اینا همه\\u200cش بازی بود. تو گروگان من بودی.', source='<a href=\"http://twitter.com/download/android\" rel=\"nofollow\">Twitter for Android</a>', in_reply_to_status_id=None, in_reply_to_user_id=None, in_reply_to_screen_name=None, user=TweetUser(id=1108507036738863105, name='уαѕαмαи', screen_name='yaasamn', location='Tehran', url=None, description='\\u200f\\u200f\\u200f\\u200f\\u200f\\u200f\\u200f\\u200f\\u200f\\u200f\\u200f\\u200f\\u200f\\u200f\\u200f\\u200f\\u200f\\u200f\\u200f', protected=False, verified=False, followers_count=512, friends_count=424, listed_count=2, favourites_count=70949, statuses_count=8342, created_at='Wed Mar 20 23:14:07 +0000 2019', profile_banner_url='https://pbs.twimg.com/profile_banners/1108507036738863105/1620633196', profile_image_url_https='https://pbs.twimg.com/profile_images/1410583736597504006/5fggPmh5_normal.jpg', default_profile=True, default_profile_image=False, withheld_in_countries=[]), coordinates=None, place=None, is_quote_status=False, quoted_status_id=None, quoted_status=None, retweet_count=0, favorite_count=6, entities=Entities(hashtags=[], urls=[], user_mentions=[], symbols=[]), favorited=False, retweeted=False, possibly_sensitive=None, lang='fa', retweeted_status=None),\n",
              " Tweet(created_at='Fri Jul 02 09:37:24 +0000 2021', id=1410895373338619906, full_text='انقدر که من برای شاگردام بغض میکنم و نگرانشونم و میخوام مثل من تر نزنن به ایندشون، خانواده هاشون درگیر نیستن.', source='<a href=\"https://mobile.twitter.com\" rel=\"nofollow\">Twitter Web App</a>', in_reply_to_status_id=None, in_reply_to_user_id=None, in_reply_to_screen_name=None, user=TweetUser(id=1112368090430357504, name='خانه خاکستر', screen_name='Ashkanj78', location='نصف جهان', url='https://t.co/us46wmaR6p', description='_Paradoxinoid Character_', protected=False, verified=False, followers_count=503, friends_count=534, listed_count=0, favourites_count=8314, statuses_count=1953, created_at='Sun Mar 31 14:56:34 +0000 2019', profile_banner_url='https://pbs.twimg.com/profile_banners/1112368090430357504/1622659566', profile_image_url_https='https://pbs.twimg.com/profile_images/1400390513950294017/GB1eQCEz_normal.jpg', default_profile=True, default_profile_image=False, withheld_in_countries=[]), coordinates=None, place=None, is_quote_status=False, quoted_status_id=None, quoted_status=None, retweet_count=0, favorite_count=16, entities=Entities(hashtags=[], urls=[], user_mentions=[], symbols=[]), favorited=False, retweeted=False, possibly_sensitive=None, lang='fa', retweeted_status=None),\n",
              " Tweet(created_at='Fri Jul 02 09:34:54 +0000 2021', id=1410894741324042245, full_text='RT @notnotreading: https://t.co/lK0H9vRbrr', source='<a href=\"http://twitter.com/download/iphone\" rel=\"nofollow\">Twitter for iPhone</a>', in_reply_to_status_id=None, in_reply_to_user_id=None, in_reply_to_screen_name=None, user=TweetUser(id=824696073491017729, name='I told my therapist about you', screen_name='itoldmythe', location='', url='https://t.co/8zFIu1hzwn', description='👀', protected=False, verified=False, followers_count=159600, friends_count=6, listed_count=339, favourites_count=261, statuses_count=4087, created_at='Thu Jan 26 19:10:40 +0000 2017', profile_banner_url='https://pbs.twimg.com/profile_banners/824696073491017729/1613909454', profile_image_url_https='https://pbs.twimg.com/profile_images/1363460782621683714/F9-kqpaB_normal.jpg', default_profile=False, default_profile_image=False, withheld_in_countries=[]), coordinates=None, place=None, is_quote_status=False, quoted_status_id=None, quoted_status=None, retweet_count=282, favorite_count=0, entities=Entities(hashtags=[], urls=[], user_mentions=[UserMention(id=1399452297567014918, indices=(3, 17), name='this is not a bookclub', screen_name='notnotreading')], symbols=[]), favorited=False, retweeted=False, possibly_sensitive=False, lang='und', retweeted_status=Tweet(created_at='Fri Jul 02 09:24:09 +0000 2021', id=1410892037650620418, full_text='https://t.co/lK0H9vRbrr', source='<a href=\"http://twitter.com/download/android\" rel=\"nofollow\">Twitter for Android</a>', in_reply_to_status_id=None, in_reply_to_user_id=None, in_reply_to_screen_name=None, user=TweetUser(id=1399452297567014918, name='this is not a bookclub', screen_name='notnotreading', location='', url='https://t.co/v1Yk36YrCb', description='PHILOSOPHY MEMES AND SO ON', protected=False, verified=False, followers_count=4496, friends_count=0, listed_count=16, favourites_count=0, statuses_count=147, created_at='Mon May 31 19:47:40 +0000 2021', profile_banner_url='https://pbs.twimg.com/profile_banners/1399452297567014918/1622490850', profile_image_url_https='https://pbs.twimg.com/profile_images/1399452875739250709/xBp7AvLg_normal.jpg', default_profile=True, default_profile_image=False, withheld_in_countries=[]), coordinates=None, place=None, is_quote_status=False, quoted_status_id=None, quoted_status=None, retweet_count=282, favorite_count=864, entities=Entities(hashtags=[], urls=[], user_mentions=[], symbols=[]), favorited=False, retweeted=False, possibly_sensitive=False, lang='und', retweeted_status=None))]"
            ]
          },
          "metadata": {
            "tags": []
          },
          "execution_count": 49
        }
      ]
    },
    {
      "cell_type": "markdown",
      "metadata": {
        "id": "4YW-NIH5vIWe"
      },
      "source": [
        "<div dir=\"rtl\">\n",
        "با استفاده از تابع api.user_timeline\n",
        "می‌شود توئیت‌های کاربرهای مورد نظر را گرفت\n",
        "</div>"
      ]
    },
    {
      "cell_type": "code",
      "metadata": {
        "id": "3C_QaUYIvSdQ"
      },
      "source": [
        "@parse_tweets\n",
        "def get_historical(count: int, users: List[str]) -> List[Tweet]:\n",
        "    \"\"\"\n",
        "    Gets all tweets of users\n",
        "    Args:\n",
        "        count: number of tweets of each user\n",
        "        users: list of users id\n",
        "    \"\"\"\n",
        "    result = []\n",
        "    for user_id in users:\n",
        "        result.extend(\n",
        "            collect_tweets(\n",
        "                api.user_timeline,\n",
        "                count=count,\n",
        "                screen_name=user_id,\n",
        "                tweet_mode='extended',\n",
        "            )\n",
        "        )\n",
        "    return result\n",
        "  "
      ],
      "execution_count": 50,
      "outputs": []
    },
    {
      "cell_type": "code",
      "metadata": {
        "colab": {
          "base_uri": "https://localhost:8080/"
        },
        "id": "dclV7EeRvWK6",
        "outputId": "d460068b-ddb9-4c99-9424-0ef08ce6b524"
      },
      "source": [
        "get_historical(50, ['BTCTN', 'teat65501837'])"
      ],
      "execution_count": 51,
      "outputs": [
        {
          "output_type": "execute_result",
          "data": {
            "text/plain": [
              "[Tweet(created_at='Fri Jul 02 10:12:12 +0000 2021', id=1410904130936360963, full_text='Enjin successfully auctioned all tokens available for sale for the new Efinity #NFT marketplace it has developed for the Polkadot ecosystem. https://t.co/IRFpsKLUfS', source='<a href=\"https://zapier.com/\" rel=\"nofollow\">Zapier.com</a>', in_reply_to_status_id=None, in_reply_to_user_id=None, in_reply_to_screen_name=None, user=TweetUser(id=3367334171, name='Bitcoin News', screen_name='BTCTN', location='World Wide', url='https://t.co/oZCuHV2ZwX', description='Official Twitter account for https://t.co/Y3Sm6N0oR5. Follow us for all the latest Bitcoin news and services! Follow @bitcoincom for all https://t.co/5vSQA17h1m updates.', protected=False, verified=True, followers_count=1476740, friends_count=928, listed_count=7520, favourites_count=10091, statuses_count=20323, created_at='Thu Jul 09 08:58:22 +0000 2015', profile_banner_url='https://pbs.twimg.com/profile_banners/3367334171/1560756921', profile_image_url_https='https://pbs.twimg.com/profile_images/1140965421908144128/_80iSgFS_normal.png', default_profile=False, default_profile_image=False, withheld_in_countries=[]), coordinates=None, place=None, is_quote_status=False, quoted_status_id=None, quoted_status=None, retweet_count=13, favorite_count=55, entities=Entities(hashtags=[Hashtag(indices=(79, 83), text='NFT')], urls=[Url(display_url='zpr.io/H3qgW6jBMUCB', expanded_url='https://zpr.io/H3qgW6jBMUCB', indices=(141, 164), url='https://t.co/IRFpsKLUfS')], user_mentions=[], symbols=[]), favorited=False, retweeted=False, possibly_sensitive=False, lang='en', retweeted_status=None),\n",
              " Tweet(created_at='Fri Jul 02 08:32:38 +0000 2021', id=1410879074319450114, full_text='The #Australian securities regulator issued a consultation paper to seek advice on how to regulate crypto-related assets. #cryptocurrencies https://t.co/5JaElIYvrs', source='<a href=\"https://zapier.com/\" rel=\"nofollow\">Zapier.com</a>', in_reply_to_status_id=None, in_reply_to_user_id=None, in_reply_to_screen_name=None, user=TweetUser(id=3367334171, name='Bitcoin News', screen_name='BTCTN', location='World Wide', url='https://t.co/oZCuHV2ZwX', description='Official Twitter account for https://t.co/Y3Sm6N0oR5. Follow us for all the latest Bitcoin news and services! Follow @bitcoincom for all https://t.co/5vSQA17h1m updates.', protected=False, verified=True, followers_count=1476740, friends_count=928, listed_count=7520, favourites_count=10091, statuses_count=20323, created_at='Thu Jul 09 08:58:22 +0000 2015', profile_banner_url='https://pbs.twimg.com/profile_banners/3367334171/1560756921', profile_image_url_https='https://pbs.twimg.com/profile_images/1140965421908144128/_80iSgFS_normal.png', default_profile=False, default_profile_image=False, withheld_in_countries=[]), coordinates=None, place=None, is_quote_status=False, quoted_status_id=None, quoted_status=None, retweet_count=29, favorite_count=149, entities=Entities(hashtags=[Hashtag(indices=(4, 15), text='Australian'), Hashtag(indices=(122, 139), text='cryptocurrencies')], urls=[Url(display_url='zpr.io/fmLQej3QuRN3', expanded_url='https://zpr.io/fmLQej3QuRN3', indices=(140, 163), url='https://t.co/5JaElIYvrs')], user_mentions=[], symbols=[]), favorited=False, retweeted=False, possibly_sensitive=False, lang='en', retweeted_status=None),\n",
              " Tweet(created_at='Fri Jul 02 08:32:28 +0000 2021', id=1410879031545892872, full_text='The NBA star Spencer Dinwiddie’s token application Calaxy raised $7.5 million in funding according to an announcement on Thursday. #Blockchain https://t.co/XqMwuHYlSC', source='<a href=\"https://zapier.com/\" rel=\"nofollow\">Zapier.com</a>', in_reply_to_status_id=None, in_reply_to_user_id=None, in_reply_to_screen_name=None, user=TweetUser(id=3367334171, name='Bitcoin News', screen_name='BTCTN', location='World Wide', url='https://t.co/oZCuHV2ZwX', description='Official Twitter account for https://t.co/Y3Sm6N0oR5. Follow us for all the latest Bitcoin news and services! Follow @bitcoincom for all https://t.co/5vSQA17h1m updates.', protected=False, verified=True, followers_count=1476740, friends_count=928, listed_count=7520, favourites_count=10091, statuses_count=20323, created_at='Thu Jul 09 08:58:22 +0000 2015', profile_banner_url='https://pbs.twimg.com/profile_banners/3367334171/1560756921', profile_image_url_https='https://pbs.twimg.com/profile_images/1140965421908144128/_80iSgFS_normal.png', default_profile=False, default_profile_image=False, withheld_in_countries=[]), coordinates=None, place=None, is_quote_status=False, quoted_status_id=None, quoted_status=None, retweet_count=15, favorite_count=77, entities=Entities(hashtags=[Hashtag(indices=(131, 142), text='Blockchain')], urls=[Url(display_url='zpr.io/HgQhzTfwGihs', expanded_url='https://zpr.io/HgQhzTfwGihs', indices=(143, 166), url='https://t.co/XqMwuHYlSC')], user_mentions=[], symbols=[]), favorited=False, retweeted=False, possibly_sensitive=False, lang='en', retweeted_status=None),\n",
              " Tweet(created_at='Fri Jul 02 06:32:28 +0000 2021', id=1410848830912925697, full_text='“With the new injection of funds, Mintable will be focusing on scaling its operations and boosting its growth and user acquisition initiatives,” the announcement said. #NFT https://t.co/GvhYj6d09T', source='<a href=\"https://zapier.com/\" rel=\"nofollow\">Zapier.com</a>', in_reply_to_status_id=None, in_reply_to_user_id=None, in_reply_to_screen_name=None, user=TweetUser(id=3367334171, name='Bitcoin News', screen_name='BTCTN', location='World Wide', url='https://t.co/oZCuHV2ZwX', description='Official Twitter account for https://t.co/Y3Sm6N0oR5. Follow us for all the latest Bitcoin news and services! Follow @bitcoincom for all https://t.co/5vSQA17h1m updates.', protected=False, verified=True, followers_count=1476740, friends_count=928, listed_count=7520, favourites_count=10091, statuses_count=20323, created_at='Thu Jul 09 08:58:22 +0000 2015', profile_banner_url='https://pbs.twimg.com/profile_banners/3367334171/1560756921', profile_image_url_https='https://pbs.twimg.com/profile_images/1140965421908144128/_80iSgFS_normal.png', default_profile=False, default_profile_image=False, withheld_in_countries=[]), coordinates=None, place=None, is_quote_status=False, quoted_status_id=None, quoted_status=None, retweet_count=24, favorite_count=101, entities=Entities(hashtags=[Hashtag(indices=(168, 172), text='NFT')], urls=[Url(display_url='zpr.io/ri5cqRCvStrG', expanded_url='https://zpr.io/ri5cqRCvStrG', indices=(173, 196), url='https://t.co/GvhYj6d09T')], user_mentions=[], symbols=[]), favorited=False, retweeted=False, possibly_sensitive=False, lang='en', retweeted_status=None),\n",
              " Tweet(created_at='Fri Jul 02 05:30:31 +0000 2021', id=1410833241796448260, full_text='As Unicly advances #NFT combination, fractionalization, and trading, an integration with Sushiswap’s auction platform is designed to promote better pricing conditions for utoken creators and buyers. https://t.co/fFerxNXy8D', source='<a href=\"https://zapier.com/\" rel=\"nofollow\">Zapier.com</a>', in_reply_to_status_id=None, in_reply_to_user_id=None, in_reply_to_screen_name=None, user=TweetUser(id=3367334171, name='Bitcoin News', screen_name='BTCTN', location='World Wide', url='https://t.co/oZCuHV2ZwX', description='Official Twitter account for https://t.co/Y3Sm6N0oR5. Follow us for all the latest Bitcoin news and services! Follow @bitcoincom for all https://t.co/5vSQA17h1m updates.', protected=False, verified=True, followers_count=1476740, friends_count=928, listed_count=7520, favourites_count=10091, statuses_count=20323, created_at='Thu Jul 09 08:58:22 +0000 2015', profile_banner_url='https://pbs.twimg.com/profile_banners/3367334171/1560756921', profile_image_url_https='https://pbs.twimg.com/profile_images/1140965421908144128/_80iSgFS_normal.png', default_profile=False, default_profile_image=False, withheld_in_countries=[]), coordinates=None, place=None, is_quote_status=False, quoted_status_id=None, quoted_status=None, retweet_count=10, favorite_count=63, entities=Entities(hashtags=[Hashtag(indices=(19, 23), text='NFT')], urls=[Url(display_url='zpr.io/TCixhNhfnEUR', expanded_url='https://zpr.io/TCixhNhfnEUR', indices=(199, 222), url='https://t.co/fFerxNXy8D')], user_mentions=[], symbols=[]), favorited=False, retweeted=False, possibly_sensitive=False, lang='en', retweeted_status=None),\n",
              " Tweet(created_at='Fri Jul 02 05:01:21 +0000 2021', id=1410825903421132800, full_text='Create Your Own DAO Easily With xDAO - the Innovative DeFi Platform Powered by BSC https://t.co/M7PHC8Giuq', source='<a href=\"https://zapier.com/\" rel=\"nofollow\">Zapier.com</a>', in_reply_to_status_id=None, in_reply_to_user_id=None, in_reply_to_screen_name=None, user=TweetUser(id=3367334171, name='Bitcoin News', screen_name='BTCTN', location='World Wide', url='https://t.co/oZCuHV2ZwX', description='Official Twitter account for https://t.co/Y3Sm6N0oR5. Follow us for all the latest Bitcoin news and services! Follow @bitcoincom for all https://t.co/5vSQA17h1m updates.', protected=False, verified=True, followers_count=1476740, friends_count=928, listed_count=7520, favourites_count=10091, statuses_count=20323, created_at='Thu Jul 09 08:58:22 +0000 2015', profile_banner_url='https://pbs.twimg.com/profile_banners/3367334171/1560756921', profile_image_url_https='https://pbs.twimg.com/profile_images/1140965421908144128/_80iSgFS_normal.png', default_profile=False, default_profile_image=False, withheld_in_countries=[]), coordinates=None, place=None, is_quote_status=False, quoted_status_id=None, quoted_status=None, retweet_count=23, favorite_count=97, entities=Entities(hashtags=[], urls=[Url(display_url='zpr.io/qhx6M7Z7J2hG', expanded_url='https://zpr.io/qhx6M7Z7J2hG', indices=(83, 106), url='https://t.co/M7PHC8Giuq')], user_mentions=[], symbols=[]), favorited=False, retweeted=False, possibly_sensitive=False, lang='en', retweeted_status=None),\n",
              " Tweet(created_at='Fri Jul 02 04:33:05 +0000 2021', id=1410818786215747587, full_text='\"It\\'s embarrassing for Sotheby\\'s but I trust that nobody has done the same to the original code,\" another expert noted. #NFT https://t.co/nY0dFWDO5U', source='<a href=\"https://zapier.com/\" rel=\"nofollow\">Zapier.com</a>', in_reply_to_status_id=None, in_reply_to_user_id=None, in_reply_to_screen_name=None, user=TweetUser(id=3367334171, name='Bitcoin News', screen_name='BTCTN', location='World Wide', url='https://t.co/oZCuHV2ZwX', description='Official Twitter account for https://t.co/Y3Sm6N0oR5. Follow us for all the latest Bitcoin news and services! Follow @bitcoincom for all https://t.co/5vSQA17h1m updates.', protected=False, verified=True, followers_count=1476740, friends_count=928, listed_count=7520, favourites_count=10091, statuses_count=20323, created_at='Thu Jul 09 08:58:22 +0000 2015', profile_banner_url='https://pbs.twimg.com/profile_banners/3367334171/1560756921', profile_image_url_https='https://pbs.twimg.com/profile_images/1140965421908144128/_80iSgFS_normal.png', default_profile=False, default_profile_image=False, withheld_in_countries=[]), coordinates=None, place=None, is_quote_status=False, quoted_status_id=None, quoted_status=None, retweet_count=22, favorite_count=78, entities=Entities(hashtags=[Hashtag(indices=(120, 124), text='NFT')], urls=[Url(display_url='zpr.io/6MqPUwpemgVg', expanded_url='https://zpr.io/6MqPUwpemgVg', indices=(125, 148), url='https://t.co/nY0dFWDO5U')], user_mentions=[], symbols=[]), favorited=False, retweeted=False, possibly_sensitive=False, lang='en', retweeted_status=None),\n",
              " Tweet(created_at='Fri Jul 02 03:02:04 +0000 2021', id=1410795881482358784, full_text='Rumors about the billionaire’s Soros Fund Management — his family investment firm — investing in #bitcoin have been appearing since 2018. https://t.co/1eNjqKKbZb', source='<a href=\"https://zapier.com/\" rel=\"nofollow\">Zapier.com</a>', in_reply_to_status_id=None, in_reply_to_user_id=None, in_reply_to_screen_name=None, user=TweetUser(id=3367334171, name='Bitcoin News', screen_name='BTCTN', location='World Wide', url='https://t.co/oZCuHV2ZwX', description='Official Twitter account for https://t.co/Y3Sm6N0oR5. Follow us for all the latest Bitcoin news and services! Follow @bitcoincom for all https://t.co/5vSQA17h1m updates.', protected=False, verified=True, followers_count=1476740, friends_count=928, listed_count=7520, favourites_count=10091, statuses_count=20323, created_at='Thu Jul 09 08:58:22 +0000 2015', profile_banner_url='https://pbs.twimg.com/profile_banners/3367334171/1560756921', profile_image_url_https='https://pbs.twimg.com/profile_images/1140965421908144128/_80iSgFS_normal.png', default_profile=False, default_profile_image=False, withheld_in_countries=[]), coordinates=None, place=None, is_quote_status=False, quoted_status_id=None, quoted_status=None, retweet_count=46, favorite_count=237, entities=Entities(hashtags=[Hashtag(indices=(97, 105), text='bitcoin')], urls=[Url(display_url='zpr.io/99X6ZN2Wvkqz', expanded_url='https://zpr.io/99X6ZN2Wvkqz', indices=(138, 161), url='https://t.co/1eNjqKKbZb')], user_mentions=[], symbols=[]), favorited=False, retweeted=False, possibly_sensitive=False, lang='en', retweeted_status=None),\n",
              " Tweet(created_at='Fri Jul 02 02:31:45 +0000 2021', id=1410788254065074182, full_text='\"#Cryptocurrencies have incredible potential in Latin America,\" the CEO of Softbank Group International and COO of Softbank Group said. https://t.co/OlHpp55WlY', source='<a href=\"https://zapier.com/\" rel=\"nofollow\">Zapier.com</a>', in_reply_to_status_id=None, in_reply_to_user_id=None, in_reply_to_screen_name=None, user=TweetUser(id=3367334171, name='Bitcoin News', screen_name='BTCTN', location='World Wide', url='https://t.co/oZCuHV2ZwX', description='Official Twitter account for https://t.co/Y3Sm6N0oR5. Follow us for all the latest Bitcoin news and services! Follow @bitcoincom for all https://t.co/5vSQA17h1m updates.', protected=False, verified=True, followers_count=1476740, friends_count=928, listed_count=7520, favourites_count=10091, statuses_count=20323, created_at='Thu Jul 09 08:58:22 +0000 2015', profile_banner_url='https://pbs.twimg.com/profile_banners/3367334171/1560756921', profile_image_url_https='https://pbs.twimg.com/profile_images/1140965421908144128/_80iSgFS_normal.png', default_profile=False, default_profile_image=False, withheld_in_countries=[]), coordinates=None, place=None, is_quote_status=False, quoted_status_id=None, quoted_status=None, retweet_count=56, favorite_count=197, entities=Entities(hashtags=[Hashtag(indices=(1, 18), text='Cryptocurrencies')], urls=[Url(display_url='zpr.io/Eh98eKPuUWUw', expanded_url='https://zpr.io/Eh98eKPuUWUw', indices=(136, 159), url='https://t.co/OlHpp55WlY')], user_mentions=[], symbols=[]), favorited=False, retweeted=False, possibly_sensitive=False, lang='en', retweeted_status=None),\n",
              " Tweet(created_at='Fri Jul 02 01:31:51 +0000 2021', id=1410773180768194563, full_text='#Circle also announced the launch of #USDC as a native token on the Tron blockchain. https://t.co/m8OJz9BRWX', source='<a href=\"https://zapier.com/\" rel=\"nofollow\">Zapier.com</a>', in_reply_to_status_id=None, in_reply_to_user_id=None, in_reply_to_screen_name=None, user=TweetUser(id=3367334171, name='Bitcoin News', screen_name='BTCTN', location='World Wide', url='https://t.co/oZCuHV2ZwX', description='Official Twitter account for https://t.co/Y3Sm6N0oR5. Follow us for all the latest Bitcoin news and services! Follow @bitcoincom for all https://t.co/5vSQA17h1m updates.', protected=False, verified=True, followers_count=1476740, friends_count=928, listed_count=7520, favourites_count=10091, statuses_count=20323, created_at='Thu Jul 09 08:58:22 +0000 2015', profile_banner_url='https://pbs.twimg.com/profile_banners/3367334171/1560756921', profile_image_url_https='https://pbs.twimg.com/profile_images/1140965421908144128/_80iSgFS_normal.png', default_profile=False, default_profile_image=False, withheld_in_countries=[]), coordinates=None, place=None, is_quote_status=False, quoted_status_id=None, quoted_status=None, retweet_count=32, favorite_count=147, entities=Entities(hashtags=[Hashtag(indices=(0, 7), text='Circle'), Hashtag(indices=(37, 42), text='USDC')], urls=[Url(display_url='zpr.io/sHsPDYged8p5', expanded_url='https://zpr.io/sHsPDYged8p5', indices=(85, 108), url='https://t.co/m8OJz9BRWX')], user_mentions=[], symbols=[]), favorited=False, retweeted=False, possibly_sensitive=False, lang='en', retweeted_status=None),\n",
              " Tweet(created_at='Thu Jul 01 23:32:26 +0000 2021', id=1410743127334219782, full_text='Spencer Dinwiddie’s token-powered Calaxy App aims to be the “first social media super app designed for creators, by creators.” #Blockchain https://t.co/XqMwuHGKu2', source='<a href=\"https://zapier.com/\" rel=\"nofollow\">Zapier.com</a>', in_reply_to_status_id=None, in_reply_to_user_id=None, in_reply_to_screen_name=None, user=TweetUser(id=3367334171, name='Bitcoin News', screen_name='BTCTN', location='World Wide', url='https://t.co/oZCuHV2ZwX', description='Official Twitter account for https://t.co/Y3Sm6N0oR5. Follow us for all the latest Bitcoin news and services! Follow @bitcoincom for all https://t.co/5vSQA17h1m updates.', protected=False, verified=True, followers_count=1476740, friends_count=928, listed_count=7520, favourites_count=10091, statuses_count=20323, created_at='Thu Jul 09 08:58:22 +0000 2015', profile_banner_url='https://pbs.twimg.com/profile_banners/3367334171/1560756921', profile_image_url_https='https://pbs.twimg.com/profile_images/1140965421908144128/_80iSgFS_normal.png', default_profile=False, default_profile_image=False, withheld_in_countries=[]), coordinates=None, place=None, is_quote_status=False, quoted_status_id=None, quoted_status=None, retweet_count=18, favorite_count=81, entities=Entities(hashtags=[Hashtag(indices=(127, 138), text='Blockchain')], urls=[Url(display_url='zpr.io/HgQhzTfwGihs', expanded_url='https://zpr.io/HgQhzTfwGihs', indices=(139, 162), url='https://t.co/XqMwuHGKu2')], user_mentions=[], symbols=[]), favorited=False, retweeted=False, possibly_sensitive=False, lang='en', retweeted_status=None),\n",
              " Tweet(created_at='Thu Jul 01 22:32:19 +0000 2021', id=1410727999402434561, full_text='\"49% of advisers indicated that, in the last six months, clients have asked them about investing in #cryptocurrencies, up from 17% in 2020.\" #bitcoin https://t.co/7LuKxE7QFV', source='<a href=\"https://zapier.com/\" rel=\"nofollow\">Zapier.com</a>', in_reply_to_status_id=None, in_reply_to_user_id=None, in_reply_to_screen_name=None, user=TweetUser(id=3367334171, name='Bitcoin News', screen_name='BTCTN', location='World Wide', url='https://t.co/oZCuHV2ZwX', description='Official Twitter account for https://t.co/Y3Sm6N0oR5. Follow us for all the latest Bitcoin news and services! Follow @bitcoincom for all https://t.co/5vSQA17h1m updates.', protected=False, verified=True, followers_count=1476740, friends_count=928, listed_count=7520, favourites_count=10091, statuses_count=20323, created_at='Thu Jul 09 08:58:22 +0000 2015', profile_banner_url='https://pbs.twimg.com/profile_banners/3367334171/1560756921', profile_image_url_https='https://pbs.twimg.com/profile_images/1140965421908144128/_80iSgFS_normal.png', default_profile=False, default_profile_image=False, withheld_in_countries=[]), coordinates=None, place=None, is_quote_status=False, quoted_status_id=None, quoted_status=None, retweet_count=35, favorite_count=151, entities=Entities(hashtags=[Hashtag(indices=(100, 117), text='cryptocurrencies'), Hashtag(indices=(141, 149), text='bitcoin')], urls=[Url(display_url='zpr.io/xbet9PVQPraP', expanded_url='https://zpr.io/xbet9PVQPraP', indices=(150, 173), url='https://t.co/7LuKxE7QFV')], user_mentions=[], symbols=[]), favorited=False, retweeted=False, possibly_sensitive=False, lang='en', retweeted_status=None),\n",
              " Tweet(created_at='Thu Jul 01 21:32:25 +0000 2021', id=1410712923996045319, full_text='Mintable is not the only #NFT marketplace gathering investment money, as many other NFT ventures and marketplaces are making moves in the industry. https://t.co/GvhYj6d09T', source='<a href=\"https://zapier.com/\" rel=\"nofollow\">Zapier.com</a>', in_reply_to_status_id=None, in_reply_to_user_id=None, in_reply_to_screen_name=None, user=TweetUser(id=3367334171, name='Bitcoin News', screen_name='BTCTN', location='World Wide', url='https://t.co/oZCuHV2ZwX', description='Official Twitter account for https://t.co/Y3Sm6N0oR5. Follow us for all the latest Bitcoin news and services! Follow @bitcoincom for all https://t.co/5vSQA17h1m updates.', protected=False, verified=True, followers_count=1476740, friends_count=928, listed_count=7520, favourites_count=10091, statuses_count=20323, created_at='Thu Jul 09 08:58:22 +0000 2015', profile_banner_url='https://pbs.twimg.com/profile_banners/3367334171/1560756921', profile_image_url_https='https://pbs.twimg.com/profile_images/1140965421908144128/_80iSgFS_normal.png', default_profile=False, default_profile_image=False, withheld_in_countries=[]), coordinates=None, place=None, is_quote_status=False, quoted_status_id=None, quoted_status=None, retweet_count=23, favorite_count=87, entities=Entities(hashtags=[Hashtag(indices=(25, 29), text='NFT')], urls=[Url(display_url='zpr.io/ri5cqRCvStrG', expanded_url='https://zpr.io/ri5cqRCvStrG', indices=(148, 171), url='https://t.co/GvhYj6d09T')], user_mentions=[], symbols=[]), favorited=False, retweeted=False, possibly_sensitive=False, lang='en', retweeted_status=None),\n",
              " Tweet(created_at='Thu Jul 01 21:01:35 +0000 2021', id=1410705164202393605, full_text='Torum, the Swiss Army Knife of the Crypto Ecosystem https://t.co/j7JqmznSuu', source='<a href=\"https://zapier.com/\" rel=\"nofollow\">Zapier.com</a>', in_reply_to_status_id=None, in_reply_to_user_id=None, in_reply_to_screen_name=None, user=TweetUser(id=3367334171, name='Bitcoin News', screen_name='BTCTN', location='World Wide', url='https://t.co/oZCuHV2ZwX', description='Official Twitter account for https://t.co/Y3Sm6N0oR5. Follow us for all the latest Bitcoin news and services! Follow @bitcoincom for all https://t.co/5vSQA17h1m updates.', protected=False, verified=True, followers_count=1476740, friends_count=928, listed_count=7520, favourites_count=10091, statuses_count=20323, created_at='Thu Jul 09 08:58:22 +0000 2015', profile_banner_url='https://pbs.twimg.com/profile_banners/3367334171/1560756921', profile_image_url_https='https://pbs.twimg.com/profile_images/1140965421908144128/_80iSgFS_normal.png', default_profile=False, default_profile_image=False, withheld_in_countries=[]), coordinates=None, place=None, is_quote_status=False, quoted_status_id=None, quoted_status=None, retweet_count=17, favorite_count=67, entities=Entities(hashtags=[], urls=[Url(display_url='zpr.io/gNxaEmupbPKk', expanded_url='https://zpr.io/gNxaEmupbPKk', indices=(52, 75), url='https://t.co/j7JqmznSuu')], user_mentions=[], symbols=[]), favorited=False, retweeted=False, possibly_sensitive=False, lang='en', retweeted_status=None),\n",
              " Tweet(created_at='Thu Jul 01 20:33:02 +0000 2021', id=1410697978810142731, full_text='Weakening the naira by between 5% to 10% means the #CBN is expecting the spot rate of the naira to fluctuate between 430 and 450. https://t.co/tiRZtFPuMs', source='<a href=\"https://zapier.com/\" rel=\"nofollow\">Zapier.com</a>', in_reply_to_status_id=None, in_reply_to_user_id=None, in_reply_to_screen_name=None, user=TweetUser(id=3367334171, name='Bitcoin News', screen_name='BTCTN', location='World Wide', url='https://t.co/oZCuHV2ZwX', description='Official Twitter account for https://t.co/Y3Sm6N0oR5. Follow us for all the latest Bitcoin news and services! Follow @bitcoincom for all https://t.co/5vSQA17h1m updates.', protected=False, verified=True, followers_count=1476740, friends_count=928, listed_count=7520, favourites_count=10091, statuses_count=20323, created_at='Thu Jul 09 08:58:22 +0000 2015', profile_banner_url='https://pbs.twimg.com/profile_banners/3367334171/1560756921', profile_image_url_https='https://pbs.twimg.com/profile_images/1140965421908144128/_80iSgFS_normal.png', default_profile=False, default_profile_image=False, withheld_in_countries=[]), coordinates=None, place=None, is_quote_status=False, quoted_status_id=None, quoted_status=None, retweet_count=16, favorite_count=66, entities=Entities(hashtags=[Hashtag(indices=(51, 55), text='CBN')], urls=[Url(display_url='zpr.io/2VD7Cg7s5SBg', expanded_url='https://zpr.io/2VD7Cg7s5SBg', indices=(130, 153), url='https://t.co/tiRZtFPuMs')], user_mentions=[], symbols=[]), favorited=False, retweeted=False, possibly_sensitive=False, lang='en', retweeted_status=None),\n",
              " Tweet(created_at='Thu Jul 01 19:33:04 +0000 2021', id=1410682886626463747, full_text='\"There have already been discussions about whether this would make the NFT more valuable - like a postage stamp with a misprint error,\" a researcher said. #NFT https://t.co/nY0dFWDO5U', source='<a href=\"https://zapier.com/\" rel=\"nofollow\">Zapier.com</a>', in_reply_to_status_id=None, in_reply_to_user_id=None, in_reply_to_screen_name=None, user=TweetUser(id=3367334171, name='Bitcoin News', screen_name='BTCTN', location='World Wide', url='https://t.co/oZCuHV2ZwX', description='Official Twitter account for https://t.co/Y3Sm6N0oR5. Follow us for all the latest Bitcoin news and services! Follow @bitcoincom for all https://t.co/5vSQA17h1m updates.', protected=False, verified=True, followers_count=1476740, friends_count=928, listed_count=7520, favourites_count=10091, statuses_count=20323, created_at='Thu Jul 09 08:58:22 +0000 2015', profile_banner_url='https://pbs.twimg.com/profile_banners/3367334171/1560756921', profile_image_url_https='https://pbs.twimg.com/profile_images/1140965421908144128/_80iSgFS_normal.png', default_profile=False, default_profile_image=False, withheld_in_countries=[]), coordinates=None, place=None, is_quote_status=False, quoted_status_id=None, quoted_status=None, retweet_count=19, favorite_count=79, entities=Entities(hashtags=[Hashtag(indices=(155, 159), text='NFT')], urls=[Url(display_url='zpr.io/6MqPUwpemgVg', expanded_url='https://zpr.io/6MqPUwpemgVg', indices=(160, 183), url='https://t.co/nY0dFWDO5U')], user_mentions=[], symbols=[]), favorited=False, retweeted=False, possibly_sensitive=False, lang='en', retweeted_status=None),\n",
              " Tweet(created_at='Thu Jul 01 18:31:13 +0000 2021', id=1410667325422964743, full_text='South African #crypto exchanges will be also be expected to \"create systems for the surveillance of the asset class in order to prevent money from being laundered out of the country.\" https://t.co/HLYa3n76Xg', source='<a href=\"https://zapier.com/\" rel=\"nofollow\">Zapier.com</a>', in_reply_to_status_id=None, in_reply_to_user_id=None, in_reply_to_screen_name=None, user=TweetUser(id=3367334171, name='Bitcoin News', screen_name='BTCTN', location='World Wide', url='https://t.co/oZCuHV2ZwX', description='Official Twitter account for https://t.co/Y3Sm6N0oR5. Follow us for all the latest Bitcoin news and services! Follow @bitcoincom for all https://t.co/5vSQA17h1m updates.', protected=False, verified=True, followers_count=1476740, friends_count=928, listed_count=7520, favourites_count=10091, statuses_count=20323, created_at='Thu Jul 09 08:58:22 +0000 2015', profile_banner_url='https://pbs.twimg.com/profile_banners/3367334171/1560756921', profile_image_url_https='https://pbs.twimg.com/profile_images/1140965421908144128/_80iSgFS_normal.png', default_profile=False, default_profile_image=False, withheld_in_countries=[]), coordinates=None, place=None, is_quote_status=False, quoted_status_id=None, quoted_status=None, retweet_count=47, favorite_count=153, entities=Entities(hashtags=[Hashtag(indices=(14, 21), text='crypto')], urls=[Url(display_url='zpr.io/Dbf8RkZr9esG', expanded_url='https://zpr.io/Dbf8RkZr9esG', indices=(184, 207), url='https://t.co/HLYa3n76Xg')], user_mentions=[], symbols=[]), favorited=False, retweeted=False, possibly_sensitive=False, lang='en', retweeted_status=None),\n",
              " Tweet(created_at='Thu Jul 01 18:02:00 +0000 2021', id=1410659972820750346, full_text='“Soros is one of the most evil creatures out there… Best thing we can do is buy more #BTC so he can get less,” another individual wrote. https://t.co/1eNjqKKbZb', source='<a href=\"https://zapier.com/\" rel=\"nofollow\">Zapier.com</a>', in_reply_to_status_id=None, in_reply_to_user_id=None, in_reply_to_screen_name=None, user=TweetUser(id=3367334171, name='Bitcoin News', screen_name='BTCTN', location='World Wide', url='https://t.co/oZCuHV2ZwX', description='Official Twitter account for https://t.co/Y3Sm6N0oR5. Follow us for all the latest Bitcoin news and services! Follow @bitcoincom for all https://t.co/5vSQA17h1m updates.', protected=False, verified=True, followers_count=1476740, friends_count=928, listed_count=7520, favourites_count=10091, statuses_count=20323, created_at='Thu Jul 09 08:58:22 +0000 2015', profile_banner_url='https://pbs.twimg.com/profile_banners/3367334171/1560756921', profile_image_url_https='https://pbs.twimg.com/profile_images/1140965421908144128/_80iSgFS_normal.png', default_profile=False, default_profile_image=False, withheld_in_countries=[]), coordinates=None, place=None, is_quote_status=False, quoted_status_id=None, quoted_status=None, retweet_count=109, favorite_count=465, entities=Entities(hashtags=[Hashtag(indices=(85, 89), text='BTC')], urls=[Url(display_url='zpr.io/99X6ZN2Wvkqz', expanded_url='https://zpr.io/99X6ZN2Wvkqz', indices=(137, 160), url='https://t.co/1eNjqKKbZb')], user_mentions=[], symbols=[]), favorited=False, retweeted=False, possibly_sensitive=False, lang='en', retweeted_status=None),\n",
              " Tweet(created_at='Thu Jul 01 16:32:56 +0000 2021', id=1410637555020800008, full_text=\"Beijing's official announcement explains that the city’s subway operator aims to make the #DigitalYuan fuel the “new digital travel experience.” https://t.co/HukpAhAajL\", source='<a href=\"https://zapier.com/\" rel=\"nofollow\">Zapier.com</a>', in_reply_to_status_id=None, in_reply_to_user_id=None, in_reply_to_screen_name=None, user=TweetUser(id=3367334171, name='Bitcoin News', screen_name='BTCTN', location='World Wide', url='https://t.co/oZCuHV2ZwX', description='Official Twitter account for https://t.co/Y3Sm6N0oR5. Follow us for all the latest Bitcoin news and services! Follow @bitcoincom for all https://t.co/5vSQA17h1m updates.', protected=False, verified=True, followers_count=1476740, friends_count=928, listed_count=7520, favourites_count=10091, statuses_count=20323, created_at='Thu Jul 09 08:58:22 +0000 2015', profile_banner_url='https://pbs.twimg.com/profile_banners/3367334171/1560756921', profile_image_url_https='https://pbs.twimg.com/profile_images/1140965421908144128/_80iSgFS_normal.png', default_profile=False, default_profile_image=False, withheld_in_countries=[]), coordinates=None, place=None, is_quote_status=False, quoted_status_id=None, quoted_status=None, retweet_count=21, favorite_count=91, entities=Entities(hashtags=[Hashtag(indices=(90, 102), text='DigitalYuan')], urls=[Url(display_url='zpr.io/TQ2GG3YuphEG', expanded_url='https://zpr.io/TQ2GG3YuphEG', indices=(145, 168), url='https://t.co/HukpAhAajL')], user_mentions=[], symbols=[]), favorited=False, retweeted=False, possibly_sensitive=False, lang='en', retweeted_status=None),\n",
              " Tweet(created_at='Thu Jul 01 16:31:49 +0000 2021', id=1410637275394981892, full_text='#Centre announced a new initiative that would take #USDC to ten more blockchains. https://t.co/m8OJz9BRWX', source='<a href=\"https://zapier.com/\" rel=\"nofollow\">Zapier.com</a>', in_reply_to_status_id=None, in_reply_to_user_id=None, in_reply_to_screen_name=None, user=TweetUser(id=3367334171, name='Bitcoin News', screen_name='BTCTN', location='World Wide', url='https://t.co/oZCuHV2ZwX', description='Official Twitter account for https://t.co/Y3Sm6N0oR5. Follow us for all the latest Bitcoin news and services! Follow @bitcoincom for all https://t.co/5vSQA17h1m updates.', protected=False, verified=True, followers_count=1476740, friends_count=928, listed_count=7520, favourites_count=10091, statuses_count=20323, created_at='Thu Jul 09 08:58:22 +0000 2015', profile_banner_url='https://pbs.twimg.com/profile_banners/3367334171/1560756921', profile_image_url_https='https://pbs.twimg.com/profile_images/1140965421908144128/_80iSgFS_normal.png', default_profile=False, default_profile_image=False, withheld_in_countries=[]), coordinates=None, place=None, is_quote_status=False, quoted_status_id=None, quoted_status=None, retweet_count=20, favorite_count=74, entities=Entities(hashtags=[Hashtag(indices=(0, 7), text='Centre'), Hashtag(indices=(51, 56), text='USDC')], urls=[Url(display_url='zpr.io/sHsPDYged8p5', expanded_url='https://zpr.io/sHsPDYged8p5', indices=(82, 105), url='https://t.co/m8OJz9BRWX')], user_mentions=[], symbols=[]), favorited=False, retweeted=False, possibly_sensitive=False, lang='en', retweeted_status=None),\n",
              " Tweet(created_at='Thu Jul 01 15:03:12 +0000 2021', id=1410614975907786752, full_text='#BabyDoge has surged over 700% in the last two weeks and Elon Musk decided to tweet about the #crypto token on Thursday. #DOGE #SHIB https://t.co/rhFRSa1U81', source='<a href=\"https://zapier.com/\" rel=\"nofollow\">Zapier.com</a>', in_reply_to_status_id=None, in_reply_to_user_id=None, in_reply_to_screen_name=None, user=TweetUser(id=3367334171, name='Bitcoin News', screen_name='BTCTN', location='World Wide', url='https://t.co/oZCuHV2ZwX', description='Official Twitter account for https://t.co/Y3Sm6N0oR5. Follow us for all the latest Bitcoin news and services! Follow @bitcoincom for all https://t.co/5vSQA17h1m updates.', protected=False, verified=True, followers_count=1476740, friends_count=928, listed_count=7520, favourites_count=10091, statuses_count=20323, created_at='Thu Jul 09 08:58:22 +0000 2015', profile_banner_url='https://pbs.twimg.com/profile_banners/3367334171/1560756921', profile_image_url_https='https://pbs.twimg.com/profile_images/1140965421908144128/_80iSgFS_normal.png', default_profile=False, default_profile_image=False, withheld_in_countries=[]), coordinates=None, place=None, is_quote_status=False, quoted_status_id=None, quoted_status=None, retweet_count=580, favorite_count=1777, entities=Entities(hashtags=[Hashtag(indices=(0, 9), text='BabyDoge'), Hashtag(indices=(94, 101), text='crypto'), Hashtag(indices=(121, 126), text='DOGE'), Hashtag(indices=(127, 132), text='SHIB')], urls=[Url(display_url='zpr.io/J2djJaruZXjW', expanded_url='https://zpr.io/J2djJaruZXjW', indices=(133, 156), url='https://t.co/rhFRSa1U81')], user_mentions=[], symbols=[]), favorited=False, retweeted=False, possibly_sensitive=False, lang='en', retweeted_status=None),\n",
              " Tweet(created_at='Thu Jul 01 14:31:35 +0000 2021', id=1410607017471840269, full_text='Kazakhstan’s #crypto industry criticizes new surcharge for electricity powering #bitcoin mining farms. https://t.co/ggKNhCZ9WO', source='<a href=\"https://zapier.com/\" rel=\"nofollow\">Zapier.com</a>', in_reply_to_status_id=None, in_reply_to_user_id=None, in_reply_to_screen_name=None, user=TweetUser(id=3367334171, name='Bitcoin News', screen_name='BTCTN', location='World Wide', url='https://t.co/oZCuHV2ZwX', description='Official Twitter account for https://t.co/Y3Sm6N0oR5. Follow us for all the latest Bitcoin news and services! Follow @bitcoincom for all https://t.co/5vSQA17h1m updates.', protected=False, verified=True, followers_count=1476740, friends_count=928, listed_count=7520, favourites_count=10091, statuses_count=20323, created_at='Thu Jul 09 08:58:22 +0000 2015', profile_banner_url='https://pbs.twimg.com/profile_banners/3367334171/1560756921', profile_image_url_https='https://pbs.twimg.com/profile_images/1140965421908144128/_80iSgFS_normal.png', default_profile=False, default_profile_image=False, withheld_in_countries=[]), coordinates=None, place=None, is_quote_status=False, quoted_status_id=None, quoted_status=None, retweet_count=21, favorite_count=134, entities=Entities(hashtags=[Hashtag(indices=(13, 20), text='crypto'), Hashtag(indices=(80, 88), text='bitcoin')], urls=[Url(display_url='zpr.io/frcME5UPFxUS', expanded_url='https://zpr.io/frcME5UPFxUS', indices=(103, 126), url='https://t.co/ggKNhCZ9WO')], user_mentions=[], symbols=[]), favorited=False, retweeted=False, possibly_sensitive=False, lang='en', retweeted_status=None),\n",
              " Tweet(created_at='Thu Jul 01 13:32:14 +0000 2021', id=1410592081010212867, full_text='A survey shows \"a significant shift to embracing cryptocurrencies\" among financial advisors. Over 26% plan to increase their recommendation of #cryptocurrencies over the next 12 months. #bitcoin https://t.co/7LuKxEps4v', source='<a href=\"https://zapier.com/\" rel=\"nofollow\">Zapier.com</a>', in_reply_to_status_id=None, in_reply_to_user_id=None, in_reply_to_screen_name=None, user=TweetUser(id=3367334171, name='Bitcoin News', screen_name='BTCTN', location='World Wide', url='https://t.co/oZCuHV2ZwX', description='Official Twitter account for https://t.co/Y3Sm6N0oR5. Follow us for all the latest Bitcoin news and services! Follow @bitcoincom for all https://t.co/5vSQA17h1m updates.', protected=False, verified=True, followers_count=1476740, friends_count=928, listed_count=7520, favourites_count=10091, statuses_count=20323, created_at='Thu Jul 09 08:58:22 +0000 2015', profile_banner_url='https://pbs.twimg.com/profile_banners/3367334171/1560756921', profile_image_url_https='https://pbs.twimg.com/profile_images/1140965421908144128/_80iSgFS_normal.png', default_profile=False, default_profile_image=False, withheld_in_countries=[]), coordinates=None, place=None, is_quote_status=False, quoted_status_id=None, quoted_status=None, retweet_count=45, favorite_count=125, entities=Entities(hashtags=[Hashtag(indices=(143, 160), text='cryptocurrencies'), Hashtag(indices=(186, 194), text='bitcoin')], urls=[Url(display_url='zpr.io/xbet9PVQPraP', expanded_url='https://zpr.io/xbet9PVQPraP', indices=(195, 218), url='https://t.co/7LuKxEps4v')], user_mentions=[], symbols=[]), favorited=False, retweeted=False, possibly_sensitive=False, lang='en', retweeted_status=None),\n",
              " Tweet(created_at='Thu Jul 01 13:10:25 +0000 2021', id=1410586592427786245, full_text='Blockchain Goes Green: Signum - the Truly Sustainable Blockchain Steps Into the Light https://t.co/rSHFpLkT3C', source='<a href=\"https://zapier.com/\" rel=\"nofollow\">Zapier.com</a>', in_reply_to_status_id=None, in_reply_to_user_id=None, in_reply_to_screen_name=None, user=TweetUser(id=3367334171, name='Bitcoin News', screen_name='BTCTN', location='World Wide', url='https://t.co/oZCuHV2ZwX', description='Official Twitter account for https://t.co/Y3Sm6N0oR5. Follow us for all the latest Bitcoin news and services! Follow @bitcoincom for all https://t.co/5vSQA17h1m updates.', protected=False, verified=True, followers_count=1476740, friends_count=928, listed_count=7520, favourites_count=10091, statuses_count=20323, created_at='Thu Jul 09 08:58:22 +0000 2015', profile_banner_url='https://pbs.twimg.com/profile_banners/3367334171/1560756921', profile_image_url_https='https://pbs.twimg.com/profile_images/1140965421908144128/_80iSgFS_normal.png', default_profile=False, default_profile_image=False, withheld_in_countries=[]), coordinates=None, place=None, is_quote_status=False, quoted_status_id=None, quoted_status=None, retweet_count=39, favorite_count=105, entities=Entities(hashtags=[], urls=[Url(display_url='zpr.io/TRyRBg4Q97fK', expanded_url='https://zpr.io/TRyRBg4Q97fK', indices=(86, 109), url='https://t.co/rSHFpLkT3C')], user_mentions=[], symbols=[]), favorited=False, retweeted=False, possibly_sensitive=False, lang='en', retweeted_status=None),\n",
              " Tweet(created_at='Thu Jul 01 11:32:57 +0000 2021', id=1410562061873127426, full_text='The governor’s remarks, which have been confirmed by two unnamed sources, suggest that the #central bank is planning to devalue the #naira again. https://t.co/tiRZtFPuMs', source='<a href=\"https://zapier.com/\" rel=\"nofollow\">Zapier.com</a>', in_reply_to_status_id=None, in_reply_to_user_id=None, in_reply_to_screen_name=None, user=TweetUser(id=3367334171, name='Bitcoin News', screen_name='BTCTN', location='World Wide', url='https://t.co/oZCuHV2ZwX', description='Official Twitter account for https://t.co/Y3Sm6N0oR5. Follow us for all the latest Bitcoin news and services! Follow @bitcoincom for all https://t.co/5vSQA17h1m updates.', protected=False, verified=True, followers_count=1476740, friends_count=928, listed_count=7520, favourites_count=10091, statuses_count=20323, created_at='Thu Jul 09 08:58:22 +0000 2015', profile_banner_url='https://pbs.twimg.com/profile_banners/3367334171/1560756921', profile_image_url_https='https://pbs.twimg.com/profile_images/1140965421908144128/_80iSgFS_normal.png', default_profile=False, default_profile_image=False, withheld_in_countries=[]), coordinates=None, place=None, is_quote_status=False, quoted_status_id=None, quoted_status=None, retweet_count=32, favorite_count=126, entities=Entities(hashtags=[Hashtag(indices=(91, 99), text='central'), Hashtag(indices=(132, 138), text='naira')], urls=[Url(display_url='zpr.io/2VD7Cg7s5SBg', expanded_url='https://zpr.io/2VD7Cg7s5SBg', indices=(146, 169), url='https://t.co/tiRZtFPuMs')], user_mentions=[], symbols=[]), favorited=False, retweeted=False, possibly_sensitive=False, lang='en', retweeted_status=None),\n",
              " Tweet(created_at='Thu Jul 01 10:31:30 +0000 2021', id=1410546600066359297, full_text='#Bitcoin is \"highly unlikely to affect the role of the U.S. dollar or require a response with a #CBDC.\" #cryptocurrency https://t.co/ZKv0uKIH9l', source='<a href=\"https://zapier.com/\" rel=\"nofollow\">Zapier.com</a>', in_reply_to_status_id=None, in_reply_to_user_id=None, in_reply_to_screen_name=None, user=TweetUser(id=3367334171, name='Bitcoin News', screen_name='BTCTN', location='World Wide', url='https://t.co/oZCuHV2ZwX', description='Official Twitter account for https://t.co/Y3Sm6N0oR5. Follow us for all the latest Bitcoin news and services! Follow @bitcoincom for all https://t.co/5vSQA17h1m updates.', protected=False, verified=True, followers_count=1476740, friends_count=928, listed_count=7520, favourites_count=10091, statuses_count=20323, created_at='Thu Jul 09 08:58:22 +0000 2015', profile_banner_url='https://pbs.twimg.com/profile_banners/3367334171/1560756921', profile_image_url_https='https://pbs.twimg.com/profile_images/1140965421908144128/_80iSgFS_normal.png', default_profile=False, default_profile_image=False, withheld_in_countries=[]), coordinates=None, place=None, is_quote_status=False, quoted_status_id=None, quoted_status=None, retweet_count=60, favorite_count=222, entities=Entities(hashtags=[Hashtag(indices=(0, 8), text='Bitcoin'), Hashtag(indices=(96, 101), text='CBDC'), Hashtag(indices=(104, 119), text='cryptocurrency')], urls=[Url(display_url='zpr.io/CMdE9MxgjsEk', expanded_url='https://zpr.io/CMdE9MxgjsEk', indices=(120, 143), url='https://t.co/ZKv0uKIH9l')], user_mentions=[], symbols=[]), favorited=False, retweeted=False, possibly_sensitive=False, lang='en', retweeted_status=None),\n",
              " Tweet(created_at='Thu Jul 01 09:31:10 +0000 2021', id=1410531417516294145, full_text='South African regulators’ renewed sense of urgency on the issue comes as the country grapples with the #Africrypt debacle. https://t.co/HLYa3n76Xg', source='<a href=\"https://zapier.com/\" rel=\"nofollow\">Zapier.com</a>', in_reply_to_status_id=None, in_reply_to_user_id=None, in_reply_to_screen_name=None, user=TweetUser(id=3367334171, name='Bitcoin News', screen_name='BTCTN', location='World Wide', url='https://t.co/oZCuHV2ZwX', description='Official Twitter account for https://t.co/Y3Sm6N0oR5. Follow us for all the latest Bitcoin news and services! Follow @bitcoincom for all https://t.co/5vSQA17h1m updates.', protected=False, verified=True, followers_count=1476740, friends_count=928, listed_count=7520, favourites_count=10091, statuses_count=20323, created_at='Thu Jul 09 08:58:22 +0000 2015', profile_banner_url='https://pbs.twimg.com/profile_banners/3367334171/1560756921', profile_image_url_https='https://pbs.twimg.com/profile_images/1140965421908144128/_80iSgFS_normal.png', default_profile=False, default_profile_image=False, withheld_in_countries=[]), coordinates=None, place=None, is_quote_status=False, quoted_status_id=None, quoted_status=None, retweet_count=34, favorite_count=134, entities=Entities(hashtags=[Hashtag(indices=(103, 113), text='Africrypt')], urls=[Url(display_url='zpr.io/Dbf8RkZr9esG', expanded_url='https://zpr.io/Dbf8RkZr9esG', indices=(123, 146), url='https://t.co/HLYa3n76Xg')], user_mentions=[], symbols=[]), favorited=False, retweeted=False, possibly_sensitive=False, lang='en', retweeted_status=None),\n",
              " Tweet(created_at='Thu Jul 01 08:32:33 +0000 2021', id=1410516665599680513, full_text='\"There’s a significant sentiment in Congress that if you’re participating in an anonymous #crypto transaction that you’re a de-facto participant in a criminal conspiracy.\" #bitcoin #cryptocurrency https://t.co/KpmtEkZ52e', source='<a href=\"https://zapier.com/\" rel=\"nofollow\">Zapier.com</a>', in_reply_to_status_id=None, in_reply_to_user_id=None, in_reply_to_screen_name=None, user=TweetUser(id=3367334171, name='Bitcoin News', screen_name='BTCTN', location='World Wide', url='https://t.co/oZCuHV2ZwX', description='Official Twitter account for https://t.co/Y3Sm6N0oR5. Follow us for all the latest Bitcoin news and services! Follow @bitcoincom for all https://t.co/5vSQA17h1m updates.', protected=False, verified=True, followers_count=1476740, friends_count=928, listed_count=7520, favourites_count=10091, statuses_count=20323, created_at='Thu Jul 09 08:58:22 +0000 2015', profile_banner_url='https://pbs.twimg.com/profile_banners/3367334171/1560756921', profile_image_url_https='https://pbs.twimg.com/profile_images/1140965421908144128/_80iSgFS_normal.png', default_profile=False, default_profile_image=False, withheld_in_countries=[]), coordinates=None, place=None, is_quote_status=False, quoted_status_id=None, quoted_status=None, retweet_count=38, favorite_count=117, entities=Entities(hashtags=[Hashtag(indices=(90, 97), text='crypto'), Hashtag(indices=(172, 180), text='bitcoin'), Hashtag(indices=(181, 196), text='cryptocurrency')], urls=[Url(display_url='zpr.io/zXH3rhXru8Vb', expanded_url='https://zpr.io/zXH3rhXru8Vb', indices=(197, 220), url='https://t.co/KpmtEkZ52e')], user_mentions=[], symbols=[]), favorited=False, retweeted=False, possibly_sensitive=False, lang='en', retweeted_status=None),\n",
              " Tweet(created_at='Thu Jul 01 07:32:52 +0000 2021', id=1410501646287785987, full_text='The railway line 5 in Suzhou was the first subway system in China to start accepting the #DigitalYuan. https://t.co/HukpAhAajL', source='<a href=\"https://zapier.com/\" rel=\"nofollow\">Zapier.com</a>', in_reply_to_status_id=None, in_reply_to_user_id=None, in_reply_to_screen_name=None, user=TweetUser(id=3367334171, name='Bitcoin News', screen_name='BTCTN', location='World Wide', url='https://t.co/oZCuHV2ZwX', description='Official Twitter account for https://t.co/Y3Sm6N0oR5. Follow us for all the latest Bitcoin news and services! Follow @bitcoincom for all https://t.co/5vSQA17h1m updates.', protected=False, verified=True, followers_count=1476740, friends_count=928, listed_count=7520, favourites_count=10091, statuses_count=20323, created_at='Thu Jul 09 08:58:22 +0000 2015', profile_banner_url='https://pbs.twimg.com/profile_banners/3367334171/1560756921', profile_image_url_https='https://pbs.twimg.com/profile_images/1140965421908144128/_80iSgFS_normal.png', default_profile=False, default_profile_image=False, withheld_in_countries=[]), coordinates=None, place=None, is_quote_status=False, quoted_status_id=None, quoted_status=None, retweet_count=50, favorite_count=165, entities=Entities(hashtags=[Hashtag(indices=(89, 101), text='DigitalYuan')], urls=[Url(display_url='zpr.io/TQ2GG3YuphEG', expanded_url='https://zpr.io/TQ2GG3YuphEG', indices=(103, 126), url='https://t.co/HukpAhAajL')], user_mentions=[], symbols=[]), favorited=False, retweeted=False, possibly_sensitive=False, lang='en', retweeted_status=None),\n",
              " Tweet(created_at='Thu Jul 01 06:32:18 +0000 2021', id=1410486404224851969, full_text='\"Soon any app built on decentralized crypto rails will be accessible to users of the Coinbase app,\" said Coinbase. #cryptocurrency https://t.co/HED35D8Crw', source='<a href=\"https://zapier.com/\" rel=\"nofollow\">Zapier.com</a>', in_reply_to_status_id=None, in_reply_to_user_id=None, in_reply_to_screen_name=None, user=TweetUser(id=3367334171, name='Bitcoin News', screen_name='BTCTN', location='World Wide', url='https://t.co/oZCuHV2ZwX', description='Official Twitter account for https://t.co/Y3Sm6N0oR5. Follow us for all the latest Bitcoin news and services! Follow @bitcoincom for all https://t.co/5vSQA17h1m updates.', protected=False, verified=True, followers_count=1476740, friends_count=928, listed_count=7520, favourites_count=10091, statuses_count=20323, created_at='Thu Jul 09 08:58:22 +0000 2015', profile_banner_url='https://pbs.twimg.com/profile_banners/3367334171/1560756921', profile_image_url_https='https://pbs.twimg.com/profile_images/1140965421908144128/_80iSgFS_normal.png', default_profile=False, default_profile_image=False, withheld_in_countries=[]), coordinates=None, place=None, is_quote_status=False, quoted_status_id=None, quoted_status=None, retweet_count=93, favorite_count=283, entities=Entities(hashtags=[Hashtag(indices=(115, 130), text='cryptocurrency')], urls=[Url(display_url='zpr.io/JvBQ3Bpz2qsV', expanded_url='https://zpr.io/JvBQ3Bpz2qsV', indices=(131, 154), url='https://t.co/HED35D8Crw')], user_mentions=[], symbols=[]), favorited=False, retweeted=False, possibly_sensitive=False, lang='en', retweeted_status=None),\n",
              " Tweet(created_at='Thu Jul 01 05:31:32 +0000 2021', id=1410471111700123649, full_text='#Crypto miners in Kazakhstan to pay higher rates for the electricity they use to mint digital coins. https://t.co/ggKNhDgLlo', source='<a href=\"https://zapier.com/\" rel=\"nofollow\">Zapier.com</a>', in_reply_to_status_id=None, in_reply_to_user_id=None, in_reply_to_screen_name=None, user=TweetUser(id=3367334171, name='Bitcoin News', screen_name='BTCTN', location='World Wide', url='https://t.co/oZCuHV2ZwX', description='Official Twitter account for https://t.co/Y3Sm6N0oR5. Follow us for all the latest Bitcoin news and services! Follow @bitcoincom for all https://t.co/5vSQA17h1m updates.', protected=False, verified=True, followers_count=1476740, friends_count=928, listed_count=7520, favourites_count=10091, statuses_count=20323, created_at='Thu Jul 09 08:58:22 +0000 2015', profile_banner_url='https://pbs.twimg.com/profile_banners/3367334171/1560756921', profile_image_url_https='https://pbs.twimg.com/profile_images/1140965421908144128/_80iSgFS_normal.png', default_profile=False, default_profile_image=False, withheld_in_countries=[]), coordinates=None, place=None, is_quote_status=False, quoted_status_id=None, quoted_status=None, retweet_count=55, favorite_count=209, entities=Entities(hashtags=[Hashtag(indices=(0, 7), text='Crypto')], urls=[Url(display_url='zpr.io/frcME5UPFxUS', expanded_url='https://zpr.io/frcME5UPFxUS', indices=(101, 124), url='https://t.co/ggKNhDgLlo')], user_mentions=[], symbols=[]), favorited=False, retweeted=False, possibly_sensitive=False, lang='en', retweeted_status=None),\n",
              " Tweet(created_at='Thu Jul 01 05:01:51 +0000 2021', id=1410463639912525827, full_text='Ventup, the IDO Launchpad by Vent, Connects Game-Changers With Investors https://t.co/DYRxbuj1Xn', source='<a href=\"https://zapier.com/\" rel=\"nofollow\">Zapier.com</a>', in_reply_to_status_id=None, in_reply_to_user_id=None, in_reply_to_screen_name=None, user=TweetUser(id=3367334171, name='Bitcoin News', screen_name='BTCTN', location='World Wide', url='https://t.co/oZCuHV2ZwX', description='Official Twitter account for https://t.co/Y3Sm6N0oR5. Follow us for all the latest Bitcoin news and services! Follow @bitcoincom for all https://t.co/5vSQA17h1m updates.', protected=False, verified=True, followers_count=1476740, friends_count=928, listed_count=7520, favourites_count=10091, statuses_count=20323, created_at='Thu Jul 09 08:58:22 +0000 2015', profile_banner_url='https://pbs.twimg.com/profile_banners/3367334171/1560756921', profile_image_url_https='https://pbs.twimg.com/profile_images/1140965421908144128/_80iSgFS_normal.png', default_profile=False, default_profile_image=False, withheld_in_countries=[]), coordinates=None, place=None, is_quote_status=False, quoted_status_id=None, quoted_status=None, retweet_count=14, favorite_count=67, entities=Entities(hashtags=[], urls=[Url(display_url='zpr.io/Cz9WsFvp526n', expanded_url='https://zpr.io/Cz9WsFvp526n', indices=(73, 96), url='https://t.co/DYRxbuj1Xn')], user_mentions=[], symbols=[]), favorited=False, retweeted=False, possibly_sensitive=False, lang='en', retweeted_status=None),\n",
              " Tweet(created_at='Thu Jul 01 04:36:21 +0000 2021', id=1410457220706406402, full_text='https://t.co/naww3BFuC0 secures brand presence at F1 events this season. #cryptocurrency #racing https://t.co/0HRJxswdWp', source='<a href=\"https://zapier.com/\" rel=\"nofollow\">Zapier.com</a>', in_reply_to_status_id=None, in_reply_to_user_id=None, in_reply_to_screen_name=None, user=TweetUser(id=3367334171, name='Bitcoin News', screen_name='BTCTN', location='World Wide', url='https://t.co/oZCuHV2ZwX', description='Official Twitter account for https://t.co/Y3Sm6N0oR5. Follow us for all the latest Bitcoin news and services! Follow @bitcoincom for all https://t.co/5vSQA17h1m updates.', protected=False, verified=True, followers_count=1476740, friends_count=928, listed_count=7520, favourites_count=10091, statuses_count=20323, created_at='Thu Jul 09 08:58:22 +0000 2015', profile_banner_url='https://pbs.twimg.com/profile_banners/3367334171/1560756921', profile_image_url_https='https://pbs.twimg.com/profile_images/1140965421908144128/_80iSgFS_normal.png', default_profile=False, default_profile_image=False, withheld_in_countries=[]), coordinates=None, place=None, is_quote_status=False, quoted_status_id=None, quoted_status=None, retweet_count=22, favorite_count=127, entities=Entities(hashtags=[Hashtag(indices=(73, 88), text='cryptocurrency'), Hashtag(indices=(89, 96), text='racing')], urls=[Url(display_url='zpr.io/nMeQg', expanded_url='https://zpr.io/nMeQg', indices=(0, 23), url='https://t.co/naww3BFuC0'), Url(display_url='zpr.io/XuexQpLqtiM8', expanded_url='https://zpr.io/XuexQpLqtiM8', indices=(97, 120), url='https://t.co/0HRJxswdWp')], user_mentions=[], symbols=[]), favorited=False, retweeted=False, possibly_sensitive=False, lang='en', retweeted_status=None),\n",
              " Tweet(created_at='Thu Jul 01 03:31:47 +0000 2021', id=1410440973205884928, full_text='An interesting assortment of #crypto assets have seen double-digit gains as larger competitors like #bitcoin and #ethereum have seen weaker improvements. https://t.co/mJwLhz7fqm', source='<a href=\"https://zapier.com/\" rel=\"nofollow\">Zapier.com</a>', in_reply_to_status_id=None, in_reply_to_user_id=None, in_reply_to_screen_name=None, user=TweetUser(id=3367334171, name='Bitcoin News', screen_name='BTCTN', location='World Wide', url='https://t.co/oZCuHV2ZwX', description='Official Twitter account for https://t.co/Y3Sm6N0oR5. Follow us for all the latest Bitcoin news and services! Follow @bitcoincom for all https://t.co/5vSQA17h1m updates.', protected=False, verified=True, followers_count=1476740, friends_count=928, listed_count=7520, favourites_count=10091, statuses_count=20323, created_at='Thu Jul 09 08:58:22 +0000 2015', profile_banner_url='https://pbs.twimg.com/profile_banners/3367334171/1560756921', profile_image_url_https='https://pbs.twimg.com/profile_images/1140965421908144128/_80iSgFS_normal.png', default_profile=False, default_profile_image=False, withheld_in_countries=[]), coordinates=None, place=None, is_quote_status=False, quoted_status_id=None, quoted_status=None, retweet_count=29, favorite_count=110, entities=Entities(hashtags=[Hashtag(indices=(29, 36), text='crypto'), Hashtag(indices=(100, 108), text='bitcoin'), Hashtag(indices=(113, 122), text='ethereum')], urls=[Url(display_url='zpr.io/ryzBhRMcd626', expanded_url='https://zpr.io/ryzBhRMcd626', indices=(154, 177), url='https://t.co/mJwLhz7fqm')], user_mentions=[], symbols=[]), favorited=False, retweeted=False, possibly_sensitive=False, lang='en', retweeted_status=None),\n",
              " Tweet(created_at='Thu Jul 01 01:31:55 +0000 2021', id=1410410807565983757, full_text='From 2010 to the last day of June this year, #bitcoin has died 422 times, according to bitcoin obituaries stats. https://t.co/xhJoPIqHbc', source='<a href=\"https://zapier.com/\" rel=\"nofollow\">Zapier.com</a>', in_reply_to_status_id=None, in_reply_to_user_id=None, in_reply_to_screen_name=None, user=TweetUser(id=3367334171, name='Bitcoin News', screen_name='BTCTN', location='World Wide', url='https://t.co/oZCuHV2ZwX', description='Official Twitter account for https://t.co/Y3Sm6N0oR5. Follow us for all the latest Bitcoin news and services! Follow @bitcoincom for all https://t.co/5vSQA17h1m updates.', protected=False, verified=True, followers_count=1476740, friends_count=928, listed_count=7520, favourites_count=10091, statuses_count=20323, created_at='Thu Jul 09 08:58:22 +0000 2015', profile_banner_url='https://pbs.twimg.com/profile_banners/3367334171/1560756921', profile_image_url_https='https://pbs.twimg.com/profile_images/1140965421908144128/_80iSgFS_normal.png', default_profile=False, default_profile_image=False, withheld_in_countries=[]), coordinates=None, place=None, is_quote_status=False, quoted_status_id=None, quoted_status=None, retweet_count=49, favorite_count=189, entities=Entities(hashtags=[Hashtag(indices=(45, 53), text='bitcoin')], urls=[Url(display_url='zpr.io/i5kNt8RiWpdA', expanded_url='https://zpr.io/i5kNt8RiWpdA', indices=(113, 136), url='https://t.co/xhJoPIqHbc')], user_mentions=[], symbols=[]), favorited=False, retweeted=False, possibly_sensitive=False, lang='en', retweeted_status=None),\n",
              " Tweet(created_at='Thu Jul 01 01:31:27 +0000 2021', id=1410410689420840963, full_text='\"The potential benefits of a Federal Reserve #CBDC are unclear. Conversely, a Federal Reserve #CBDC could pose significant and concrete risks.\" #digitaldollar #bitcoin #cryptocurrency https://t.co/ZKv0uKIH9l', source='<a href=\"https://zapier.com/\" rel=\"nofollow\">Zapier.com</a>', in_reply_to_status_id=None, in_reply_to_user_id=None, in_reply_to_screen_name=None, user=TweetUser(id=3367334171, name='Bitcoin News', screen_name='BTCTN', location='World Wide', url='https://t.co/oZCuHV2ZwX', description='Official Twitter account for https://t.co/Y3Sm6N0oR5. Follow us for all the latest Bitcoin news and services! Follow @bitcoincom for all https://t.co/5vSQA17h1m updates.', protected=False, verified=True, followers_count=1476740, friends_count=928, listed_count=7520, favourites_count=10091, statuses_count=20323, created_at='Thu Jul 09 08:58:22 +0000 2015', profile_banner_url='https://pbs.twimg.com/profile_banners/3367334171/1560756921', profile_image_url_https='https://pbs.twimg.com/profile_images/1140965421908144128/_80iSgFS_normal.png', default_profile=False, default_profile_image=False, withheld_in_countries=[]), coordinates=None, place=None, is_quote_status=False, quoted_status_id=None, quoted_status=None, retweet_count=22, favorite_count=70, entities=Entities(hashtags=[Hashtag(indices=(45, 50), text='CBDC'), Hashtag(indices=(94, 99), text='CBDC'), Hashtag(indices=(144, 158), text='digitaldollar'), Hashtag(indices=(159, 167), text='bitcoin'), Hashtag(indices=(168, 183), text='cryptocurrency')], urls=[Url(display_url='zpr.io/CMdE9MxgjsEk', expanded_url='https://zpr.io/CMdE9MxgjsEk', indices=(184, 207), url='https://t.co/ZKv0uKIH9l')], user_mentions=[], symbols=[]), favorited=False, retweeted=False, possibly_sensitive=False, lang='en', retweeted_status=None),\n",
              " Tweet(created_at='Thu Jul 01 00:03:22 +0000 2021', id=1410388522125639681, full_text='\"We\\'re firm believers in the benefits of #crypto and the strategic application,\" said payments giant NCR. #bitcoin https://t.co/is9pym5eq7', source='<a href=\"https://zapier.com/\" rel=\"nofollow\">Zapier.com</a>', in_reply_to_status_id=None, in_reply_to_user_id=None, in_reply_to_screen_name=None, user=TweetUser(id=3367334171, name='Bitcoin News', screen_name='BTCTN', location='World Wide', url='https://t.co/oZCuHV2ZwX', description='Official Twitter account for https://t.co/Y3Sm6N0oR5. Follow us for all the latest Bitcoin news and services! Follow @bitcoincom for all https://t.co/5vSQA17h1m updates.', protected=False, verified=True, followers_count=1476740, friends_count=928, listed_count=7520, favourites_count=10091, statuses_count=20323, created_at='Thu Jul 09 08:58:22 +0000 2015', profile_banner_url='https://pbs.twimg.com/profile_banners/3367334171/1560756921', profile_image_url_https='https://pbs.twimg.com/profile_images/1140965421908144128/_80iSgFS_normal.png', default_profile=False, default_profile_image=False, withheld_in_countries=[]), coordinates=None, place=None, is_quote_status=False, quoted_status_id=None, quoted_status=None, retweet_count=48, favorite_count=177, entities=Entities(hashtags=[Hashtag(indices=(41, 48), text='crypto'), Hashtag(indices=(106, 114), text='bitcoin')], urls=[Url(display_url='zpr.io/HTGrs3WxwHsB', expanded_url='https://zpr.io/HTGrs3WxwHsB', indices=(115, 138), url='https://t.co/is9pym5eq7')], user_mentions=[], symbols=[]), favorited=False, retweeted=False, possibly_sensitive=False, lang='en', retweeted_status=None),\n",
              " Tweet(created_at='Wed Jun 30 23:32:27 +0000 2021', id=1410380745114324992, full_text='A U.S. congressman has called for a law that allows the government to reverse cryptocurrency transactions. #bitcoin #cryptocurrency https://t.co/KpmtEkZ52e', source='<a href=\"https://zapier.com/\" rel=\"nofollow\">Zapier.com</a>', in_reply_to_status_id=None, in_reply_to_user_id=None, in_reply_to_screen_name=None, user=TweetUser(id=3367334171, name='Bitcoin News', screen_name='BTCTN', location='World Wide', url='https://t.co/oZCuHV2ZwX', description='Official Twitter account for https://t.co/Y3Sm6N0oR5. Follow us for all the latest Bitcoin news and services! Follow @bitcoincom for all https://t.co/5vSQA17h1m updates.', protected=False, verified=True, followers_count=1476740, friends_count=928, listed_count=7520, favourites_count=10091, statuses_count=20323, created_at='Thu Jul 09 08:58:22 +0000 2015', profile_banner_url='https://pbs.twimg.com/profile_banners/3367334171/1560756921', profile_image_url_https='https://pbs.twimg.com/profile_images/1140965421908144128/_80iSgFS_normal.png', default_profile=False, default_profile_image=False, withheld_in_countries=[]), coordinates=None, place=None, is_quote_status=False, quoted_status_id=None, quoted_status=None, retweet_count=77, favorite_count=325, entities=Entities(hashtags=[Hashtag(indices=(107, 115), text='bitcoin'), Hashtag(indices=(116, 131), text='cryptocurrency')], urls=[Url(display_url='zpr.io/zXH3rhXru8Vb', expanded_url='https://zpr.io/zXH3rhXru8Vb', indices=(132, 155), url='https://t.co/KpmtEkZ52e')], user_mentions=[], symbols=[]), favorited=False, retweeted=False, possibly_sensitive=False, lang='en', retweeted_status=None),\n",
              " Tweet(created_at='Wed Jun 30 22:32:42 +0000 2021', id=1410365705468485636, full_text='The DOJ says Hopkins told his client \"how to circumvent financial institution reporting requirements by keeping deposits under $9,500\" and directed him \"to lie to financial institutions.\" #bitcoin https://t.co/YsEwQ0cH8h', source='<a href=\"https://zapier.com/\" rel=\"nofollow\">Zapier.com</a>', in_reply_to_status_id=None, in_reply_to_user_id=None, in_reply_to_screen_name=None, user=TweetUser(id=3367334171, name='Bitcoin News', screen_name='BTCTN', location='World Wide', url='https://t.co/oZCuHV2ZwX', description='Official Twitter account for https://t.co/Y3Sm6N0oR5. Follow us for all the latest Bitcoin news and services! Follow @bitcoincom for all https://t.co/5vSQA17h1m updates.', protected=False, verified=True, followers_count=1476740, friends_count=928, listed_count=7520, favourites_count=10091, statuses_count=20323, created_at='Thu Jul 09 08:58:22 +0000 2015', profile_banner_url='https://pbs.twimg.com/profile_banners/3367334171/1560756921', profile_image_url_https='https://pbs.twimg.com/profile_images/1140965421908144128/_80iSgFS_normal.png', default_profile=False, default_profile_image=False, withheld_in_countries=[]), coordinates=None, place=None, is_quote_status=False, quoted_status_id=None, quoted_status=None, retweet_count=19, favorite_count=84, entities=Entities(hashtags=[Hashtag(indices=(188, 196), text='bitcoin')], urls=[Url(display_url='zpr.io/NDyePpP2ZLEC', expanded_url='https://zpr.io/NDyePpP2ZLEC', indices=(197, 220), url='https://t.co/YsEwQ0cH8h')], user_mentions=[], symbols=[]), favorited=False, retweeted=False, possibly_sensitive=False, lang='en', retweeted_status=None),\n",
              " Tweet(created_at='Wed Jun 30 21:32:13 +0000 2021', id=1410350487635906563, full_text='\"Apple didn’t attempt to build every app for the iPhone, it empowered developers and gave mobile users an easy way to access new innovative apps,\" said Coinbase. #cryptocurrency https://t.co/HED35D8Crw', source='<a href=\"https://zapier.com/\" rel=\"nofollow\">Zapier.com</a>', in_reply_to_status_id=None, in_reply_to_user_id=None, in_reply_to_screen_name=None, user=TweetUser(id=3367334171, name='Bitcoin News', screen_name='BTCTN', location='World Wide', url='https://t.co/oZCuHV2ZwX', description='Official Twitter account for https://t.co/Y3Sm6N0oR5. Follow us for all the latest Bitcoin news and services! Follow @bitcoincom for all https://t.co/5vSQA17h1m updates.', protected=False, verified=True, followers_count=1476740, friends_count=928, listed_count=7520, favourites_count=10091, statuses_count=20323, created_at='Thu Jul 09 08:58:22 +0000 2015', profile_banner_url='https://pbs.twimg.com/profile_banners/3367334171/1560756921', profile_image_url_https='https://pbs.twimg.com/profile_images/1140965421908144128/_80iSgFS_normal.png', default_profile=False, default_profile_image=False, withheld_in_countries=[]), coordinates=None, place=None, is_quote_status=False, quoted_status_id=None, quoted_status=None, retweet_count=44, favorite_count=203, entities=Entities(hashtags=[Hashtag(indices=(162, 177), text='cryptocurrency')], urls=[Url(display_url='zpr.io/JvBQ3Bpz2qsV', expanded_url='https://zpr.io/JvBQ3Bpz2qsV', indices=(178, 201), url='https://t.co/HED35D8Crw')], user_mentions=[], symbols=[]), favorited=False, retweeted=False, possibly_sensitive=False, lang='en', retweeted_status=None),\n",
              " Tweet(created_at='Wed Jun 30 21:02:49 +0000 2021', id=1410343085641551882, full_text='Triall: Bridging the Gap Between Medical Research and Blockchain Technology https://t.co/0EOACNsJ16', source='<a href=\"https://zapier.com/\" rel=\"nofollow\">Zapier.com</a>', in_reply_to_status_id=None, in_reply_to_user_id=None, in_reply_to_screen_name=None, user=TweetUser(id=3367334171, name='Bitcoin News', screen_name='BTCTN', location='World Wide', url='https://t.co/oZCuHV2ZwX', description='Official Twitter account for https://t.co/Y3Sm6N0oR5. Follow us for all the latest Bitcoin news and services! Follow @bitcoincom for all https://t.co/5vSQA17h1m updates.', protected=False, verified=True, followers_count=1476740, friends_count=928, listed_count=7520, favourites_count=10091, statuses_count=20323, created_at='Thu Jul 09 08:58:22 +0000 2015', profile_banner_url='https://pbs.twimg.com/profile_banners/3367334171/1560756921', profile_image_url_https='https://pbs.twimg.com/profile_images/1140965421908144128/_80iSgFS_normal.png', default_profile=False, default_profile_image=False, withheld_in_countries=[]), coordinates=None, place=None, is_quote_status=False, quoted_status_id=None, quoted_status=None, retweet_count=42, favorite_count=102, entities=Entities(hashtags=[], urls=[Url(display_url='zpr.io/4F26aKL9Nbrz', expanded_url='https://zpr.io/4F26aKL9Nbrz', indices=(76, 99), url='https://t.co/0EOACNsJ16')], user_mentions=[], symbols=[]), favorited=False, retweeted=False, possibly_sensitive=False, lang='en', retweeted_status=None),\n",
              " Tweet(created_at='Wed Jun 30 20:30:46 +0000 2021', id=1410335022599507969, full_text='\"To protect our customers from the criminals exploiting these platforms, we\\'re temporarily reducing the maximum daily amount that a customer can send to #cryptocurrency exchanges.\" #bitcoin https://t.co/DCVuA3WyNf', source='<a href=\"https://zapier.com/\" rel=\"nofollow\">Zapier.com</a>', in_reply_to_status_id=None, in_reply_to_user_id=None, in_reply_to_screen_name=None, user=TweetUser(id=3367334171, name='Bitcoin News', screen_name='BTCTN', location='World Wide', url='https://t.co/oZCuHV2ZwX', description='Official Twitter account for https://t.co/Y3Sm6N0oR5. Follow us for all the latest Bitcoin news and services! Follow @bitcoincom for all https://t.co/5vSQA17h1m updates.', protected=False, verified=True, followers_count=1476740, friends_count=928, listed_count=7520, favourites_count=10091, statuses_count=20323, created_at='Thu Jul 09 08:58:22 +0000 2015', profile_banner_url='https://pbs.twimg.com/profile_banners/3367334171/1560756921', profile_image_url_https='https://pbs.twimg.com/profile_images/1140965421908144128/_80iSgFS_normal.png', default_profile=False, default_profile_image=False, withheld_in_countries=[]), coordinates=None, place=None, is_quote_status=False, quoted_status_id=None, quoted_status=None, retweet_count=31, favorite_count=101, entities=Entities(hashtags=[Hashtag(indices=(153, 168), text='cryptocurrency'), Hashtag(indices=(181, 189), text='bitcoin')], urls=[Url(display_url='zpr.io/YtcJzrvwHf3V', expanded_url='https://zpr.io/YtcJzrvwHf3V', indices=(190, 213), url='https://t.co/DCVuA3WyNf')], user_mentions=[], symbols=[]), favorited=False, retweeted=False, possibly_sensitive=False, lang='en', retweeted_status=None),\n",
              " Tweet(created_at='Wed Jun 30 19:36:19 +0000 2021', id=1410321316935352325, full_text='Formula 1 signs long-term, multimillion #crypto sponsorship deal. https://t.co/0HRJxswdWp', source='<a href=\"https://zapier.com/\" rel=\"nofollow\">Zapier.com</a>', in_reply_to_status_id=None, in_reply_to_user_id=None, in_reply_to_screen_name=None, user=TweetUser(id=3367334171, name='Bitcoin News', screen_name='BTCTN', location='World Wide', url='https://t.co/oZCuHV2ZwX', description='Official Twitter account for https://t.co/Y3Sm6N0oR5. Follow us for all the latest Bitcoin news and services! Follow @bitcoincom for all https://t.co/5vSQA17h1m updates.', protected=False, verified=True, followers_count=1476740, friends_count=928, listed_count=7520, favourites_count=10091, statuses_count=20323, created_at='Thu Jul 09 08:58:22 +0000 2015', profile_banner_url='https://pbs.twimg.com/profile_banners/3367334171/1560756921', profile_image_url_https='https://pbs.twimg.com/profile_images/1140965421908144128/_80iSgFS_normal.png', default_profile=False, default_profile_image=False, withheld_in_countries=[]), coordinates=None, place=None, is_quote_status=False, quoted_status_id=None, quoted_status=None, retweet_count=88, favorite_count=346, entities=Entities(hashtags=[Hashtag(indices=(40, 47), text='crypto')], urls=[Url(display_url='zpr.io/XuexQpLqtiM8', expanded_url='https://zpr.io/XuexQpLqtiM8', indices=(66, 89), url='https://t.co/0HRJxswdWp')], user_mentions=[], symbols=[]), favorited=False, retweeted=False, possibly_sensitive=False, lang='en', retweeted_status=None),\n",
              " Tweet(created_at='Wed Jun 30 19:03:06 +0000 2021', id=1410312958505328644, full_text='While #Sushiswap obtained 9.9% of the seven-day cumulative dex trade volume last week, the top dex application #Uniswap processed 67.5% of all trades. #DeFi https://t.co/tN5Y0nKG0K', source='<a href=\"https://zapier.com/\" rel=\"nofollow\">Zapier.com</a>', in_reply_to_status_id=None, in_reply_to_user_id=None, in_reply_to_screen_name=None, user=TweetUser(id=3367334171, name='Bitcoin News', screen_name='BTCTN', location='World Wide', url='https://t.co/oZCuHV2ZwX', description='Official Twitter account for https://t.co/Y3Sm6N0oR5. Follow us for all the latest Bitcoin news and services! Follow @bitcoincom for all https://t.co/5vSQA17h1m updates.', protected=False, verified=True, followers_count=1476740, friends_count=928, listed_count=7520, favourites_count=10091, statuses_count=20323, created_at='Thu Jul 09 08:58:22 +0000 2015', profile_banner_url='https://pbs.twimg.com/profile_banners/3367334171/1560756921', profile_image_url_https='https://pbs.twimg.com/profile_images/1140965421908144128/_80iSgFS_normal.png', default_profile=False, default_profile_image=False, withheld_in_countries=[]), coordinates=None, place=None, is_quote_status=False, quoted_status_id=None, quoted_status=None, retweet_count=21, favorite_count=70, entities=Entities(hashtags=[Hashtag(indices=(6, 16), text='Sushiswap'), Hashtag(indices=(111, 119), text='Uniswap'), Hashtag(indices=(151, 156), text='DeFi')], urls=[Url(display_url='zpr.io/eyhBpnrpf369', expanded_url='https://zpr.io/eyhBpnrpf369', indices=(157, 180), url='https://t.co/tN5Y0nKG0K')], user_mentions=[], symbols=[]), favorited=False, retweeted=False, possibly_sensitive=False, lang='en', retweeted_status=None),\n",
              " Tweet(created_at='Wed Jun 30 18:01:50 +0000 2021', id=1410297541653151757, full_text='Blockware Mining aims to create a better worldwide distribution of the #Bitcoin network while making the hashrate in the US more globally competitive, the company detailed on Wednesday. https://t.co/LBB3F8hs3C', source='<a href=\"https://zapier.com/\" rel=\"nofollow\">Zapier.com</a>', in_reply_to_status_id=None, in_reply_to_user_id=None, in_reply_to_screen_name=None, user=TweetUser(id=3367334171, name='Bitcoin News', screen_name='BTCTN', location='World Wide', url='https://t.co/oZCuHV2ZwX', description='Official Twitter account for https://t.co/Y3Sm6N0oR5. Follow us for all the latest Bitcoin news and services! Follow @bitcoincom for all https://t.co/5vSQA17h1m updates.', protected=False, verified=True, followers_count=1476740, friends_count=928, listed_count=7520, favourites_count=10091, statuses_count=20323, created_at='Thu Jul 09 08:58:22 +0000 2015', profile_banner_url='https://pbs.twimg.com/profile_banners/3367334171/1560756921', profile_image_url_https='https://pbs.twimg.com/profile_images/1140965421908144128/_80iSgFS_normal.png', default_profile=False, default_profile_image=False, withheld_in_countries=[]), coordinates=None, place=None, is_quote_status=False, quoted_status_id=None, quoted_status=None, retweet_count=34, favorite_count=141, entities=Entities(hashtags=[Hashtag(indices=(71, 79), text='Bitcoin')], urls=[Url(display_url='zpr.io/2wmPi5TJ735v', expanded_url='https://zpr.io/2wmPi5TJ735v', indices=(186, 209), url='https://t.co/LBB3F8hs3C')], user_mentions=[], symbols=[]), favorited=False, retweeted=False, possibly_sensitive=False, lang='en', retweeted_status=None),\n",
              " Tweet(created_at='Wed Jun 30 17:32:14 +0000 2021', id=1410290093521317889, full_text='Treasury will offer a Fixed fixed interest rate of 4% per year, allowing institutions to use the protocol by wiring dollars to a treasury account. #defi #cryptocurrency https://t.co/KgC2JZ46bD', source='<a href=\"https://zapier.com/\" rel=\"nofollow\">Zapier.com</a>', in_reply_to_status_id=None, in_reply_to_user_id=None, in_reply_to_screen_name=None, user=TweetUser(id=3367334171, name='Bitcoin News', screen_name='BTCTN', location='World Wide', url='https://t.co/oZCuHV2ZwX', description='Official Twitter account for https://t.co/Y3Sm6N0oR5. Follow us for all the latest Bitcoin news and services! Follow @bitcoincom for all https://t.co/5vSQA17h1m updates.', protected=False, verified=True, followers_count=1476740, friends_count=928, listed_count=7520, favourites_count=10091, statuses_count=20323, created_at='Thu Jul 09 08:58:22 +0000 2015', profile_banner_url='https://pbs.twimg.com/profile_banners/3367334171/1560756921', profile_image_url_https='https://pbs.twimg.com/profile_images/1140965421908144128/_80iSgFS_normal.png', default_profile=False, default_profile_image=False, withheld_in_countries=[]), coordinates=None, place=None, is_quote_status=False, quoted_status_id=None, quoted_status=None, retweet_count=25, favorite_count=86, entities=Entities(hashtags=[Hashtag(indices=(147, 152), text='defi'), Hashtag(indices=(153, 168), text='cryptocurrency')], urls=[Url(display_url='zpr.io/ddva7Mg6hbZq', expanded_url='https://zpr.io/ddva7Mg6hbZq', indices=(169, 192), url='https://t.co/KgC2JZ46bD')], user_mentions=[], symbols=[]), favorited=False, retweeted=False, possibly_sensitive=False, lang='en', retweeted_status=None),\n",
              " Tweet(created_at='Wed Jun 30 16:31:52 +0000 2021', id=1410274901672480769, full_text='\"Bitcoin died 29 times this year so far, while #bitcoin died 14 times in 2020,\" according to bitcoin obituaries stats. https://t.co/xhJoPIqHbc', source='<a href=\"https://zapier.com/\" rel=\"nofollow\">Zapier.com</a>', in_reply_to_status_id=None, in_reply_to_user_id=None, in_reply_to_screen_name=None, user=TweetUser(id=3367334171, name='Bitcoin News', screen_name='BTCTN', location='World Wide', url='https://t.co/oZCuHV2ZwX', description='Official Twitter account for https://t.co/Y3Sm6N0oR5. Follow us for all the latest Bitcoin news and services! Follow @bitcoincom for all https://t.co/5vSQA17h1m updates.', protected=False, verified=True, followers_count=1476740, friends_count=928, listed_count=7520, favourites_count=10091, statuses_count=20323, created_at='Thu Jul 09 08:58:22 +0000 2015', profile_banner_url='https://pbs.twimg.com/profile_banners/3367334171/1560756921', profile_image_url_https='https://pbs.twimg.com/profile_images/1140965421908144128/_80iSgFS_normal.png', default_profile=False, default_profile_image=False, withheld_in_countries=[]), coordinates=None, place=None, is_quote_status=False, quoted_status_id=None, quoted_status=None, retweet_count=49, favorite_count=257, entities=Entities(hashtags=[Hashtag(indices=(47, 55), text='bitcoin')], urls=[Url(display_url='zpr.io/i5kNt8RiWpdA', expanded_url='https://zpr.io/i5kNt8RiWpdA', indices=(119, 142), url='https://t.co/xhJoPIqHbc')], user_mentions=[], symbols=[]), favorited=False, retweeted=False, possibly_sensitive=False, lang='en', retweeted_status=None),\n",
              " Tweet(created_at='Wed Jun 30 16:09:23 +0000 2021', id=1410269240310091795, full_text='Small hydroelectric stations turn to #crypto mining after failing to connect to the Chinese power grid. https://t.co/S6Uwy6t6lW', source='<a href=\"https://zapier.com/\" rel=\"nofollow\">Zapier.com</a>', in_reply_to_status_id=None, in_reply_to_user_id=None, in_reply_to_screen_name=None, user=TweetUser(id=3367334171, name='Bitcoin News', screen_name='BTCTN', location='World Wide', url='https://t.co/oZCuHV2ZwX', description='Official Twitter account for https://t.co/Y3Sm6N0oR5. Follow us for all the latest Bitcoin news and services! Follow @bitcoincom for all https://t.co/5vSQA17h1m updates.', protected=False, verified=True, followers_count=1476740, friends_count=928, listed_count=7520, favourites_count=10091, statuses_count=20323, created_at='Thu Jul 09 08:58:22 +0000 2015', profile_banner_url='https://pbs.twimg.com/profile_banners/3367334171/1560756921', profile_image_url_https='https://pbs.twimg.com/profile_images/1140965421908144128/_80iSgFS_normal.png', default_profile=False, default_profile_image=False, withheld_in_countries=[]), coordinates=None, place=None, is_quote_status=False, quoted_status_id=None, quoted_status=None, retweet_count=36, favorite_count=120, entities=Entities(hashtags=[Hashtag(indices=(37, 44), text='crypto')], urls=[Url(display_url='zpr.io/mgxZ4LTwjL89', expanded_url='https://zpr.io/mgxZ4LTwjL89', indices=(104, 127), url='https://t.co/S6Uwy6t6lW')], user_mentions=[], symbols=[]), favorited=False, retweeted=False, possibly_sensitive=False, lang='en', retweeted_status=None),\n",
              " Tweet(created_at='Wed Jun 30 15:03:18 +0000 2021', id=1410252613438914561, full_text='650 banks and credit unions in the U.S. will soon be able to offer #bitcoin trading to their customers via their mobile applications. #cryptocurrency https://t.co/is9pym5eq7', source='<a href=\"https://zapier.com/\" rel=\"nofollow\">Zapier.com</a>', in_reply_to_status_id=None, in_reply_to_user_id=None, in_reply_to_screen_name=None, user=TweetUser(id=3367334171, name='Bitcoin News', screen_name='BTCTN', location='World Wide', url='https://t.co/oZCuHV2ZwX', description='Official Twitter account for https://t.co/Y3Sm6N0oR5. Follow us for all the latest Bitcoin news and services! Follow @bitcoincom for all https://t.co/5vSQA17h1m updates.', protected=False, verified=True, followers_count=1476740, friends_count=928, listed_count=7520, favourites_count=10091, statuses_count=20323, created_at='Thu Jul 09 08:58:22 +0000 2015', profile_banner_url='https://pbs.twimg.com/profile_banners/3367334171/1560756921', profile_image_url_https='https://pbs.twimg.com/profile_images/1140965421908144128/_80iSgFS_normal.png', default_profile=False, default_profile_image=False, withheld_in_countries=[]), coordinates=None, place=None, is_quote_status=False, quoted_status_id=None, quoted_status=None, retweet_count=251, favorite_count=836, entities=Entities(hashtags=[Hashtag(indices=(67, 75), text='bitcoin'), Hashtag(indices=(134, 149), text='cryptocurrency')], urls=[Url(display_url='zpr.io/HTGrs3WxwHsB', expanded_url='https://zpr.io/HTGrs3WxwHsB', indices=(150, 173), url='https://t.co/is9pym5eq7')], user_mentions=[], symbols=[]), favorited=False, retweeted=False, possibly_sensitive=False, lang='en', retweeted_status=None),\n",
              " Tweet(created_at='Wed Jun 30 13:32:38 +0000 2021', id=1410229793887559688, full_text='\"This defendant ignored federal law and allowed fraudsters to use #bitcoin to operate under the radar of law enforcement.\" #cryptocurrency https://t.co/YsEwQ0cH8h', source='<a href=\"https://zapier.com/\" rel=\"nofollow\">Zapier.com</a>', in_reply_to_status_id=None, in_reply_to_user_id=None, in_reply_to_screen_name=None, user=TweetUser(id=3367334171, name='Bitcoin News', screen_name='BTCTN', location='World Wide', url='https://t.co/oZCuHV2ZwX', description='Official Twitter account for https://t.co/Y3Sm6N0oR5. Follow us for all the latest Bitcoin news and services! Follow @bitcoincom for all https://t.co/5vSQA17h1m updates.', protected=False, verified=True, followers_count=1476740, friends_count=928, listed_count=7520, favourites_count=10091, statuses_count=20323, created_at='Thu Jul 09 08:58:22 +0000 2015', profile_banner_url='https://pbs.twimg.com/profile_banners/3367334171/1560756921', profile_image_url_https='https://pbs.twimg.com/profile_images/1140965421908144128/_80iSgFS_normal.png', default_profile=False, default_profile_image=False, withheld_in_countries=[]), coordinates=None, place=None, is_quote_status=False, quoted_status_id=None, quoted_status=None, retweet_count=49, favorite_count=132, entities=Entities(hashtags=[Hashtag(indices=(66, 74), text='bitcoin'), Hashtag(indices=(123, 138), text='cryptocurrency')], urls=[Url(display_url='zpr.io/NDyePpP2ZLEC', expanded_url='https://zpr.io/NDyePpP2ZLEC', indices=(139, 162), url='https://t.co/YsEwQ0cH8h')], user_mentions=[], symbols=[]), favorited=False, retweeted=False, possibly_sensitive=False, lang='en', retweeted_status=None),\n",
              " Tweet(created_at='Fri Jul 02 10:25:50 +0000 2021', id=1410907558831968261, full_text='test', source='<a href=\"https://mobile.twitter.com\" rel=\"nofollow\">Twitter Web App</a>', in_reply_to_status_id=None, in_reply_to_user_id=None, in_reply_to_screen_name=None, user=TweetUser(id=1146534916064251904, name='teat', screen_name='teat65501837', location='', url=None, description='just testing tweeter api :)', protected=False, verified=False, followers_count=0, friends_count=0, listed_count=0, favourites_count=0, statuses_count=9, created_at='Wed Jul 03 21:43:20 +0000 2019', profile_banner_url='https://pbs.twimg.com/profile_banners/1146534916064251904/1625218462', profile_image_url_https='https://pbs.twimg.com/profile_images/1410894471194087429/h58t3EU4_normal.jpg', default_profile=True, default_profile_image=False, withheld_in_countries=[]), coordinates=None, place=None, is_quote_status=False, quoted_status_id=None, quoted_status=None, retweet_count=0, favorite_count=0, entities=Entities(hashtags=[], urls=[], user_mentions=[], symbols=[]), favorited=False, retweeted=False, possibly_sensitive=None, lang='en', retweeted_status=None),\n",
              " Tweet(created_at='Fri Jul 02 09:18:14 +0000 2021', id=1410890546860769280, full_text='this tweet has a #hash_tag\\nalso has a url https://t.co/XTZZ5oc1Xy\\n@MahdiShobeiri some mention too!', source='<a href=\"https://mobile.twitter.com\" rel=\"nofollow\">Twitter Web App</a>', in_reply_to_status_id=None, in_reply_to_user_id=None, in_reply_to_screen_name=None, user=TweetUser(id=1146534916064251904, name='teat', screen_name='teat65501837', location='', url=None, description='just testing tweeter api :)', protected=False, verified=False, followers_count=0, friends_count=0, listed_count=0, favourites_count=0, statuses_count=9, created_at='Wed Jul 03 21:43:20 +0000 2019', profile_banner_url='https://pbs.twimg.com/profile_banners/1146534916064251904/1625218462', profile_image_url_https='https://pbs.twimg.com/profile_images/1410894471194087429/h58t3EU4_normal.jpg', default_profile=True, default_profile_image=False, withheld_in_countries=[]), coordinates=None, place=None, is_quote_status=False, quoted_status_id=None, quoted_status=None, retweet_count=0, favorite_count=0, entities=Entities(hashtags=[Hashtag(indices=(17, 26), text='hash_tag')], urls=[Url(display_url='google.com', expanded_url='https://www.google.com/', indices=(42, 65), url='https://t.co/XTZZ5oc1Xy')], user_mentions=[UserMention(id=1285595741080170501, indices=(66, 80), name='Mahdi', screen_name='MahdiShobeiri')], symbols=[]), favorited=False, retweeted=False, possibly_sensitive=False, lang='en', retweeted_status=None),\n",
              " Tweet(created_at='Fri Jul 02 08:51:09 +0000 2021', id=1410883732869943300, full_text='RT @teat65501837: long quote from a long tweet long quote from a long tweet long quote from a long tweet long quote from a long tweet long…', source='<a href=\"https://mobile.twitter.com\" rel=\"nofollow\">Twitter Web App</a>', in_reply_to_status_id=None, in_reply_to_user_id=None, in_reply_to_screen_name=None, user=TweetUser(id=1146534916064251904, name='teat', screen_name='teat65501837', location='', url=None, description='just testing tweeter api :)', protected=False, verified=False, followers_count=0, friends_count=0, listed_count=0, favourites_count=0, statuses_count=9, created_at='Wed Jul 03 21:43:20 +0000 2019', profile_banner_url='https://pbs.twimg.com/profile_banners/1146534916064251904/1625218462', profile_image_url_https='https://pbs.twimg.com/profile_images/1410894471194087429/h58t3EU4_normal.jpg', default_profile=True, default_profile_image=False, withheld_in_countries=[]), coordinates=None, place=None, is_quote_status=True, quoted_status_id=1410883353553915909, quoted_status=None, retweet_count=1, favorite_count=0, entities=Entities(hashtags=[], urls=[], user_mentions=[UserMention(id=1146534916064251904, indices=(3, 16), name='teat', screen_name='teat65501837')], symbols=[]), favorited=False, retweeted=False, possibly_sensitive=None, lang='en', retweeted_status=Tweet(created_at='Fri Jul 02 08:50:52 +0000 2021', id=1410883663190007812, full_text='long quote from a long tweet long quote from a long tweet long quote from a long tweet long quote from a long tweet long quote from a long tweet long quote from a long tweet long quote from a long tweet long quote from a long tweet long quote from a long tweet https://t.co/ceSwbyjnPo', source='<a href=\"https://mobile.twitter.com\" rel=\"nofollow\">Twitter Web App</a>', in_reply_to_status_id=None, in_reply_to_user_id=None, in_reply_to_screen_name=None, user=TweetUser(id=1146534916064251904, name='teat', screen_name='teat65501837', location='', url=None, description='just testing tweeter api :)', protected=False, verified=False, followers_count=0, friends_count=0, listed_count=0, favourites_count=0, statuses_count=9, created_at='Wed Jul 03 21:43:20 +0000 2019', profile_banner_url='https://pbs.twimg.com/profile_banners/1146534916064251904/1625218462', profile_image_url_https='https://pbs.twimg.com/profile_images/1410894471194087429/h58t3EU4_normal.jpg', default_profile=True, default_profile_image=False, withheld_in_countries=[]), coordinates=None, place=None, is_quote_status=True, quoted_status_id=1410883353553915909, quoted_status=Tweet(created_at='Fri Jul 02 08:49:39 +0000 2021', id=1410883353553915909, full_text='this is a long tweet this is a long tweet this is a long tweet this is a long tweet this is a long tweet this is a long tweet this is a long tweet this is a long tweet this is a long tweet this is a long tweet this is a long tweet this is a long tweet this is a long tweet', source='<a href=\"https://mobile.twitter.com\" rel=\"nofollow\">Twitter Web App</a>', in_reply_to_status_id=None, in_reply_to_user_id=None, in_reply_to_screen_name=None, user=TweetUser(id=1146534916064251904, name='teat', screen_name='teat65501837', location='', url=None, description='just testing tweeter api :)', protected=False, verified=False, followers_count=0, friends_count=0, listed_count=0, favourites_count=0, statuses_count=9, created_at='Wed Jul 03 21:43:20 +0000 2019', profile_banner_url='https://pbs.twimg.com/profile_banners/1146534916064251904/1625218462', profile_image_url_https='https://pbs.twimg.com/profile_images/1410894471194087429/h58t3EU4_normal.jpg', default_profile=True, default_profile_image=False, withheld_in_countries=[]), coordinates=None, place=None, is_quote_status=False, quoted_status_id=None, quoted_status=None, retweet_count=0, favorite_count=0, entities=Entities(hashtags=[], urls=[], user_mentions=[], symbols=[]), favorited=False, retweeted=False, possibly_sensitive=None, lang='en', retweeted_status=None), retweet_count=1, favorite_count=0, entities=Entities(hashtags=[], urls=[Url(display_url='twitter.com/teat65501837/s…', expanded_url='https://twitter.com/teat65501837/status/1410883353553915909', indices=(261, 284), url='https://t.co/ceSwbyjnPo')], user_mentions=[], symbols=[]), favorited=False, retweeted=False, possibly_sensitive=False, lang='en', retweeted_status=None)),\n",
              " Tweet(created_at='Fri Jul 02 08:50:52 +0000 2021', id=1410883663190007812, full_text='long quote from a long tweet long quote from a long tweet long quote from a long tweet long quote from a long tweet long quote from a long tweet long quote from a long tweet long quote from a long tweet long quote from a long tweet long quote from a long tweet https://t.co/ceSwbyjnPo', source='<a href=\"https://mobile.twitter.com\" rel=\"nofollow\">Twitter Web App</a>', in_reply_to_status_id=None, in_reply_to_user_id=None, in_reply_to_screen_name=None, user=TweetUser(id=1146534916064251904, name='teat', screen_name='teat65501837', location='', url=None, description='just testing tweeter api :)', protected=False, verified=False, followers_count=0, friends_count=0, listed_count=0, favourites_count=0, statuses_count=9, created_at='Wed Jul 03 21:43:20 +0000 2019', profile_banner_url='https://pbs.twimg.com/profile_banners/1146534916064251904/1625218462', profile_image_url_https='https://pbs.twimg.com/profile_images/1410894471194087429/h58t3EU4_normal.jpg', default_profile=True, default_profile_image=False, withheld_in_countries=[]), coordinates=None, place=None, is_quote_status=True, quoted_status_id=1410883353553915909, quoted_status=Tweet(created_at='Fri Jul 02 08:49:39 +0000 2021', id=1410883353553915909, full_text='this is a long tweet this is a long tweet this is a long tweet this is a long tweet this is a long tweet this is a long tweet this is a long tweet this is a long tweet this is a long tweet this is a long tweet this is a long tweet this is a long tweet this is a long tweet', source='<a href=\"https://mobile.twitter.com\" rel=\"nofollow\">Twitter Web App</a>', in_reply_to_status_id=None, in_reply_to_user_id=None, in_reply_to_screen_name=None, user=TweetUser(id=1146534916064251904, name='teat', screen_name='teat65501837', location='', url=None, description='just testing tweeter api :)', protected=False, verified=False, followers_count=0, friends_count=0, listed_count=0, favourites_count=0, statuses_count=9, created_at='Wed Jul 03 21:43:20 +0000 2019', profile_banner_url='https://pbs.twimg.com/profile_banners/1146534916064251904/1625218462', profile_image_url_https='https://pbs.twimg.com/profile_images/1410894471194087429/h58t3EU4_normal.jpg', default_profile=True, default_profile_image=False, withheld_in_countries=[]), coordinates=None, place=None, is_quote_status=False, quoted_status_id=None, quoted_status=None, retweet_count=0, favorite_count=0, entities=Entities(hashtags=[], urls=[], user_mentions=[], symbols=[]), favorited=False, retweeted=False, possibly_sensitive=None, lang='en', retweeted_status=None), retweet_count=1, favorite_count=0, entities=Entities(hashtags=[], urls=[Url(display_url='twitter.com/teat65501837/s…', expanded_url='https://twitter.com/teat65501837/status/1410883353553915909', indices=(261, 284), url='https://t.co/ceSwbyjnPo')], user_mentions=[], symbols=[]), favorited=False, retweeted=False, possibly_sensitive=False, lang='en', retweeted_status=None),\n",
              " Tweet(created_at='Fri Jul 02 08:50:27 +0000 2021', id=1410883558420451328, full_text='quote from a tweet https://t.co/clGsgVtOZU', source='<a href=\"https://mobile.twitter.com\" rel=\"nofollow\">Twitter Web App</a>', in_reply_to_status_id=None, in_reply_to_user_id=None, in_reply_to_screen_name=None, user=TweetUser(id=1146534916064251904, name='teat', screen_name='teat65501837', location='', url=None, description='just testing tweeter api :)', protected=False, verified=False, followers_count=0, friends_count=0, listed_count=0, favourites_count=0, statuses_count=9, created_at='Wed Jul 03 21:43:20 +0000 2019', profile_banner_url='https://pbs.twimg.com/profile_banners/1146534916064251904/1625218462', profile_image_url_https='https://pbs.twimg.com/profile_images/1410894471194087429/h58t3EU4_normal.jpg', default_profile=True, default_profile_image=False, withheld_in_countries=[]), coordinates=None, place=None, is_quote_status=True, quoted_status_id=1410883249942020097, quoted_status=Tweet(created_at='Fri Jul 02 08:49:14 +0000 2021', id=1410883249942020097, full_text='this is a short tweet', source='<a href=\"https://mobile.twitter.com\" rel=\"nofollow\">Twitter Web App</a>', in_reply_to_status_id=None, in_reply_to_user_id=None, in_reply_to_screen_name=None, user=TweetUser(id=1146534916064251904, name='teat', screen_name='teat65501837', location='', url=None, description='just testing tweeter api :)', protected=False, verified=False, followers_count=0, friends_count=0, listed_count=0, favourites_count=0, statuses_count=9, created_at='Wed Jul 03 21:43:20 +0000 2019', profile_banner_url='https://pbs.twimg.com/profile_banners/1146534916064251904/1625218462', profile_image_url_https='https://pbs.twimg.com/profile_images/1410894471194087429/h58t3EU4_normal.jpg', default_profile=True, default_profile_image=False, withheld_in_countries=[]), coordinates=None, place=None, is_quote_status=False, quoted_status_id=None, quoted_status=None, retweet_count=1, favorite_count=0, entities=Entities(hashtags=[], urls=[], user_mentions=[], symbols=[]), favorited=False, retweeted=False, possibly_sensitive=None, lang='en', retweeted_status=None), retweet_count=0, favorite_count=0, entities=Entities(hashtags=[], urls=[Url(display_url='twitter.com/teat65501837/s…', expanded_url='https://twitter.com/teat65501837/status/1410883249942020097', indices=(19, 42), url='https://t.co/clGsgVtOZU')], user_mentions=[], symbols=[]), favorited=False, retweeted=False, possibly_sensitive=False, lang='en', retweeted_status=None),\n",
              " Tweet(created_at='Fri Jul 02 08:49:59 +0000 2021', id=1410883439931408386, full_text='RT @Apple: Von Dresden über Rüspel bis Berlin – überall in Deutschland verändern Menschen mit ihrer Kreativität die Welt. Viele von ihnen t…', source='<a href=\"https://mobile.twitter.com\" rel=\"nofollow\">Twitter Web App</a>', in_reply_to_status_id=None, in_reply_to_user_id=None, in_reply_to_screen_name=None, user=TweetUser(id=1146534916064251904, name='teat', screen_name='teat65501837', location='', url=None, description='just testing tweeter api :)', protected=False, verified=False, followers_count=0, friends_count=0, listed_count=0, favourites_count=0, statuses_count=9, created_at='Wed Jul 03 21:43:20 +0000 2019', profile_banner_url='https://pbs.twimg.com/profile_banners/1146534916064251904/1625218462', profile_image_url_https='https://pbs.twimg.com/profile_images/1410894471194087429/h58t3EU4_normal.jpg', default_profile=True, default_profile_image=False, withheld_in_countries=[]), coordinates=None, place=None, is_quote_status=False, quoted_status_id=None, quoted_status=None, retweet_count=41, favorite_count=0, entities=Entities(hashtags=[], urls=[], user_mentions=[UserMention(id=380749300, indices=(3, 9), name='Apple', screen_name='Apple')], symbols=[]), favorited=False, retweeted=False, possibly_sensitive=None, lang='de', retweeted_status=Tweet(created_at='Tue Jun 29 08:45:12 +0000 2021', id=1409795070094675969, full_text='Von Dresden über Rüspel bis Berlin – überall in Deutschland verändern Menschen mit ihrer Kreativität die Welt. Viele von ihnen tun das #HinterdemMac.', source='<a href=\"https://ads-api.twitter.com\" rel=\"nofollow\">Twitter for Advertisers.</a>', in_reply_to_status_id=None, in_reply_to_user_id=None, in_reply_to_screen_name=None, user=TweetUser(id=380749300, name='Apple', screen_name='Apple', location='Cupertino, CA', url=None, description='https://t.co/jw2s2L0RLt', protected=False, verified=True, followers_count=6456883, friends_count=0, listed_count=12004, favourites_count=0, statuses_count=0, created_at='Tue Sep 27 05:02:03 +0000 2011', profile_banner_url='https://pbs.twimg.com/profile_banners/380749300/1625097244', profile_image_url_https='https://pbs.twimg.com/profile_images/1283958620359516160/p7zz5dxZ_normal.jpg', default_profile=False, default_profile_image=False, withheld_in_countries=[]), coordinates=None, place=None, is_quote_status=False, quoted_status_id=None, quoted_status=None, retweet_count=41, favorite_count=642, entities=Entities(hashtags=[Hashtag(indices=(135, 148), text='HinterdemMac')], urls=[], user_mentions=[], symbols=[]), favorited=False, retweeted=False, possibly_sensitive=None, lang='de', retweeted_status=None)),\n",
              " Tweet(created_at='Fri Jul 02 08:49:48 +0000 2021', id=1410883391248011266, full_text='RT @teat65501837: this is a short tweet', source='<a href=\"https://mobile.twitter.com\" rel=\"nofollow\">Twitter Web App</a>', in_reply_to_status_id=None, in_reply_to_user_id=None, in_reply_to_screen_name=None, user=TweetUser(id=1146534916064251904, name='teat', screen_name='teat65501837', location='', url=None, description='just testing tweeter api :)', protected=False, verified=False, followers_count=0, friends_count=0, listed_count=0, favourites_count=0, statuses_count=9, created_at='Wed Jul 03 21:43:20 +0000 2019', profile_banner_url='https://pbs.twimg.com/profile_banners/1146534916064251904/1625218462', profile_image_url_https='https://pbs.twimg.com/profile_images/1410894471194087429/h58t3EU4_normal.jpg', default_profile=True, default_profile_image=False, withheld_in_countries=[]), coordinates=None, place=None, is_quote_status=False, quoted_status_id=None, quoted_status=None, retweet_count=1, favorite_count=0, entities=Entities(hashtags=[], urls=[], user_mentions=[UserMention(id=1146534916064251904, indices=(3, 16), name='teat', screen_name='teat65501837')], symbols=[]), favorited=False, retweeted=False, possibly_sensitive=None, lang='en', retweeted_status=Tweet(created_at='Fri Jul 02 08:49:14 +0000 2021', id=1410883249942020097, full_text='this is a short tweet', source='<a href=\"https://mobile.twitter.com\" rel=\"nofollow\">Twitter Web App</a>', in_reply_to_status_id=None, in_reply_to_user_id=None, in_reply_to_screen_name=None, user=TweetUser(id=1146534916064251904, name='teat', screen_name='teat65501837', location='', url=None, description='just testing tweeter api :)', protected=False, verified=False, followers_count=0, friends_count=0, listed_count=0, favourites_count=0, statuses_count=9, created_at='Wed Jul 03 21:43:20 +0000 2019', profile_banner_url='https://pbs.twimg.com/profile_banners/1146534916064251904/1625218462', profile_image_url_https='https://pbs.twimg.com/profile_images/1410894471194087429/h58t3EU4_normal.jpg', default_profile=True, default_profile_image=False, withheld_in_countries=[]), coordinates=None, place=None, is_quote_status=False, quoted_status_id=None, quoted_status=None, retweet_count=1, favorite_count=0, entities=Entities(hashtags=[], urls=[], user_mentions=[], symbols=[]), favorited=False, retweeted=False, possibly_sensitive=None, lang='en', retweeted_status=None)),\n",
              " Tweet(created_at='Fri Jul 02 08:49:39 +0000 2021', id=1410883353553915909, full_text='this is a long tweet this is a long tweet this is a long tweet this is a long tweet this is a long tweet this is a long tweet this is a long tweet this is a long tweet this is a long tweet this is a long tweet this is a long tweet this is a long tweet this is a long tweet', source='<a href=\"https://mobile.twitter.com\" rel=\"nofollow\">Twitter Web App</a>', in_reply_to_status_id=None, in_reply_to_user_id=None, in_reply_to_screen_name=None, user=TweetUser(id=1146534916064251904, name='teat', screen_name='teat65501837', location='', url=None, description='just testing tweeter api :)', protected=False, verified=False, followers_count=0, friends_count=0, listed_count=0, favourites_count=0, statuses_count=9, created_at='Wed Jul 03 21:43:20 +0000 2019', profile_banner_url='https://pbs.twimg.com/profile_banners/1146534916064251904/1625218462', profile_image_url_https='https://pbs.twimg.com/profile_images/1410894471194087429/h58t3EU4_normal.jpg', default_profile=True, default_profile_image=False, withheld_in_countries=[]), coordinates=None, place=None, is_quote_status=False, quoted_status_id=None, quoted_status=None, retweet_count=0, favorite_count=0, entities=Entities(hashtags=[], urls=[], user_mentions=[], symbols=[]), favorited=False, retweeted=False, possibly_sensitive=None, lang='en', retweeted_status=None),\n",
              " Tweet(created_at='Fri Jul 02 08:49:14 +0000 2021', id=1410883249942020097, full_text='this is a short tweet', source='<a href=\"https://mobile.twitter.com\" rel=\"nofollow\">Twitter Web App</a>', in_reply_to_status_id=None, in_reply_to_user_id=None, in_reply_to_screen_name=None, user=TweetUser(id=1146534916064251904, name='teat', screen_name='teat65501837', location='', url=None, description='just testing tweeter api :)', protected=False, verified=False, followers_count=0, friends_count=0, listed_count=0, favourites_count=0, statuses_count=9, created_at='Wed Jul 03 21:43:20 +0000 2019', profile_banner_url='https://pbs.twimg.com/profile_banners/1146534916064251904/1625218462', profile_image_url_https='https://pbs.twimg.com/profile_images/1410894471194087429/h58t3EU4_normal.jpg', default_profile=True, default_profile_image=False, withheld_in_countries=[]), coordinates=None, place=None, is_quote_status=False, quoted_status_id=None, quoted_status=None, retweet_count=1, favorite_count=0, entities=Entities(hashtags=[], urls=[], user_mentions=[], symbols=[]), favorited=False, retweeted=False, possibly_sensitive=None, lang='en', retweeted_status=None)]"
            ]
          },
          "metadata": {
            "tags": []
          },
          "execution_count": 51
        }
      ]
    },
    {
      "cell_type": "markdown",
      "metadata": {
        "id": "NEnDici1vbeP"
      },
      "source": [
        "<div dir=\"rtl\">\n",
        "با استفاده از قابلیت stream که پکیج tweepy دارد می‌شود تعدادی کاربر مشخص کرد و دیتای آن‌ها به صورت زنده (با تاخیر چند ثانیه) گرفت.\n",
        "<br>\n",
        "برای اینکار می‌توانیم کلاس Listener خودمان را پیاده سازی کنیم.\n",
        "<br>\n",
        "این کلاس باید فرزند tweepy.StreamListener باشد\n",
        "<br>\n",
        "فعلا فقط تابع on_status که زمانی که توئیت جدیدی زده می‌شود صدا زده می‌شود و تابع on_error پیاده سازی شده اند.\n",
        "</div>"
      ]
    },
    {
      "cell_type": "code",
      "metadata": {
        "id": "0Mw40PqRvpD1"
      },
      "source": [
        "class Listener(tweepy.StreamListener):\n",
        "    \"\"\"\n",
        "    Custom stream listener to call callback method\n",
        "    \"\"\"\n",
        "\n",
        "    def __init__(self, api, callback: Callable[[Tweet], None]):\n",
        "        super().__init__(api)\n",
        "        self.__callback = callback\n",
        "\n",
        "    def on_status(self, tweet):\n",
        "        self.__callback(Tweet.deserializer(tweet._json))\n",
        "\n",
        "    def on_error(self, status_code):\n",
        "        print('error')\n",
        "        print(status_code)\n",
        "\n",
        "def stream(users: List[str], callback: Callable[[Tweet], None]) -> None:\n",
        "    \"\"\"\n",
        "    Get new tweets from users\n",
        "\n",
        "    Args:\n",
        "        users: list of users id\n",
        "        callback: callback method\n",
        "    \"\"\"\n",
        "    users_id = [user._json['id_str'] for user in api.lookup_users(screen_names=users)]\n",
        "    listener = Listener(api, callback)\n",
        "    stream = tweepy.Stream(auth=api.auth, listener=listener)\n",
        "    while True:\n",
        "        try:\n",
        "            stream.filter(follow=users_id)\n",
        "        except  urllib3.exceptions.ProtocolError as e:\n",
        "            print('error')\n",
        "            print(e)\n",
        "            time.sleep(15)"
      ],
      "execution_count": 52,
      "outputs": []
    },
    {
      "cell_type": "code",
      "metadata": {
        "colab": {
          "base_uri": "https://localhost:8080/",
          "height": 343
        },
        "id": "_Ul8wtA6vuag",
        "outputId": "167b982a-cf55-4575-ea4c-f84a550a62d6"
      },
      "source": [
        "stream(['teat65501837'], lambda tweet: print(tweet))"
      ],
      "execution_count": 54,
      "outputs": [
        {
          "output_type": "stream",
          "text": [
            "Tweet(created_at='Fri Jul 02 10:29:16 +0000 2021', id=1410908423131176960, full_text='test2', source='<a href=\"https://mobile.twitter.com\" rel=\"nofollow\">Twitter Web App</a>', in_reply_to_status_id=None, in_reply_to_user_id=None, in_reply_to_screen_name=None, user=TweetUser(id=1146534916064251904, name='teat', screen_name='teat65501837', location=None, url=None, description='just testing tweeter api :)', protected=False, verified=False, followers_count=0, friends_count=0, listed_count=0, favourites_count=0, statuses_count=10, created_at='Wed Jul 03 21:43:20 +0000 2019', profile_banner_url='https://pbs.twimg.com/profile_banners/1146534916064251904/1625218462', profile_image_url_https='https://pbs.twimg.com/profile_images/1410894471194087429/h58t3EU4_normal.jpg', default_profile=True, default_profile_image=False, withheld_in_countries=[]), coordinates=None, place=None, is_quote_status=False, quoted_status_id=None, quoted_status=None, retweet_count=0, favorite_count=0, entities=Entities(hashtags=[], urls=[], user_mentions=[], symbols=[]), favorited=False, retweeted=False, possibly_sensitive=None, lang='en', retweeted_status=None)\n"
          ],
          "name": "stdout"
        },
        {
          "output_type": "error",
          "ename": "KeyboardInterrupt",
          "evalue": "ignored",
          "traceback": [
            "\u001b[0;31m---------------------------------------------------------------------------\u001b[0m",
            "\u001b[0;31mKeyboardInterrupt\u001b[0m                         Traceback (most recent call last)",
            "\u001b[0;32m<ipython-input-54-eac597cb06a4>\u001b[0m in \u001b[0;36m<module>\u001b[0;34m()\u001b[0m\n\u001b[0;32m----> 1\u001b[0;31m \u001b[0mstream\u001b[0m\u001b[0;34m(\u001b[0m\u001b[0;34m[\u001b[0m\u001b[0;34m'teat65501837'\u001b[0m\u001b[0;34m]\u001b[0m\u001b[0;34m,\u001b[0m \u001b[0;32mlambda\u001b[0m \u001b[0mtweet\u001b[0m\u001b[0;34m:\u001b[0m \u001b[0mprint\u001b[0m\u001b[0;34m(\u001b[0m\u001b[0mtweet\u001b[0m\u001b[0;34m)\u001b[0m\u001b[0;34m)\u001b[0m\u001b[0;34m\u001b[0m\u001b[0;34m\u001b[0m\u001b[0m\n\u001b[0m",
            "\u001b[0;32m<ipython-input-52-428a0f506680>\u001b[0m in \u001b[0;36mstream\u001b[0;34m(users, callback)\u001b[0m\n\u001b[1;32m     28\u001b[0m     \u001b[0;32mwhile\u001b[0m \u001b[0;32mTrue\u001b[0m\u001b[0;34m:\u001b[0m\u001b[0;34m\u001b[0m\u001b[0;34m\u001b[0m\u001b[0m\n\u001b[1;32m     29\u001b[0m         \u001b[0;32mtry\u001b[0m\u001b[0;34m:\u001b[0m\u001b[0;34m\u001b[0m\u001b[0;34m\u001b[0m\u001b[0m\n\u001b[0;32m---> 30\u001b[0;31m             \u001b[0mstream\u001b[0m\u001b[0;34m.\u001b[0m\u001b[0mfilter\u001b[0m\u001b[0;34m(\u001b[0m\u001b[0mfollow\u001b[0m\u001b[0;34m=\u001b[0m\u001b[0musers_id\u001b[0m\u001b[0;34m)\u001b[0m\u001b[0;34m\u001b[0m\u001b[0;34m\u001b[0m\u001b[0m\n\u001b[0m\u001b[1;32m     31\u001b[0m         \u001b[0;32mexcept\u001b[0m  \u001b[0murllib3\u001b[0m\u001b[0;34m.\u001b[0m\u001b[0mexceptions\u001b[0m\u001b[0;34m.\u001b[0m\u001b[0mProtocolError\u001b[0m \u001b[0;32mas\u001b[0m \u001b[0me\u001b[0m\u001b[0;34m:\u001b[0m\u001b[0;34m\u001b[0m\u001b[0;34m\u001b[0m\u001b[0m\n\u001b[1;32m     32\u001b[0m             \u001b[0mprint\u001b[0m\u001b[0;34m(\u001b[0m\u001b[0;34m'error'\u001b[0m\u001b[0;34m)\u001b[0m\u001b[0;34m\u001b[0m\u001b[0;34m\u001b[0m\u001b[0m\n",
            "\u001b[0;32m/usr/local/lib/python3.7/dist-packages/tweepy/streaming.py\u001b[0m in \u001b[0;36mfilter\u001b[0;34m(self, follow, track, is_async, locations, stall_warnings, languages, encoding, filter_level)\u001b[0m\n\u001b[1;32m    472\u001b[0m             \u001b[0mself\u001b[0m\u001b[0;34m.\u001b[0m\u001b[0mbody\u001b[0m\u001b[0;34m[\u001b[0m\u001b[0;34m'filter_level'\u001b[0m\u001b[0;34m]\u001b[0m \u001b[0;34m=\u001b[0m \u001b[0mfilter_level\u001b[0m\u001b[0;34m.\u001b[0m\u001b[0mencode\u001b[0m\u001b[0;34m(\u001b[0m\u001b[0mencoding\u001b[0m\u001b[0;34m)\u001b[0m\u001b[0;34m\u001b[0m\u001b[0;34m\u001b[0m\u001b[0m\n\u001b[1;32m    473\u001b[0m         \u001b[0mself\u001b[0m\u001b[0;34m.\u001b[0m\u001b[0msession\u001b[0m\u001b[0;34m.\u001b[0m\u001b[0mparams\u001b[0m \u001b[0;34m=\u001b[0m \u001b[0;34m{\u001b[0m\u001b[0;34m'delimited'\u001b[0m\u001b[0;34m:\u001b[0m \u001b[0;34m'length'\u001b[0m\u001b[0;34m}\u001b[0m\u001b[0;34m\u001b[0m\u001b[0;34m\u001b[0m\u001b[0m\n\u001b[0;32m--> 474\u001b[0;31m         \u001b[0mself\u001b[0m\u001b[0;34m.\u001b[0m\u001b[0m_start\u001b[0m\u001b[0;34m(\u001b[0m\u001b[0mis_async\u001b[0m\u001b[0;34m)\u001b[0m\u001b[0;34m\u001b[0m\u001b[0;34m\u001b[0m\u001b[0m\n\u001b[0m\u001b[1;32m    475\u001b[0m \u001b[0;34m\u001b[0m\u001b[0m\n\u001b[1;32m    476\u001b[0m     def sitestream(self, follow, stall_warnings=False,\n",
            "\u001b[0;32m/usr/local/lib/python3.7/dist-packages/tweepy/streaming.py\u001b[0m in \u001b[0;36m_start\u001b[0;34m(self, is_async)\u001b[0m\n\u001b[1;32m    387\u001b[0m             \u001b[0mself\u001b[0m\u001b[0;34m.\u001b[0m\u001b[0m_thread\u001b[0m\u001b[0;34m.\u001b[0m\u001b[0mstart\u001b[0m\u001b[0;34m(\u001b[0m\u001b[0;34m)\u001b[0m\u001b[0;34m\u001b[0m\u001b[0;34m\u001b[0m\u001b[0m\n\u001b[1;32m    388\u001b[0m         \u001b[0;32melse\u001b[0m\u001b[0;34m:\u001b[0m\u001b[0;34m\u001b[0m\u001b[0;34m\u001b[0m\u001b[0m\n\u001b[0;32m--> 389\u001b[0;31m             \u001b[0mself\u001b[0m\u001b[0;34m.\u001b[0m\u001b[0m_run\u001b[0m\u001b[0;34m(\u001b[0m\u001b[0;34m)\u001b[0m\u001b[0;34m\u001b[0m\u001b[0;34m\u001b[0m\u001b[0m\n\u001b[0m\u001b[1;32m    390\u001b[0m \u001b[0;34m\u001b[0m\u001b[0m\n\u001b[1;32m    391\u001b[0m     \u001b[0;32mdef\u001b[0m \u001b[0mon_closed\u001b[0m\u001b[0;34m(\u001b[0m\u001b[0mself\u001b[0m\u001b[0;34m,\u001b[0m \u001b[0mresp\u001b[0m\u001b[0;34m)\u001b[0m\u001b[0;34m:\u001b[0m\u001b[0;34m\u001b[0m\u001b[0;34m\u001b[0m\u001b[0m\n",
            "\u001b[0;32m/usr/local/lib/python3.7/dist-packages/tweepy/streaming.py\u001b[0m in \u001b[0;36m_run\u001b[0;34m(self)\u001b[0m\n\u001b[1;32m    287\u001b[0m                     \u001b[0mself\u001b[0m\u001b[0;34m.\u001b[0m\u001b[0msnooze_time\u001b[0m \u001b[0;34m=\u001b[0m \u001b[0mself\u001b[0m\u001b[0;34m.\u001b[0m\u001b[0msnooze_time_step\u001b[0m\u001b[0;34m\u001b[0m\u001b[0;34m\u001b[0m\u001b[0m\n\u001b[1;32m    288\u001b[0m                     \u001b[0mself\u001b[0m\u001b[0;34m.\u001b[0m\u001b[0mlistener\u001b[0m\u001b[0;34m.\u001b[0m\u001b[0mon_connect\u001b[0m\u001b[0;34m(\u001b[0m\u001b[0;34m)\u001b[0m\u001b[0;34m\u001b[0m\u001b[0;34m\u001b[0m\u001b[0m\n\u001b[0;32m--> 289\u001b[0;31m                     \u001b[0mself\u001b[0m\u001b[0;34m.\u001b[0m\u001b[0m_read_loop\u001b[0m\u001b[0;34m(\u001b[0m\u001b[0mresp\u001b[0m\u001b[0;34m)\u001b[0m\u001b[0;34m\u001b[0m\u001b[0;34m\u001b[0m\u001b[0m\n\u001b[0m\u001b[1;32m    290\u001b[0m             \u001b[0;32mexcept\u001b[0m \u001b[0;34m(\u001b[0m\u001b[0mTimeout\u001b[0m\u001b[0;34m,\u001b[0m \u001b[0mssl\u001b[0m\u001b[0;34m.\u001b[0m\u001b[0mSSLError\u001b[0m\u001b[0;34m)\u001b[0m \u001b[0;32mas\u001b[0m \u001b[0mexc\u001b[0m\u001b[0;34m:\u001b[0m\u001b[0;34m\u001b[0m\u001b[0;34m\u001b[0m\u001b[0m\n\u001b[1;32m    291\u001b[0m                 \u001b[0;31m# This is still necessary, as a SSLError can actually be\u001b[0m\u001b[0;34m\u001b[0m\u001b[0;34m\u001b[0m\u001b[0;34m\u001b[0m\u001b[0m\n",
            "\u001b[0;32m/usr/local/lib/python3.7/dist-packages/tweepy/streaming.py\u001b[0m in \u001b[0;36m_read_loop\u001b[0;34m(self, resp)\u001b[0m\n\u001b[1;32m    337\u001b[0m             \u001b[0mlength\u001b[0m \u001b[0;34m=\u001b[0m \u001b[0;36m0\u001b[0m\u001b[0;34m\u001b[0m\u001b[0;34m\u001b[0m\u001b[0m\n\u001b[1;32m    338\u001b[0m             \u001b[0;32mwhile\u001b[0m \u001b[0;32mnot\u001b[0m \u001b[0mresp\u001b[0m\u001b[0;34m.\u001b[0m\u001b[0mraw\u001b[0m\u001b[0;34m.\u001b[0m\u001b[0mclosed\u001b[0m\u001b[0;34m:\u001b[0m\u001b[0;34m\u001b[0m\u001b[0;34m\u001b[0m\u001b[0m\n\u001b[0;32m--> 339\u001b[0;31m                 \u001b[0mline\u001b[0m \u001b[0;34m=\u001b[0m \u001b[0mbuf\u001b[0m\u001b[0;34m.\u001b[0m\u001b[0mread_line\u001b[0m\u001b[0;34m(\u001b[0m\u001b[0;34m)\u001b[0m\u001b[0;34m\u001b[0m\u001b[0;34m\u001b[0m\u001b[0m\n\u001b[0m\u001b[1;32m    340\u001b[0m                 \u001b[0mstripped_line\u001b[0m \u001b[0;34m=\u001b[0m \u001b[0mline\u001b[0m\u001b[0;34m.\u001b[0m\u001b[0mstrip\u001b[0m\u001b[0;34m(\u001b[0m\u001b[0;34m)\u001b[0m \u001b[0;32mif\u001b[0m \u001b[0mline\u001b[0m \u001b[0;32melse\u001b[0m \u001b[0mline\u001b[0m \u001b[0;31m# line is sometimes None so we need to check here\u001b[0m\u001b[0;34m\u001b[0m\u001b[0;34m\u001b[0m\u001b[0m\n\u001b[1;32m    341\u001b[0m                 \u001b[0;32mif\u001b[0m \u001b[0;32mnot\u001b[0m \u001b[0mstripped_line\u001b[0m\u001b[0;34m:\u001b[0m\u001b[0;34m\u001b[0m\u001b[0;34m\u001b[0m\u001b[0m\n",
            "\u001b[0;32m/usr/local/lib/python3.7/dist-packages/tweepy/streaming.py\u001b[0m in \u001b[0;36mread_line\u001b[0;34m(self, sep)\u001b[0m\n\u001b[1;32m    198\u001b[0m             \u001b[0;32melse\u001b[0m\u001b[0;34m:\u001b[0m\u001b[0;34m\u001b[0m\u001b[0;34m\u001b[0m\u001b[0m\n\u001b[1;32m    199\u001b[0m                 \u001b[0mstart\u001b[0m \u001b[0;34m=\u001b[0m \u001b[0mlen\u001b[0m\u001b[0;34m(\u001b[0m\u001b[0mself\u001b[0m\u001b[0;34m.\u001b[0m\u001b[0m_buffer\u001b[0m\u001b[0;34m)\u001b[0m\u001b[0;34m\u001b[0m\u001b[0;34m\u001b[0m\u001b[0m\n\u001b[0;32m--> 200\u001b[0;31m             \u001b[0mself\u001b[0m\u001b[0;34m.\u001b[0m\u001b[0m_buffer\u001b[0m \u001b[0;34m+=\u001b[0m \u001b[0mself\u001b[0m\u001b[0;34m.\u001b[0m\u001b[0m_stream\u001b[0m\u001b[0;34m.\u001b[0m\u001b[0mread\u001b[0m\u001b[0;34m(\u001b[0m\u001b[0mself\u001b[0m\u001b[0;34m.\u001b[0m\u001b[0m_chunk_size\u001b[0m\u001b[0;34m)\u001b[0m\u001b[0;34m\u001b[0m\u001b[0;34m\u001b[0m\u001b[0m\n\u001b[0m\u001b[1;32m    201\u001b[0m         \u001b[0;32mreturn\u001b[0m \u001b[0msix\u001b[0m\u001b[0;34m.\u001b[0m\u001b[0mb\u001b[0m\u001b[0;34m(\u001b[0m\u001b[0;34m''\u001b[0m\u001b[0;34m)\u001b[0m\u001b[0;34m\u001b[0m\u001b[0;34m\u001b[0m\u001b[0m\n\u001b[1;32m    202\u001b[0m \u001b[0;34m\u001b[0m\u001b[0m\n",
            "\u001b[0;32m/usr/local/lib/python3.7/dist-packages/urllib3/response.py\u001b[0m in \u001b[0;36mread\u001b[0;34m(self, amt, decode_content, cache_content)\u001b[0m\n\u001b[1;32m    442\u001b[0m             \u001b[0;32melse\u001b[0m\u001b[0;34m:\u001b[0m\u001b[0;34m\u001b[0m\u001b[0;34m\u001b[0m\u001b[0m\n\u001b[1;32m    443\u001b[0m                 \u001b[0mcache_content\u001b[0m \u001b[0;34m=\u001b[0m \u001b[0;32mFalse\u001b[0m\u001b[0;34m\u001b[0m\u001b[0;34m\u001b[0m\u001b[0m\n\u001b[0;32m--> 444\u001b[0;31m                 \u001b[0mdata\u001b[0m \u001b[0;34m=\u001b[0m \u001b[0mself\u001b[0m\u001b[0;34m.\u001b[0m\u001b[0m_fp\u001b[0m\u001b[0;34m.\u001b[0m\u001b[0mread\u001b[0m\u001b[0;34m(\u001b[0m\u001b[0mamt\u001b[0m\u001b[0;34m)\u001b[0m\u001b[0;34m\u001b[0m\u001b[0;34m\u001b[0m\u001b[0m\n\u001b[0m\u001b[1;32m    445\u001b[0m                 \u001b[0;32mif\u001b[0m \u001b[0mamt\u001b[0m \u001b[0;34m!=\u001b[0m \u001b[0;36m0\u001b[0m \u001b[0;32mand\u001b[0m \u001b[0;32mnot\u001b[0m \u001b[0mdata\u001b[0m\u001b[0;34m:\u001b[0m  \u001b[0;31m# Platform-specific: Buggy versions of Python.\u001b[0m\u001b[0;34m\u001b[0m\u001b[0;34m\u001b[0m\u001b[0m\n\u001b[1;32m    446\u001b[0m                     \u001b[0;31m# Close the connection when no data is returned\u001b[0m\u001b[0;34m\u001b[0m\u001b[0;34m\u001b[0m\u001b[0;34m\u001b[0m\u001b[0m\n",
            "\u001b[0;32m/usr/lib/python3.7/http/client.py\u001b[0m in \u001b[0;36mread\u001b[0;34m(self, amt)\u001b[0m\n\u001b[1;32m    459\u001b[0m             \u001b[0;31m# Amount is given, implement using readinto\u001b[0m\u001b[0;34m\u001b[0m\u001b[0;34m\u001b[0m\u001b[0;34m\u001b[0m\u001b[0m\n\u001b[1;32m    460\u001b[0m             \u001b[0mb\u001b[0m \u001b[0;34m=\u001b[0m \u001b[0mbytearray\u001b[0m\u001b[0;34m(\u001b[0m\u001b[0mamt\u001b[0m\u001b[0;34m)\u001b[0m\u001b[0;34m\u001b[0m\u001b[0;34m\u001b[0m\u001b[0m\n\u001b[0;32m--> 461\u001b[0;31m             \u001b[0mn\u001b[0m \u001b[0;34m=\u001b[0m \u001b[0mself\u001b[0m\u001b[0;34m.\u001b[0m\u001b[0mreadinto\u001b[0m\u001b[0;34m(\u001b[0m\u001b[0mb\u001b[0m\u001b[0;34m)\u001b[0m\u001b[0;34m\u001b[0m\u001b[0;34m\u001b[0m\u001b[0m\n\u001b[0m\u001b[1;32m    462\u001b[0m             \u001b[0;32mreturn\u001b[0m \u001b[0mmemoryview\u001b[0m\u001b[0;34m(\u001b[0m\u001b[0mb\u001b[0m\u001b[0;34m)\u001b[0m\u001b[0;34m[\u001b[0m\u001b[0;34m:\u001b[0m\u001b[0mn\u001b[0m\u001b[0;34m]\u001b[0m\u001b[0;34m.\u001b[0m\u001b[0mtobytes\u001b[0m\u001b[0;34m(\u001b[0m\u001b[0;34m)\u001b[0m\u001b[0;34m\u001b[0m\u001b[0;34m\u001b[0m\u001b[0m\n\u001b[1;32m    463\u001b[0m         \u001b[0;32melse\u001b[0m\u001b[0;34m:\u001b[0m\u001b[0;34m\u001b[0m\u001b[0;34m\u001b[0m\u001b[0m\n",
            "\u001b[0;32m/usr/lib/python3.7/http/client.py\u001b[0m in \u001b[0;36mreadinto\u001b[0;34m(self, b)\u001b[0m\n\u001b[1;32m    493\u001b[0m \u001b[0;34m\u001b[0m\u001b[0m\n\u001b[1;32m    494\u001b[0m         \u001b[0;32mif\u001b[0m \u001b[0mself\u001b[0m\u001b[0;34m.\u001b[0m\u001b[0mchunked\u001b[0m\u001b[0;34m:\u001b[0m\u001b[0;34m\u001b[0m\u001b[0;34m\u001b[0m\u001b[0m\n\u001b[0;32m--> 495\u001b[0;31m             \u001b[0;32mreturn\u001b[0m \u001b[0mself\u001b[0m\u001b[0;34m.\u001b[0m\u001b[0m_readinto_chunked\u001b[0m\u001b[0;34m(\u001b[0m\u001b[0mb\u001b[0m\u001b[0;34m)\u001b[0m\u001b[0;34m\u001b[0m\u001b[0;34m\u001b[0m\u001b[0m\n\u001b[0m\u001b[1;32m    496\u001b[0m \u001b[0;34m\u001b[0m\u001b[0m\n\u001b[1;32m    497\u001b[0m         \u001b[0;32mif\u001b[0m \u001b[0mself\u001b[0m\u001b[0;34m.\u001b[0m\u001b[0mlength\u001b[0m \u001b[0;32mis\u001b[0m \u001b[0;32mnot\u001b[0m \u001b[0;32mNone\u001b[0m\u001b[0;34m:\u001b[0m\u001b[0;34m\u001b[0m\u001b[0;34m\u001b[0m\u001b[0m\n",
            "\u001b[0;32m/usr/lib/python3.7/http/client.py\u001b[0m in \u001b[0;36m_readinto_chunked\u001b[0;34m(self, b)\u001b[0m\n\u001b[1;32m    588\u001b[0m         \u001b[0;32mtry\u001b[0m\u001b[0;34m:\u001b[0m\u001b[0;34m\u001b[0m\u001b[0;34m\u001b[0m\u001b[0m\n\u001b[1;32m    589\u001b[0m             \u001b[0;32mwhile\u001b[0m \u001b[0;32mTrue\u001b[0m\u001b[0;34m:\u001b[0m\u001b[0;34m\u001b[0m\u001b[0;34m\u001b[0m\u001b[0m\n\u001b[0;32m--> 590\u001b[0;31m                 \u001b[0mchunk_left\u001b[0m \u001b[0;34m=\u001b[0m \u001b[0mself\u001b[0m\u001b[0;34m.\u001b[0m\u001b[0m_get_chunk_left\u001b[0m\u001b[0;34m(\u001b[0m\u001b[0;34m)\u001b[0m\u001b[0;34m\u001b[0m\u001b[0;34m\u001b[0m\u001b[0m\n\u001b[0m\u001b[1;32m    591\u001b[0m                 \u001b[0;32mif\u001b[0m \u001b[0mchunk_left\u001b[0m \u001b[0;32mis\u001b[0m \u001b[0;32mNone\u001b[0m\u001b[0;34m:\u001b[0m\u001b[0;34m\u001b[0m\u001b[0;34m\u001b[0m\u001b[0m\n\u001b[1;32m    592\u001b[0m                     \u001b[0;32mreturn\u001b[0m \u001b[0mtotal_bytes\u001b[0m\u001b[0;34m\u001b[0m\u001b[0;34m\u001b[0m\u001b[0m\n",
            "\u001b[0;32m/usr/lib/python3.7/http/client.py\u001b[0m in \u001b[0;36m_get_chunk_left\u001b[0;34m(self)\u001b[0m\n\u001b[1;32m    556\u001b[0m                 \u001b[0mself\u001b[0m\u001b[0;34m.\u001b[0m\u001b[0m_safe_read\u001b[0m\u001b[0;34m(\u001b[0m\u001b[0;36m2\u001b[0m\u001b[0;34m)\u001b[0m  \u001b[0;31m# toss the CRLF at the end of the chunk\u001b[0m\u001b[0;34m\u001b[0m\u001b[0;34m\u001b[0m\u001b[0m\n\u001b[1;32m    557\u001b[0m             \u001b[0;32mtry\u001b[0m\u001b[0;34m:\u001b[0m\u001b[0;34m\u001b[0m\u001b[0;34m\u001b[0m\u001b[0m\n\u001b[0;32m--> 558\u001b[0;31m                 \u001b[0mchunk_left\u001b[0m \u001b[0;34m=\u001b[0m \u001b[0mself\u001b[0m\u001b[0;34m.\u001b[0m\u001b[0m_read_next_chunk_size\u001b[0m\u001b[0;34m(\u001b[0m\u001b[0;34m)\u001b[0m\u001b[0;34m\u001b[0m\u001b[0;34m\u001b[0m\u001b[0m\n\u001b[0m\u001b[1;32m    559\u001b[0m             \u001b[0;32mexcept\u001b[0m \u001b[0mValueError\u001b[0m\u001b[0;34m:\u001b[0m\u001b[0;34m\u001b[0m\u001b[0;34m\u001b[0m\u001b[0m\n\u001b[1;32m    560\u001b[0m                 \u001b[0;32mraise\u001b[0m \u001b[0mIncompleteRead\u001b[0m\u001b[0;34m(\u001b[0m\u001b[0;34mb''\u001b[0m\u001b[0;34m)\u001b[0m\u001b[0;34m\u001b[0m\u001b[0;34m\u001b[0m\u001b[0m\n",
            "\u001b[0;32m/usr/lib/python3.7/http/client.py\u001b[0m in \u001b[0;36m_read_next_chunk_size\u001b[0;34m(self)\u001b[0m\n\u001b[1;32m    516\u001b[0m     \u001b[0;32mdef\u001b[0m \u001b[0m_read_next_chunk_size\u001b[0m\u001b[0;34m(\u001b[0m\u001b[0mself\u001b[0m\u001b[0;34m)\u001b[0m\u001b[0;34m:\u001b[0m\u001b[0;34m\u001b[0m\u001b[0;34m\u001b[0m\u001b[0m\n\u001b[1;32m    517\u001b[0m         \u001b[0;31m# Read the next chunk size from the file\u001b[0m\u001b[0;34m\u001b[0m\u001b[0;34m\u001b[0m\u001b[0;34m\u001b[0m\u001b[0m\n\u001b[0;32m--> 518\u001b[0;31m         \u001b[0mline\u001b[0m \u001b[0;34m=\u001b[0m \u001b[0mself\u001b[0m\u001b[0;34m.\u001b[0m\u001b[0mfp\u001b[0m\u001b[0;34m.\u001b[0m\u001b[0mreadline\u001b[0m\u001b[0;34m(\u001b[0m\u001b[0m_MAXLINE\u001b[0m \u001b[0;34m+\u001b[0m \u001b[0;36m1\u001b[0m\u001b[0;34m)\u001b[0m\u001b[0;34m\u001b[0m\u001b[0;34m\u001b[0m\u001b[0m\n\u001b[0m\u001b[1;32m    519\u001b[0m         \u001b[0;32mif\u001b[0m \u001b[0mlen\u001b[0m\u001b[0;34m(\u001b[0m\u001b[0mline\u001b[0m\u001b[0;34m)\u001b[0m \u001b[0;34m>\u001b[0m \u001b[0m_MAXLINE\u001b[0m\u001b[0;34m:\u001b[0m\u001b[0;34m\u001b[0m\u001b[0;34m\u001b[0m\u001b[0m\n\u001b[1;32m    520\u001b[0m             \u001b[0;32mraise\u001b[0m \u001b[0mLineTooLong\u001b[0m\u001b[0;34m(\u001b[0m\u001b[0;34m\"chunk size\"\u001b[0m\u001b[0;34m)\u001b[0m\u001b[0;34m\u001b[0m\u001b[0;34m\u001b[0m\u001b[0m\n",
            "\u001b[0;32m/usr/lib/python3.7/socket.py\u001b[0m in \u001b[0;36mreadinto\u001b[0;34m(self, b)\u001b[0m\n\u001b[1;32m    587\u001b[0m         \u001b[0;32mwhile\u001b[0m \u001b[0;32mTrue\u001b[0m\u001b[0;34m:\u001b[0m\u001b[0;34m\u001b[0m\u001b[0;34m\u001b[0m\u001b[0m\n\u001b[1;32m    588\u001b[0m             \u001b[0;32mtry\u001b[0m\u001b[0;34m:\u001b[0m\u001b[0;34m\u001b[0m\u001b[0;34m\u001b[0m\u001b[0m\n\u001b[0;32m--> 589\u001b[0;31m                 \u001b[0;32mreturn\u001b[0m \u001b[0mself\u001b[0m\u001b[0;34m.\u001b[0m\u001b[0m_sock\u001b[0m\u001b[0;34m.\u001b[0m\u001b[0mrecv_into\u001b[0m\u001b[0;34m(\u001b[0m\u001b[0mb\u001b[0m\u001b[0;34m)\u001b[0m\u001b[0;34m\u001b[0m\u001b[0;34m\u001b[0m\u001b[0m\n\u001b[0m\u001b[1;32m    590\u001b[0m             \u001b[0;32mexcept\u001b[0m \u001b[0mtimeout\u001b[0m\u001b[0;34m:\u001b[0m\u001b[0;34m\u001b[0m\u001b[0;34m\u001b[0m\u001b[0m\n\u001b[1;32m    591\u001b[0m                 \u001b[0mself\u001b[0m\u001b[0;34m.\u001b[0m\u001b[0m_timeout_occurred\u001b[0m \u001b[0;34m=\u001b[0m \u001b[0;32mTrue\u001b[0m\u001b[0;34m\u001b[0m\u001b[0;34m\u001b[0m\u001b[0m\n",
            "\u001b[0;32m/usr/lib/python3.7/ssl.py\u001b[0m in \u001b[0;36mrecv_into\u001b[0;34m(self, buffer, nbytes, flags)\u001b[0m\n\u001b[1;32m   1069\u001b[0m                   \u001b[0;34m\"non-zero flags not allowed in calls to recv_into() on %s\"\u001b[0m \u001b[0;34m%\u001b[0m\u001b[0;34m\u001b[0m\u001b[0;34m\u001b[0m\u001b[0m\n\u001b[1;32m   1070\u001b[0m                   self.__class__)\n\u001b[0;32m-> 1071\u001b[0;31m             \u001b[0;32mreturn\u001b[0m \u001b[0mself\u001b[0m\u001b[0;34m.\u001b[0m\u001b[0mread\u001b[0m\u001b[0;34m(\u001b[0m\u001b[0mnbytes\u001b[0m\u001b[0;34m,\u001b[0m \u001b[0mbuffer\u001b[0m\u001b[0;34m)\u001b[0m\u001b[0;34m\u001b[0m\u001b[0;34m\u001b[0m\u001b[0m\n\u001b[0m\u001b[1;32m   1072\u001b[0m         \u001b[0;32melse\u001b[0m\u001b[0;34m:\u001b[0m\u001b[0;34m\u001b[0m\u001b[0;34m\u001b[0m\u001b[0m\n\u001b[1;32m   1073\u001b[0m             \u001b[0;32mreturn\u001b[0m \u001b[0msuper\u001b[0m\u001b[0;34m(\u001b[0m\u001b[0;34m)\u001b[0m\u001b[0;34m.\u001b[0m\u001b[0mrecv_into\u001b[0m\u001b[0;34m(\u001b[0m\u001b[0mbuffer\u001b[0m\u001b[0;34m,\u001b[0m \u001b[0mnbytes\u001b[0m\u001b[0;34m,\u001b[0m \u001b[0mflags\u001b[0m\u001b[0;34m)\u001b[0m\u001b[0;34m\u001b[0m\u001b[0;34m\u001b[0m\u001b[0m\n",
            "\u001b[0;32m/usr/lib/python3.7/ssl.py\u001b[0m in \u001b[0;36mread\u001b[0;34m(self, len, buffer)\u001b[0m\n\u001b[1;32m    927\u001b[0m         \u001b[0;32mtry\u001b[0m\u001b[0;34m:\u001b[0m\u001b[0;34m\u001b[0m\u001b[0;34m\u001b[0m\u001b[0m\n\u001b[1;32m    928\u001b[0m             \u001b[0;32mif\u001b[0m \u001b[0mbuffer\u001b[0m \u001b[0;32mis\u001b[0m \u001b[0;32mnot\u001b[0m \u001b[0;32mNone\u001b[0m\u001b[0;34m:\u001b[0m\u001b[0;34m\u001b[0m\u001b[0;34m\u001b[0m\u001b[0m\n\u001b[0;32m--> 929\u001b[0;31m                 \u001b[0;32mreturn\u001b[0m \u001b[0mself\u001b[0m\u001b[0;34m.\u001b[0m\u001b[0m_sslobj\u001b[0m\u001b[0;34m.\u001b[0m\u001b[0mread\u001b[0m\u001b[0;34m(\u001b[0m\u001b[0mlen\u001b[0m\u001b[0;34m,\u001b[0m \u001b[0mbuffer\u001b[0m\u001b[0;34m)\u001b[0m\u001b[0;34m\u001b[0m\u001b[0;34m\u001b[0m\u001b[0m\n\u001b[0m\u001b[1;32m    930\u001b[0m             \u001b[0;32melse\u001b[0m\u001b[0;34m:\u001b[0m\u001b[0;34m\u001b[0m\u001b[0;34m\u001b[0m\u001b[0m\n\u001b[1;32m    931\u001b[0m                 \u001b[0;32mreturn\u001b[0m \u001b[0mself\u001b[0m\u001b[0;34m.\u001b[0m\u001b[0m_sslobj\u001b[0m\u001b[0;34m.\u001b[0m\u001b[0mread\u001b[0m\u001b[0;34m(\u001b[0m\u001b[0mlen\u001b[0m\u001b[0;34m)\u001b[0m\u001b[0;34m\u001b[0m\u001b[0;34m\u001b[0m\u001b[0m\n",
            "\u001b[0;31mKeyboardInterrupt\u001b[0m: "
          ]
        }
      ]
    },
    {
      "cell_type": "markdown",
      "metadata": {
        "id": "6qkIj4gBwQIl"
      },
      "source": [
        "<div dir=\"rtl\">\n",
        "از آنجا که اطلاعات توئیت‌ها خیلی زیاد است تابع زیر کمک می‌کند فقط اطلاعات پایه را چاپ کند.\n",
        "</div>"
      ]
    },
    {
      "cell_type": "code",
      "metadata": {
        "id": "76blBSlnwavF"
      },
      "source": [
        "def pretty_print(tweet: Tweet) -> str:\n",
        "    if tweet.retweeted_status and not tweet.retweeted_status.quoted_status:\n",
        "        return f'A new retweet\\nsender: {tweet.user.screen_name}\\nretweet from: {tweet.retweeted_status.user.screen_name}\\ntext: {tweet.retweeted_status.full_text}'\n",
        "    elif tweet.retweeted_status:\n",
        "        return f'A new retweet\\nsender: {tweet.user.screen_name}\\nretweet from: {tweet.retweeted_status.user.screen_name}\\nquoted from: {tweet.retweeted_status.quoted_status.user.screen_name}\\ntext: {tweet.retweeted_status.full_text}\\norigin text: {tweet.retweeted_status.quoted_status.full_text}'\n",
        "    elif tweet.quoted_status:\n",
        "        return f'A new quoted tweet\\nsender: {tweet.user.screen_name}\\nquoted from: {tweet.quoted_status.user.screen_name}\\nquote text: {tweet.full_text}\\norigin text: {tweet.quoted_status.full_text}'\n",
        "    else:\n",
        "        return f'A new tweet\\nsender: {tweet.user.screen_name}\\ntext: {tweet.full_text}'"
      ],
      "execution_count": null,
      "outputs": []
    },
    {
      "cell_type": "markdown",
      "metadata": {
        "id": "8Z-metUFwc9q"
      },
      "source": [
        "<div dir=\"rtl\">\n",
        "تابع زیر لیستی از توئیت‌ها را به دیتافریم تبدیل می‌کند\n",
        "<br>\n",
        "از آنجایی که یک توئیت مممکن است ریتوئیت یک retweet with quote باشد تابع get_quote کاربر و متن توئیتی که کوت شده است را بر می‌گرداند.\n",
        "</div>"
      ]
    },
    {
      "cell_type": "code",
      "metadata": {
        "id": "iRtJ4pXIwhtS"
      },
      "source": [
        "def get_quote(tweet: Tweet) -> Tuple[Optional[str], Optional[str]]:\n",
        "    \"\"\"\n",
        "    Returns None, None if tweet is not quote\n",
        "    otherwise return tuple of quoted tweet sender and text\n",
        "    \"\"\"\n",
        "    if tweet.retweeted_status:\n",
        "        return get_quote(tweet.retweeted_status)\n",
        "    if not tweet.quoted_status:\n",
        "        return None, None\n",
        "    return tweet.quoted_status.user.screen_name, tweet.quoted_status.full_text\n",
        "\n",
        "\n",
        "def tweets_to_df(tweets: List[Tweet]) -> pd.DataFrame:\n",
        "    \"\"\"\n",
        "    Cast Tweet to df\n",
        "    \"\"\"\n",
        "    return pd.DataFrame(\n",
        "        [[\n",
        "            tweet.created_at,\n",
        "            tweet.user.screen_name,\n",
        "            tweet.full_text,\n",
        "            True if tweet.retweeted_status else False,\n",
        "            None if not tweet.retweeted_status else tweet.retweeted_status.user.screen_name,\n",
        "            True if get_quote(tweet)[0] else None,\n",
        "            get_quote(tweet)[0],\n",
        "            get_quote(tweet)[1]\n",
        "        ] for tweet in tweets],\n",
        "        columns=[\n",
        "            'create time',\n",
        "            'sender',\n",
        "            'text',\n",
        "            'is_retweet',\n",
        "            'retweet_sender',\n",
        "            'is_quote',\n",
        "            'quoted_tweet_sender',\n",
        "            'quoted_tweet_text'\n",
        "        ]\n",
        "    )"
      ],
      "execution_count": 70,
      "outputs": []
    },
    {
      "cell_type": "markdown",
      "metadata": {
        "id": "9GvzzdyWxaHo"
      },
      "source": [
        "<div dir=\"rtl\">\n",
        "تابع‌های گفته شده در کلاس DataGetter پیاده سازی شده است."
      ]
    },
    {
      "cell_type": "code",
      "metadata": {
        "id": "eqaCceHexjaV"
      },
      "source": [
        "from data_getter import *"
      ],
      "execution_count": 71,
      "outputs": []
    },
    {
      "cell_type": "markdown",
      "metadata": {
        "id": "fjjagrT3xpIB"
      },
      "source": [
        "<div dir=\"rtl\">\n",
        "ایجاد یک دیتا کالکتور:"
      ]
    },
    {
      "cell_type": "code",
      "metadata": {
        "id": "4fvaVfaZxse-"
      },
      "source": [
        "dg = DataGetter(\n",
        "    consumer_key=\"\",  # API key\n",
        "    consumer_secret=\"\",  # API secret\n",
        "    access_token=\"\",\n",
        "    access_token_secret=\"\",\n",
        ")"
      ],
      "execution_count": 75,
      "outputs": []
    },
    {
      "cell_type": "markdown",
      "metadata": {
        "id": "nyVFrpZExx2w"
      },
      "source": [
        "<div dir = \"rtl\">\n",
        "تایید احراز هویت"
      ]
    },
    {
      "cell_type": "code",
      "metadata": {
        "colab": {
          "base_uri": "https://localhost:8080/"
        },
        "id": "6jU7qUA2x6k_",
        "outputId": "74514055-e643-411b-9192-fa888bb41d2f"
      },
      "source": [
        "print(dg.verify_authentication())"
      ],
      "execution_count": 76,
      "outputs": [
        {
          "output_type": "stream",
          "text": [
            "User(_api=<tweepy.api.API object at 0x7fef6441bad0>, _json={'id': 1285595741080170501, 'id_str': '1285595741080170501', 'name': 'Mahdi', 'screen_name': 'MahdiShobeiri', 'location': 'Tehran', 'description': '\\u200f\\u200f\\u200f\\u200f\\u200fسید مهدی صادق شبیری\\nخوشبختانه مهندسی کامپیوتر\\nمتأسفانه در سوت(سات؟)\\nTelegram: @this_is_my_per_id', 'url': 'https://t.co/bmYOdidpiX', 'entities': {'url': {'urls': [{'url': 'https://t.co/bmYOdidpiX', 'expanded_url': 'https://t.me/Music2BeBuriedAliveBy', 'display_url': 't.me/Music2BeBuried…', 'indices': [0, 23]}]}, 'description': {'urls': []}}, 'protected': False, 'followers_count': 80, 'friends_count': 102, 'listed_count': 0, 'created_at': 'Tue Jul 21 15:21:29 +0000 2020', 'favourites_count': 1979, 'utc_offset': None, 'time_zone': None, 'geo_enabled': False, 'verified': False, 'statuses_count': 248, 'lang': None, 'status': {'created_at': 'Thu Jul 01 17:51:44 +0000 2021', 'id': 1410657386726137859, 'id_str': '1410657386726137859', 'text': '@lTheMightyMl بابا برف شادیه دیگه\\nمخالفت چرا؟', 'truncated': False, 'entities': {'hashtags': [], 'symbols': [], 'user_mentions': [{'screen_name': 'lTheMightyMl', 'name': 'میم مقتدر🐨', 'id': 1102291427193733125, 'id_str': '1102291427193733125', 'indices': [0, 13]}], 'urls': []}, 'source': '<a href=\"https://mobile.twitter.com\" rel=\"nofollow\">Twitter Web App</a>', 'in_reply_to_status_id': 1410655840625909761, 'in_reply_to_status_id_str': '1410655840625909761', 'in_reply_to_user_id': 1102291427193733125, 'in_reply_to_user_id_str': '1102291427193733125', 'in_reply_to_screen_name': 'lTheMightyMl', 'geo': None, 'coordinates': None, 'place': None, 'contributors': None, 'is_quote_status': False, 'retweet_count': 0, 'favorite_count': 0, 'favorited': False, 'retweeted': False, 'lang': 'fa'}, 'contributors_enabled': False, 'is_translator': False, 'is_translation_enabled': False, 'profile_background_color': 'F5F8FA', 'profile_background_image_url': None, 'profile_background_image_url_https': None, 'profile_background_tile': False, 'profile_image_url': 'http://pbs.twimg.com/profile_images/1396829975572062221/okvyJyLD_normal.jpg', 'profile_image_url_https': 'https://pbs.twimg.com/profile_images/1396829975572062221/okvyJyLD_normal.jpg', 'profile_banner_url': 'https://pbs.twimg.com/profile_banners/1285595741080170501/1620778994', 'profile_link_color': '1DA1F2', 'profile_sidebar_border_color': 'C0DEED', 'profile_sidebar_fill_color': 'DDEEF6', 'profile_text_color': '333333', 'profile_use_background_image': True, 'has_extended_profile': True, 'default_profile': True, 'default_profile_image': False, 'following': False, 'follow_request_sent': False, 'notifications': False, 'translator_type': 'none', 'withheld_in_countries': [], 'suspended': False, 'needs_phone_verification': False}, id=1285595741080170501, id_str='1285595741080170501', name='Mahdi', screen_name='MahdiShobeiri', location='Tehran', description='\\u200f\\u200f\\u200f\\u200f\\u200fسید مهدی صادق شبیری\\nخوشبختانه مهندسی کامپیوتر\\nمتأسفانه در سوت(سات؟)\\nTelegram: @this_is_my_per_id', url='https://t.co/bmYOdidpiX', entities={'url': {'urls': [{'url': 'https://t.co/bmYOdidpiX', 'expanded_url': 'https://t.me/Music2BeBuriedAliveBy', 'display_url': 't.me/Music2BeBuried…', 'indices': [0, 23]}]}, 'description': {'urls': []}}, protected=False, followers_count=80, friends_count=102, listed_count=0, created_at=datetime.datetime(2020, 7, 21, 15, 21, 29), favourites_count=1979, utc_offset=None, time_zone=None, geo_enabled=False, verified=False, statuses_count=248, lang=None, status=Status(_api=<tweepy.api.API object at 0x7fef6441bad0>, _json={'created_at': 'Thu Jul 01 17:51:44 +0000 2021', 'id': 1410657386726137859, 'id_str': '1410657386726137859', 'text': '@lTheMightyMl بابا برف شادیه دیگه\\nمخالفت چرا؟', 'truncated': False, 'entities': {'hashtags': [], 'symbols': [], 'user_mentions': [{'screen_name': 'lTheMightyMl', 'name': 'میم مقتدر🐨', 'id': 1102291427193733125, 'id_str': '1102291427193733125', 'indices': [0, 13]}], 'urls': []}, 'source': '<a href=\"https://mobile.twitter.com\" rel=\"nofollow\">Twitter Web App</a>', 'in_reply_to_status_id': 1410655840625909761, 'in_reply_to_status_id_str': '1410655840625909761', 'in_reply_to_user_id': 1102291427193733125, 'in_reply_to_user_id_str': '1102291427193733125', 'in_reply_to_screen_name': 'lTheMightyMl', 'geo': None, 'coordinates': None, 'place': None, 'contributors': None, 'is_quote_status': False, 'retweet_count': 0, 'favorite_count': 0, 'favorited': False, 'retweeted': False, 'lang': 'fa'}, created_at=datetime.datetime(2021, 7, 1, 17, 51, 44), id=1410657386726137859, id_str='1410657386726137859', text='@lTheMightyMl بابا برف شادیه دیگه\\nمخالفت چرا؟', truncated=False, entities={'hashtags': [], 'symbols': [], 'user_mentions': [{'screen_name': 'lTheMightyMl', 'name': 'میم مقتدر🐨', 'id': 1102291427193733125, 'id_str': '1102291427193733125', 'indices': [0, 13]}], 'urls': []}, source='Twitter Web App', source_url='https://mobile.twitter.com', in_reply_to_status_id=1410655840625909761, in_reply_to_status_id_str='1410655840625909761', in_reply_to_user_id=1102291427193733125, in_reply_to_user_id_str='1102291427193733125', in_reply_to_screen_name='lTheMightyMl', geo=None, coordinates=None, place=None, contributors=None, is_quote_status=False, retweet_count=0, favorite_count=0, favorited=False, retweeted=False, lang='fa'), contributors_enabled=False, is_translator=False, is_translation_enabled=False, profile_background_color='F5F8FA', profile_background_image_url=None, profile_background_image_url_https=None, profile_background_tile=False, profile_image_url='http://pbs.twimg.com/profile_images/1396829975572062221/okvyJyLD_normal.jpg', profile_image_url_https='https://pbs.twimg.com/profile_images/1396829975572062221/okvyJyLD_normal.jpg', profile_banner_url='https://pbs.twimg.com/profile_banners/1285595741080170501/1620778994', profile_link_color='1DA1F2', profile_sidebar_border_color='C0DEED', profile_sidebar_fill_color='DDEEF6', profile_text_color='333333', profile_use_background_image=True, has_extended_profile=True, default_profile=True, default_profile_image=False, following=False, follow_request_sent=False, notifications=False, translator_type='none', withheld_in_countries=[], suspended=False, needs_phone_verification=False)\n"
          ],
          "name": "stdout"
        }
      ]
    },
    {
      "cell_type": "markdown",
      "metadata": {
        "id": "unDMld7iyFmB"
      },
      "source": [
        "<div dir = \"rtl\">\n",
        "گرفتن تایم لاین"
      ]
    },
    {
      "cell_type": "code",
      "metadata": {
        "colab": {
          "base_uri": "https://localhost:8080/"
        },
        "id": "dxepMI4fyNcp",
        "outputId": "76dd6351-8287-4ac7-ef36-880e7c38ae60"
      },
      "source": [
        "for tweet in dg.get_timeline_tweets(5):\n",
        "  print(pretty_print(tweet), end=\"\\n--------\\n\")"
      ],
      "execution_count": 77,
      "outputs": [
        {
          "output_type": "stream",
          "text": [
            "A new retweet\n",
            "sender: asra19366209\n",
            "retweet from: Khatesevvom\n",
            "text: ‌\n",
            "‌\n",
            "                از دِهی عبور کردم\n",
            "                که در آنجا راهبه‌ای بود.\n",
            "                گفتم: آیا مکانی پاک یافت می‌شود\n",
            "                که نماز بگزارم؟\n",
            "                گفت: دلت را پاک کن\n",
            "                و در هرکجا که خواستی نماز بگزار.\n",
            "\n",
            "                #بایزید_بسطامی\n",
            "‌\n",
            "‌\n",
            "--------\n",
            "A new tweet\n",
            "sender: itoldmythe\n",
            "text: https://t.co/JauFV90aZN\n",
            "--------\n",
            "A new retweet\n",
            "sender: khazanpm\n",
            "retweet from: Hozak57\n",
            "text: کشوری که غنی از نفت و گاز و کوه طلا است \n",
            "سهمش برای ما #کولبری بود https://t.co/1P9mKiPW2Q\n",
            "--------\n",
            "A new tweet\n",
            "sender: yaasamn\n",
            "text: رییس اینا همه‌ش بازی بود. تو گروگان من بودی.\n",
            "--------\n",
            "A new tweet\n",
            "sender: Ashkanj78\n",
            "text: انقدر که من برای شاگردام بغض میکنم و نگرانشونم و میخوام مثل من تر نزنن به ایندشون، خانواده هاشون درگیر نیستن.\n",
            "--------\n"
          ],
          "name": "stdout"
        }
      ]
    },
    {
      "cell_type": "markdown",
      "metadata": {
        "id": "pVSWwptlyIcz"
      },
      "source": [
        "<div dir = \"rtl\">\n",
        "گرفتن توئیت‌های کاربرها"
      ]
    },
    {
      "cell_type": "code",
      "metadata": {
        "colab": {
          "base_uri": "https://localhost:8080/"
        },
        "id": "0iWNpfvIyc9R",
        "outputId": "7b4b4f25-9c28-4f70-9e2a-b51b1a5a4869"
      },
      "source": [
        "for tweet in dg.get_historical(50, ['teat65501837']):\n",
        "    print(pretty_print(tweet), end=\"\\n---------------\\n\")\n"
      ],
      "execution_count": 78,
      "outputs": [
        {
          "output_type": "stream",
          "text": [
            "A new tweet\n",
            "sender: teat65501837\n",
            "text: test3\n",
            "---------------\n",
            "A new tweet\n",
            "sender: teat65501837\n",
            "text: test2\n",
            "---------------\n",
            "A new tweet\n",
            "sender: teat65501837\n",
            "text: test\n",
            "---------------\n",
            "A new tweet\n",
            "sender: teat65501837\n",
            "text: this tweet has a #hash_tag\n",
            "also has a url https://t.co/XTZZ5oc1Xy\n",
            "@MahdiShobeiri some mention too!\n",
            "---------------\n",
            "A new retweet\n",
            "sender: teat65501837\n",
            "retweet from: teat65501837\n",
            "quoted from: teat65501837\n",
            "text: long quote from a long tweet long quote from a long tweet long quote from a long tweet long quote from a long tweet long quote from a long tweet long quote from a long tweet long quote from a long tweet long quote from a long tweet long quote from a long tweet https://t.co/ceSwbyjnPo\n",
            "origin text: this is a long tweet this is a long tweet this is a long tweet this is a long tweet this is a long tweet this is a long tweet this is a long tweet this is a long tweet this is a long tweet this is a long tweet this is a long tweet this is a long tweet this is a long tweet\n",
            "---------------\n",
            "A new quoted tweet\n",
            "sender: teat65501837\n",
            "quoted from: teat65501837\n",
            "quote text: long quote from a long tweet long quote from a long tweet long quote from a long tweet long quote from a long tweet long quote from a long tweet long quote from a long tweet long quote from a long tweet long quote from a long tweet long quote from a long tweet https://t.co/ceSwbyjnPo\n",
            "origin text: this is a long tweet this is a long tweet this is a long tweet this is a long tweet this is a long tweet this is a long tweet this is a long tweet this is a long tweet this is a long tweet this is a long tweet this is a long tweet this is a long tweet this is a long tweet\n",
            "---------------\n",
            "A new quoted tweet\n",
            "sender: teat65501837\n",
            "quoted from: teat65501837\n",
            "quote text: quote from a tweet https://t.co/clGsgVtOZU\n",
            "origin text: this is a short tweet\n",
            "---------------\n",
            "A new retweet\n",
            "sender: teat65501837\n",
            "retweet from: Apple\n",
            "text: Von Dresden über Rüspel bis Berlin – überall in Deutschland verändern Menschen mit ihrer Kreativität die Welt. Viele von ihnen tun das #HinterdemMac.\n",
            "---------------\n",
            "A new retweet\n",
            "sender: teat65501837\n",
            "retweet from: teat65501837\n",
            "text: this is a short tweet\n",
            "---------------\n",
            "A new tweet\n",
            "sender: teat65501837\n",
            "text: this is a long tweet this is a long tweet this is a long tweet this is a long tweet this is a long tweet this is a long tweet this is a long tweet this is a long tweet this is a long tweet this is a long tweet this is a long tweet this is a long tweet this is a long tweet\n",
            "---------------\n",
            "A new tweet\n",
            "sender: teat65501837\n",
            "text: this is a short tweet\n",
            "---------------\n"
          ],
          "name": "stdout"
        }
      ]
    },
    {
      "cell_type": "markdown",
      "metadata": {
        "id": "BrmWtMd-yLTx"
      },
      "source": [
        "<div dir = \"rtl\">\n",
        "استریم کردن چند کاربر\n",
        "(اکسپشن مهم نیست چون پایان دادم بهش اکسپشن داده)"
      ]
    },
    {
      "cell_type": "code",
      "metadata": {
        "colab": {
          "base_uri": "https://localhost:8080/",
          "height": 306
        },
        "id": "JDASgMBayg6Z",
        "outputId": "ff9d7936-ca19-4a10-9f0b-fc02949662a0"
      },
      "source": [
        "dg.stream(['teat65501837'], lambda tweet: print(pretty_print(tweet), end=\"\\n---------------\\n\"))"
      ],
      "execution_count": 79,
      "outputs": [
        {
          "output_type": "error",
          "ename": "KeyboardInterrupt",
          "evalue": "ignored",
          "traceback": [
            "\u001b[0;31m---------------------------------------------------------------------------\u001b[0m",
            "\u001b[0;31mKeyboardInterrupt\u001b[0m                         Traceback (most recent call last)",
            "\u001b[0;32m<ipython-input-79-59b0b82d3f1a>\u001b[0m in \u001b[0;36m<module>\u001b[0;34m()\u001b[0m\n\u001b[0;32m----> 1\u001b[0;31m \u001b[0mdg\u001b[0m\u001b[0;34m.\u001b[0m\u001b[0mstream\u001b[0m\u001b[0;34m(\u001b[0m\u001b[0;34m[\u001b[0m\u001b[0;34m'teat65501837'\u001b[0m\u001b[0;34m]\u001b[0m\u001b[0;34m,\u001b[0m \u001b[0;32mlambda\u001b[0m \u001b[0mtweet\u001b[0m\u001b[0;34m:\u001b[0m \u001b[0mprint\u001b[0m\u001b[0;34m(\u001b[0m\u001b[0mpretty_print\u001b[0m\u001b[0;34m(\u001b[0m\u001b[0mtweet\u001b[0m\u001b[0;34m)\u001b[0m\u001b[0;34m,\u001b[0m \u001b[0mend\u001b[0m\u001b[0;34m=\u001b[0m\u001b[0;34m\"\\n---------------\\n\"\u001b[0m\u001b[0;34m)\u001b[0m\u001b[0;34m)\u001b[0m\u001b[0;34m\u001b[0m\u001b[0;34m\u001b[0m\u001b[0m\n\u001b[0m",
            "\u001b[0;32m/content/data_getter.py\u001b[0m in \u001b[0;36mstream\u001b[0;34m(self, users, callback)\u001b[0m\n\u001b[1;32m    163\u001b[0m         \u001b[0mstream\u001b[0m \u001b[0;34m=\u001b[0m \u001b[0mtweepy\u001b[0m\u001b[0;34m.\u001b[0m\u001b[0mStream\u001b[0m\u001b[0;34m(\u001b[0m\u001b[0mauth\u001b[0m\u001b[0;34m=\u001b[0m\u001b[0mself\u001b[0m\u001b[0;34m.\u001b[0m\u001b[0mapi\u001b[0m\u001b[0;34m.\u001b[0m\u001b[0mauth\u001b[0m\u001b[0;34m,\u001b[0m \u001b[0mlistener\u001b[0m\u001b[0;34m=\u001b[0m\u001b[0mlistener\u001b[0m\u001b[0;34m)\u001b[0m\u001b[0;34m\u001b[0m\u001b[0;34m\u001b[0m\u001b[0m\n\u001b[1;32m    164\u001b[0m         \u001b[0;32mwhile\u001b[0m \u001b[0;32mTrue\u001b[0m\u001b[0;34m:\u001b[0m\u001b[0;34m\u001b[0m\u001b[0;34m\u001b[0m\u001b[0m\n\u001b[0;32m--> 165\u001b[0;31m             \u001b[0;32mtry\u001b[0m\u001b[0;34m:\u001b[0m\u001b[0;34m\u001b[0m\u001b[0;34m\u001b[0m\u001b[0m\n\u001b[0m\u001b[1;32m    166\u001b[0m                 \u001b[0mstream\u001b[0m\u001b[0;34m.\u001b[0m\u001b[0mfilter\u001b[0m\u001b[0;34m(\u001b[0m\u001b[0mfollow\u001b[0m\u001b[0;34m=\u001b[0m\u001b[0musers_id\u001b[0m\u001b[0;34m)\u001b[0m\u001b[0;34m\u001b[0m\u001b[0;34m\u001b[0m\u001b[0m\n\u001b[1;32m    167\u001b[0m             \u001b[0;32mexcept\u001b[0m  \u001b[0murllib3\u001b[0m\u001b[0;34m.\u001b[0m\u001b[0mexceptions\u001b[0m\u001b[0;34m.\u001b[0m\u001b[0mProtocolError\u001b[0m \u001b[0;32mas\u001b[0m \u001b[0me\u001b[0m\u001b[0;34m:\u001b[0m\u001b[0;34m\u001b[0m\u001b[0;34m\u001b[0m\u001b[0m\n",
            "\u001b[0;32m/usr/local/lib/python3.7/dist-packages/tweepy/streaming.py\u001b[0m in \u001b[0;36mfilter\u001b[0;34m(self, follow, track, is_async, locations, stall_warnings, languages, encoding, filter_level)\u001b[0m\n\u001b[1;32m    472\u001b[0m             \u001b[0mself\u001b[0m\u001b[0;34m.\u001b[0m\u001b[0mbody\u001b[0m\u001b[0;34m[\u001b[0m\u001b[0;34m'filter_level'\u001b[0m\u001b[0;34m]\u001b[0m \u001b[0;34m=\u001b[0m \u001b[0mfilter_level\u001b[0m\u001b[0;34m.\u001b[0m\u001b[0mencode\u001b[0m\u001b[0;34m(\u001b[0m\u001b[0mencoding\u001b[0m\u001b[0;34m)\u001b[0m\u001b[0;34m\u001b[0m\u001b[0;34m\u001b[0m\u001b[0m\n\u001b[1;32m    473\u001b[0m         \u001b[0mself\u001b[0m\u001b[0;34m.\u001b[0m\u001b[0msession\u001b[0m\u001b[0;34m.\u001b[0m\u001b[0mparams\u001b[0m \u001b[0;34m=\u001b[0m \u001b[0;34m{\u001b[0m\u001b[0;34m'delimited'\u001b[0m\u001b[0;34m:\u001b[0m \u001b[0;34m'length'\u001b[0m\u001b[0;34m}\u001b[0m\u001b[0;34m\u001b[0m\u001b[0;34m\u001b[0m\u001b[0m\n\u001b[0;32m--> 474\u001b[0;31m         \u001b[0mself\u001b[0m\u001b[0;34m.\u001b[0m\u001b[0m_start\u001b[0m\u001b[0;34m(\u001b[0m\u001b[0mis_async\u001b[0m\u001b[0;34m)\u001b[0m\u001b[0;34m\u001b[0m\u001b[0;34m\u001b[0m\u001b[0m\n\u001b[0m\u001b[1;32m    475\u001b[0m \u001b[0;34m\u001b[0m\u001b[0m\n\u001b[1;32m    476\u001b[0m     def sitestream(self, follow, stall_warnings=False,\n",
            "\u001b[0;32m/usr/local/lib/python3.7/dist-packages/tweepy/streaming.py\u001b[0m in \u001b[0;36m_start\u001b[0;34m(self, is_async)\u001b[0m\n\u001b[1;32m    387\u001b[0m             \u001b[0mself\u001b[0m\u001b[0;34m.\u001b[0m\u001b[0m_thread\u001b[0m\u001b[0;34m.\u001b[0m\u001b[0mstart\u001b[0m\u001b[0;34m(\u001b[0m\u001b[0;34m)\u001b[0m\u001b[0;34m\u001b[0m\u001b[0;34m\u001b[0m\u001b[0m\n\u001b[1;32m    388\u001b[0m         \u001b[0;32melse\u001b[0m\u001b[0;34m:\u001b[0m\u001b[0;34m\u001b[0m\u001b[0;34m\u001b[0m\u001b[0m\n\u001b[0;32m--> 389\u001b[0;31m             \u001b[0mself\u001b[0m\u001b[0;34m.\u001b[0m\u001b[0m_run\u001b[0m\u001b[0;34m(\u001b[0m\u001b[0;34m)\u001b[0m\u001b[0;34m\u001b[0m\u001b[0;34m\u001b[0m\u001b[0m\n\u001b[0m\u001b[1;32m    390\u001b[0m \u001b[0;34m\u001b[0m\u001b[0m\n\u001b[1;32m    391\u001b[0m     \u001b[0;32mdef\u001b[0m \u001b[0mon_closed\u001b[0m\u001b[0;34m(\u001b[0m\u001b[0mself\u001b[0m\u001b[0;34m,\u001b[0m \u001b[0mresp\u001b[0m\u001b[0;34m)\u001b[0m\u001b[0;34m:\u001b[0m\u001b[0;34m\u001b[0m\u001b[0;34m\u001b[0m\u001b[0m\n",
            "\u001b[0;32m/usr/local/lib/python3.7/dist-packages/tweepy/streaming.py\u001b[0m in \u001b[0;36m_run\u001b[0;34m(self)\u001b[0m\n\u001b[1;32m    287\u001b[0m                     \u001b[0mself\u001b[0m\u001b[0;34m.\u001b[0m\u001b[0msnooze_time\u001b[0m \u001b[0;34m=\u001b[0m \u001b[0mself\u001b[0m\u001b[0;34m.\u001b[0m\u001b[0msnooze_time_step\u001b[0m\u001b[0;34m\u001b[0m\u001b[0;34m\u001b[0m\u001b[0m\n\u001b[1;32m    288\u001b[0m                     \u001b[0mself\u001b[0m\u001b[0;34m.\u001b[0m\u001b[0mlistener\u001b[0m\u001b[0;34m.\u001b[0m\u001b[0mon_connect\u001b[0m\u001b[0;34m(\u001b[0m\u001b[0;34m)\u001b[0m\u001b[0;34m\u001b[0m\u001b[0;34m\u001b[0m\u001b[0m\n\u001b[0;32m--> 289\u001b[0;31m                     \u001b[0mself\u001b[0m\u001b[0;34m.\u001b[0m\u001b[0m_read_loop\u001b[0m\u001b[0;34m(\u001b[0m\u001b[0mresp\u001b[0m\u001b[0;34m)\u001b[0m\u001b[0;34m\u001b[0m\u001b[0;34m\u001b[0m\u001b[0m\n\u001b[0m\u001b[1;32m    290\u001b[0m             \u001b[0;32mexcept\u001b[0m \u001b[0;34m(\u001b[0m\u001b[0mTimeout\u001b[0m\u001b[0;34m,\u001b[0m \u001b[0mssl\u001b[0m\u001b[0;34m.\u001b[0m\u001b[0mSSLError\u001b[0m\u001b[0;34m)\u001b[0m \u001b[0;32mas\u001b[0m \u001b[0mexc\u001b[0m\u001b[0;34m:\u001b[0m\u001b[0;34m\u001b[0m\u001b[0;34m\u001b[0m\u001b[0m\n\u001b[1;32m    291\u001b[0m                 \u001b[0;31m# This is still necessary, as a SSLError can actually be\u001b[0m\u001b[0;34m\u001b[0m\u001b[0;34m\u001b[0m\u001b[0;34m\u001b[0m\u001b[0m\n",
            "\u001b[0;32m/usr/local/lib/python3.7/dist-packages/tweepy/streaming.py\u001b[0m in \u001b[0;36m_read_loop\u001b[0;34m(self, resp)\u001b[0m\n\u001b[1;32m    337\u001b[0m             \u001b[0mlength\u001b[0m \u001b[0;34m=\u001b[0m \u001b[0;36m0\u001b[0m\u001b[0;34m\u001b[0m\u001b[0;34m\u001b[0m\u001b[0m\n\u001b[1;32m    338\u001b[0m             \u001b[0;32mwhile\u001b[0m \u001b[0;32mnot\u001b[0m \u001b[0mresp\u001b[0m\u001b[0;34m.\u001b[0m\u001b[0mraw\u001b[0m\u001b[0;34m.\u001b[0m\u001b[0mclosed\u001b[0m\u001b[0;34m:\u001b[0m\u001b[0;34m\u001b[0m\u001b[0;34m\u001b[0m\u001b[0m\n\u001b[0;32m--> 339\u001b[0;31m                 \u001b[0mline\u001b[0m \u001b[0;34m=\u001b[0m \u001b[0mbuf\u001b[0m\u001b[0;34m.\u001b[0m\u001b[0mread_line\u001b[0m\u001b[0;34m(\u001b[0m\u001b[0;34m)\u001b[0m\u001b[0;34m\u001b[0m\u001b[0;34m\u001b[0m\u001b[0m\n\u001b[0m\u001b[1;32m    340\u001b[0m                 \u001b[0mstripped_line\u001b[0m \u001b[0;34m=\u001b[0m \u001b[0mline\u001b[0m\u001b[0;34m.\u001b[0m\u001b[0mstrip\u001b[0m\u001b[0;34m(\u001b[0m\u001b[0;34m)\u001b[0m \u001b[0;32mif\u001b[0m \u001b[0mline\u001b[0m \u001b[0;32melse\u001b[0m \u001b[0mline\u001b[0m \u001b[0;31m# line is sometimes None so we need to check here\u001b[0m\u001b[0;34m\u001b[0m\u001b[0;34m\u001b[0m\u001b[0m\n\u001b[1;32m    341\u001b[0m                 \u001b[0;32mif\u001b[0m \u001b[0;32mnot\u001b[0m \u001b[0mstripped_line\u001b[0m\u001b[0;34m:\u001b[0m\u001b[0;34m\u001b[0m\u001b[0;34m\u001b[0m\u001b[0m\n",
            "\u001b[0;32m/usr/local/lib/python3.7/dist-packages/tweepy/streaming.py\u001b[0m in \u001b[0;36mread_line\u001b[0;34m(self, sep)\u001b[0m\n\u001b[1;32m    198\u001b[0m             \u001b[0;32melse\u001b[0m\u001b[0;34m:\u001b[0m\u001b[0;34m\u001b[0m\u001b[0;34m\u001b[0m\u001b[0m\n\u001b[1;32m    199\u001b[0m                 \u001b[0mstart\u001b[0m \u001b[0;34m=\u001b[0m \u001b[0mlen\u001b[0m\u001b[0;34m(\u001b[0m\u001b[0mself\u001b[0m\u001b[0;34m.\u001b[0m\u001b[0m_buffer\u001b[0m\u001b[0;34m)\u001b[0m\u001b[0;34m\u001b[0m\u001b[0;34m\u001b[0m\u001b[0m\n\u001b[0;32m--> 200\u001b[0;31m             \u001b[0mself\u001b[0m\u001b[0;34m.\u001b[0m\u001b[0m_buffer\u001b[0m \u001b[0;34m+=\u001b[0m \u001b[0mself\u001b[0m\u001b[0;34m.\u001b[0m\u001b[0m_stream\u001b[0m\u001b[0;34m.\u001b[0m\u001b[0mread\u001b[0m\u001b[0;34m(\u001b[0m\u001b[0mself\u001b[0m\u001b[0;34m.\u001b[0m\u001b[0m_chunk_size\u001b[0m\u001b[0;34m)\u001b[0m\u001b[0;34m\u001b[0m\u001b[0;34m\u001b[0m\u001b[0m\n\u001b[0m\u001b[1;32m    201\u001b[0m         \u001b[0;32mreturn\u001b[0m \u001b[0msix\u001b[0m\u001b[0;34m.\u001b[0m\u001b[0mb\u001b[0m\u001b[0;34m(\u001b[0m\u001b[0;34m''\u001b[0m\u001b[0;34m)\u001b[0m\u001b[0;34m\u001b[0m\u001b[0;34m\u001b[0m\u001b[0m\n\u001b[1;32m    202\u001b[0m \u001b[0;34m\u001b[0m\u001b[0m\n",
            "\u001b[0;32m/usr/local/lib/python3.7/dist-packages/urllib3/response.py\u001b[0m in \u001b[0;36mread\u001b[0;34m(self, amt, decode_content, cache_content)\u001b[0m\n\u001b[1;32m    442\u001b[0m             \u001b[0;32melse\u001b[0m\u001b[0;34m:\u001b[0m\u001b[0;34m\u001b[0m\u001b[0;34m\u001b[0m\u001b[0m\n\u001b[1;32m    443\u001b[0m                 \u001b[0mcache_content\u001b[0m \u001b[0;34m=\u001b[0m \u001b[0;32mFalse\u001b[0m\u001b[0;34m\u001b[0m\u001b[0;34m\u001b[0m\u001b[0m\n\u001b[0;32m--> 444\u001b[0;31m                 \u001b[0mdata\u001b[0m \u001b[0;34m=\u001b[0m \u001b[0mself\u001b[0m\u001b[0;34m.\u001b[0m\u001b[0m_fp\u001b[0m\u001b[0;34m.\u001b[0m\u001b[0mread\u001b[0m\u001b[0;34m(\u001b[0m\u001b[0mamt\u001b[0m\u001b[0;34m)\u001b[0m\u001b[0;34m\u001b[0m\u001b[0;34m\u001b[0m\u001b[0m\n\u001b[0m\u001b[1;32m    445\u001b[0m                 \u001b[0;32mif\u001b[0m \u001b[0mamt\u001b[0m \u001b[0;34m!=\u001b[0m \u001b[0;36m0\u001b[0m \u001b[0;32mand\u001b[0m \u001b[0;32mnot\u001b[0m \u001b[0mdata\u001b[0m\u001b[0;34m:\u001b[0m  \u001b[0;31m# Platform-specific: Buggy versions of Python.\u001b[0m\u001b[0;34m\u001b[0m\u001b[0;34m\u001b[0m\u001b[0m\n\u001b[1;32m    446\u001b[0m                     \u001b[0;31m# Close the connection when no data is returned\u001b[0m\u001b[0;34m\u001b[0m\u001b[0;34m\u001b[0m\u001b[0;34m\u001b[0m\u001b[0m\n",
            "\u001b[0;32m/usr/lib/python3.7/http/client.py\u001b[0m in \u001b[0;36mread\u001b[0;34m(self, amt)\u001b[0m\n\u001b[1;32m    459\u001b[0m             \u001b[0;31m# Amount is given, implement using readinto\u001b[0m\u001b[0;34m\u001b[0m\u001b[0;34m\u001b[0m\u001b[0;34m\u001b[0m\u001b[0m\n\u001b[1;32m    460\u001b[0m             \u001b[0mb\u001b[0m \u001b[0;34m=\u001b[0m \u001b[0mbytearray\u001b[0m\u001b[0;34m(\u001b[0m\u001b[0mamt\u001b[0m\u001b[0;34m)\u001b[0m\u001b[0;34m\u001b[0m\u001b[0;34m\u001b[0m\u001b[0m\n\u001b[0;32m--> 461\u001b[0;31m             \u001b[0mn\u001b[0m \u001b[0;34m=\u001b[0m \u001b[0mself\u001b[0m\u001b[0;34m.\u001b[0m\u001b[0mreadinto\u001b[0m\u001b[0;34m(\u001b[0m\u001b[0mb\u001b[0m\u001b[0;34m)\u001b[0m\u001b[0;34m\u001b[0m\u001b[0;34m\u001b[0m\u001b[0m\n\u001b[0m\u001b[1;32m    462\u001b[0m             \u001b[0;32mreturn\u001b[0m \u001b[0mmemoryview\u001b[0m\u001b[0;34m(\u001b[0m\u001b[0mb\u001b[0m\u001b[0;34m)\u001b[0m\u001b[0;34m[\u001b[0m\u001b[0;34m:\u001b[0m\u001b[0mn\u001b[0m\u001b[0;34m]\u001b[0m\u001b[0;34m.\u001b[0m\u001b[0mtobytes\u001b[0m\u001b[0;34m(\u001b[0m\u001b[0;34m)\u001b[0m\u001b[0;34m\u001b[0m\u001b[0;34m\u001b[0m\u001b[0m\n\u001b[1;32m    463\u001b[0m         \u001b[0;32melse\u001b[0m\u001b[0;34m:\u001b[0m\u001b[0;34m\u001b[0m\u001b[0;34m\u001b[0m\u001b[0m\n",
            "\u001b[0;32m/usr/lib/python3.7/http/client.py\u001b[0m in \u001b[0;36mreadinto\u001b[0;34m(self, b)\u001b[0m\n\u001b[1;32m    493\u001b[0m \u001b[0;34m\u001b[0m\u001b[0m\n\u001b[1;32m    494\u001b[0m         \u001b[0;32mif\u001b[0m \u001b[0mself\u001b[0m\u001b[0;34m.\u001b[0m\u001b[0mchunked\u001b[0m\u001b[0;34m:\u001b[0m\u001b[0;34m\u001b[0m\u001b[0;34m\u001b[0m\u001b[0m\n\u001b[0;32m--> 495\u001b[0;31m             \u001b[0;32mreturn\u001b[0m \u001b[0mself\u001b[0m\u001b[0;34m.\u001b[0m\u001b[0m_readinto_chunked\u001b[0m\u001b[0;34m(\u001b[0m\u001b[0mb\u001b[0m\u001b[0;34m)\u001b[0m\u001b[0;34m\u001b[0m\u001b[0;34m\u001b[0m\u001b[0m\n\u001b[0m\u001b[1;32m    496\u001b[0m \u001b[0;34m\u001b[0m\u001b[0m\n\u001b[1;32m    497\u001b[0m         \u001b[0;32mif\u001b[0m \u001b[0mself\u001b[0m\u001b[0;34m.\u001b[0m\u001b[0mlength\u001b[0m \u001b[0;32mis\u001b[0m \u001b[0;32mnot\u001b[0m \u001b[0;32mNone\u001b[0m\u001b[0;34m:\u001b[0m\u001b[0;34m\u001b[0m\u001b[0;34m\u001b[0m\u001b[0m\n",
            "\u001b[0;32m/usr/lib/python3.7/http/client.py\u001b[0m in \u001b[0;36m_readinto_chunked\u001b[0;34m(self, b)\u001b[0m\n\u001b[1;32m    588\u001b[0m         \u001b[0;32mtry\u001b[0m\u001b[0;34m:\u001b[0m\u001b[0;34m\u001b[0m\u001b[0;34m\u001b[0m\u001b[0m\n\u001b[1;32m    589\u001b[0m             \u001b[0;32mwhile\u001b[0m \u001b[0;32mTrue\u001b[0m\u001b[0;34m:\u001b[0m\u001b[0;34m\u001b[0m\u001b[0;34m\u001b[0m\u001b[0m\n\u001b[0;32m--> 590\u001b[0;31m                 \u001b[0mchunk_left\u001b[0m \u001b[0;34m=\u001b[0m \u001b[0mself\u001b[0m\u001b[0;34m.\u001b[0m\u001b[0m_get_chunk_left\u001b[0m\u001b[0;34m(\u001b[0m\u001b[0;34m)\u001b[0m\u001b[0;34m\u001b[0m\u001b[0;34m\u001b[0m\u001b[0m\n\u001b[0m\u001b[1;32m    591\u001b[0m                 \u001b[0;32mif\u001b[0m \u001b[0mchunk_left\u001b[0m \u001b[0;32mis\u001b[0m \u001b[0;32mNone\u001b[0m\u001b[0;34m:\u001b[0m\u001b[0;34m\u001b[0m\u001b[0;34m\u001b[0m\u001b[0m\n\u001b[1;32m    592\u001b[0m                     \u001b[0;32mreturn\u001b[0m \u001b[0mtotal_bytes\u001b[0m\u001b[0;34m\u001b[0m\u001b[0;34m\u001b[0m\u001b[0m\n",
            "\u001b[0;32m/usr/lib/python3.7/http/client.py\u001b[0m in \u001b[0;36m_get_chunk_left\u001b[0;34m(self)\u001b[0m\n\u001b[1;32m    556\u001b[0m                 \u001b[0mself\u001b[0m\u001b[0;34m.\u001b[0m\u001b[0m_safe_read\u001b[0m\u001b[0;34m(\u001b[0m\u001b[0;36m2\u001b[0m\u001b[0;34m)\u001b[0m  \u001b[0;31m# toss the CRLF at the end of the chunk\u001b[0m\u001b[0;34m\u001b[0m\u001b[0;34m\u001b[0m\u001b[0m\n\u001b[1;32m    557\u001b[0m             \u001b[0;32mtry\u001b[0m\u001b[0;34m:\u001b[0m\u001b[0;34m\u001b[0m\u001b[0;34m\u001b[0m\u001b[0m\n\u001b[0;32m--> 558\u001b[0;31m                 \u001b[0mchunk_left\u001b[0m \u001b[0;34m=\u001b[0m \u001b[0mself\u001b[0m\u001b[0;34m.\u001b[0m\u001b[0m_read_next_chunk_size\u001b[0m\u001b[0;34m(\u001b[0m\u001b[0;34m)\u001b[0m\u001b[0;34m\u001b[0m\u001b[0;34m\u001b[0m\u001b[0m\n\u001b[0m\u001b[1;32m    559\u001b[0m             \u001b[0;32mexcept\u001b[0m \u001b[0mValueError\u001b[0m\u001b[0;34m:\u001b[0m\u001b[0;34m\u001b[0m\u001b[0;34m\u001b[0m\u001b[0m\n\u001b[1;32m    560\u001b[0m                 \u001b[0;32mraise\u001b[0m \u001b[0mIncompleteRead\u001b[0m\u001b[0;34m(\u001b[0m\u001b[0;34mb''\u001b[0m\u001b[0;34m)\u001b[0m\u001b[0;34m\u001b[0m\u001b[0;34m\u001b[0m\u001b[0m\n",
            "\u001b[0;32m/usr/lib/python3.7/http/client.py\u001b[0m in \u001b[0;36m_read_next_chunk_size\u001b[0;34m(self)\u001b[0m\n\u001b[1;32m    516\u001b[0m     \u001b[0;32mdef\u001b[0m \u001b[0m_read_next_chunk_size\u001b[0m\u001b[0;34m(\u001b[0m\u001b[0mself\u001b[0m\u001b[0;34m)\u001b[0m\u001b[0;34m:\u001b[0m\u001b[0;34m\u001b[0m\u001b[0;34m\u001b[0m\u001b[0m\n\u001b[1;32m    517\u001b[0m         \u001b[0;31m# Read the next chunk size from the file\u001b[0m\u001b[0;34m\u001b[0m\u001b[0;34m\u001b[0m\u001b[0;34m\u001b[0m\u001b[0m\n\u001b[0;32m--> 518\u001b[0;31m         \u001b[0mline\u001b[0m \u001b[0;34m=\u001b[0m \u001b[0mself\u001b[0m\u001b[0;34m.\u001b[0m\u001b[0mfp\u001b[0m\u001b[0;34m.\u001b[0m\u001b[0mreadline\u001b[0m\u001b[0;34m(\u001b[0m\u001b[0m_MAXLINE\u001b[0m \u001b[0;34m+\u001b[0m \u001b[0;36m1\u001b[0m\u001b[0;34m)\u001b[0m\u001b[0;34m\u001b[0m\u001b[0;34m\u001b[0m\u001b[0m\n\u001b[0m\u001b[1;32m    519\u001b[0m         \u001b[0;32mif\u001b[0m \u001b[0mlen\u001b[0m\u001b[0;34m(\u001b[0m\u001b[0mline\u001b[0m\u001b[0;34m)\u001b[0m \u001b[0;34m>\u001b[0m \u001b[0m_MAXLINE\u001b[0m\u001b[0;34m:\u001b[0m\u001b[0;34m\u001b[0m\u001b[0;34m\u001b[0m\u001b[0m\n\u001b[1;32m    520\u001b[0m             \u001b[0;32mraise\u001b[0m \u001b[0mLineTooLong\u001b[0m\u001b[0;34m(\u001b[0m\u001b[0;34m\"chunk size\"\u001b[0m\u001b[0;34m)\u001b[0m\u001b[0;34m\u001b[0m\u001b[0;34m\u001b[0m\u001b[0m\n",
            "\u001b[0;32m/usr/lib/python3.7/socket.py\u001b[0m in \u001b[0;36mreadinto\u001b[0;34m(self, b)\u001b[0m\n\u001b[1;32m    587\u001b[0m         \u001b[0;32mwhile\u001b[0m \u001b[0;32mTrue\u001b[0m\u001b[0;34m:\u001b[0m\u001b[0;34m\u001b[0m\u001b[0;34m\u001b[0m\u001b[0m\n\u001b[1;32m    588\u001b[0m             \u001b[0;32mtry\u001b[0m\u001b[0;34m:\u001b[0m\u001b[0;34m\u001b[0m\u001b[0;34m\u001b[0m\u001b[0m\n\u001b[0;32m--> 589\u001b[0;31m                 \u001b[0;32mreturn\u001b[0m \u001b[0mself\u001b[0m\u001b[0;34m.\u001b[0m\u001b[0m_sock\u001b[0m\u001b[0;34m.\u001b[0m\u001b[0mrecv_into\u001b[0m\u001b[0;34m(\u001b[0m\u001b[0mb\u001b[0m\u001b[0;34m)\u001b[0m\u001b[0;34m\u001b[0m\u001b[0;34m\u001b[0m\u001b[0m\n\u001b[0m\u001b[1;32m    590\u001b[0m             \u001b[0;32mexcept\u001b[0m \u001b[0mtimeout\u001b[0m\u001b[0;34m:\u001b[0m\u001b[0;34m\u001b[0m\u001b[0;34m\u001b[0m\u001b[0m\n\u001b[1;32m    591\u001b[0m                 \u001b[0mself\u001b[0m\u001b[0;34m.\u001b[0m\u001b[0m_timeout_occurred\u001b[0m \u001b[0;34m=\u001b[0m \u001b[0;32mTrue\u001b[0m\u001b[0;34m\u001b[0m\u001b[0;34m\u001b[0m\u001b[0m\n",
            "\u001b[0;32m/usr/lib/python3.7/ssl.py\u001b[0m in \u001b[0;36mrecv_into\u001b[0;34m(self, buffer, nbytes, flags)\u001b[0m\n\u001b[1;32m   1069\u001b[0m                   \u001b[0;34m\"non-zero flags not allowed in calls to recv_into() on %s\"\u001b[0m \u001b[0;34m%\u001b[0m\u001b[0;34m\u001b[0m\u001b[0;34m\u001b[0m\u001b[0m\n\u001b[1;32m   1070\u001b[0m                   self.__class__)\n\u001b[0;32m-> 1071\u001b[0;31m             \u001b[0;32mreturn\u001b[0m \u001b[0mself\u001b[0m\u001b[0;34m.\u001b[0m\u001b[0mread\u001b[0m\u001b[0;34m(\u001b[0m\u001b[0mnbytes\u001b[0m\u001b[0;34m,\u001b[0m \u001b[0mbuffer\u001b[0m\u001b[0;34m)\u001b[0m\u001b[0;34m\u001b[0m\u001b[0;34m\u001b[0m\u001b[0m\n\u001b[0m\u001b[1;32m   1072\u001b[0m         \u001b[0;32melse\u001b[0m\u001b[0;34m:\u001b[0m\u001b[0;34m\u001b[0m\u001b[0;34m\u001b[0m\u001b[0m\n\u001b[1;32m   1073\u001b[0m             \u001b[0;32mreturn\u001b[0m \u001b[0msuper\u001b[0m\u001b[0;34m(\u001b[0m\u001b[0;34m)\u001b[0m\u001b[0;34m.\u001b[0m\u001b[0mrecv_into\u001b[0m\u001b[0;34m(\u001b[0m\u001b[0mbuffer\u001b[0m\u001b[0;34m,\u001b[0m \u001b[0mnbytes\u001b[0m\u001b[0;34m,\u001b[0m \u001b[0mflags\u001b[0m\u001b[0;34m)\u001b[0m\u001b[0;34m\u001b[0m\u001b[0;34m\u001b[0m\u001b[0m\n",
            "\u001b[0;32m/usr/lib/python3.7/ssl.py\u001b[0m in \u001b[0;36mread\u001b[0;34m(self, len, buffer)\u001b[0m\n\u001b[1;32m    927\u001b[0m         \u001b[0;32mtry\u001b[0m\u001b[0;34m:\u001b[0m\u001b[0;34m\u001b[0m\u001b[0;34m\u001b[0m\u001b[0m\n\u001b[1;32m    928\u001b[0m             \u001b[0;32mif\u001b[0m \u001b[0mbuffer\u001b[0m \u001b[0;32mis\u001b[0m \u001b[0;32mnot\u001b[0m \u001b[0;32mNone\u001b[0m\u001b[0;34m:\u001b[0m\u001b[0;34m\u001b[0m\u001b[0;34m\u001b[0m\u001b[0m\n\u001b[0;32m--> 929\u001b[0;31m                 \u001b[0;32mreturn\u001b[0m \u001b[0mself\u001b[0m\u001b[0;34m.\u001b[0m\u001b[0m_sslobj\u001b[0m\u001b[0;34m.\u001b[0m\u001b[0mread\u001b[0m\u001b[0;34m(\u001b[0m\u001b[0mlen\u001b[0m\u001b[0;34m,\u001b[0m \u001b[0mbuffer\u001b[0m\u001b[0;34m)\u001b[0m\u001b[0;34m\u001b[0m\u001b[0;34m\u001b[0m\u001b[0m\n\u001b[0m\u001b[1;32m    930\u001b[0m             \u001b[0;32melse\u001b[0m\u001b[0;34m:\u001b[0m\u001b[0;34m\u001b[0m\u001b[0;34m\u001b[0m\u001b[0m\n\u001b[1;32m    931\u001b[0m                 \u001b[0;32mreturn\u001b[0m \u001b[0mself\u001b[0m\u001b[0;34m.\u001b[0m\u001b[0m_sslobj\u001b[0m\u001b[0;34m.\u001b[0m\u001b[0mread\u001b[0m\u001b[0;34m(\u001b[0m\u001b[0mlen\u001b[0m\u001b[0;34m)\u001b[0m\u001b[0;34m\u001b[0m\u001b[0;34m\u001b[0m\u001b[0m\n",
            "\u001b[0;31mKeyboardInterrupt\u001b[0m: "
          ]
        }
      ]
    },
    {
      "cell_type": "markdown",
      "metadata": {
        "id": "NLjmPyo7x9Pf"
      },
      "source": [
        "<div dir=\"rtl\">\n",
        "تبدیل توئیت به دیتا فریم"
      ]
    },
    {
      "cell_type": "code",
      "metadata": {
        "colab": {
          "base_uri": "https://localhost:8080/",
          "height": 1000
        },
        "id": "8Rycz2BKy8w4",
        "outputId": "5418d839-9c1c-426c-fc6f-7debd38561a5"
      },
      "source": [
        "tweets_to_df(dg.get_historical(50, ['teat65501837']))\n"
      ],
      "execution_count": 86,
      "outputs": [
        {
          "output_type": "execute_result",
          "data": {
            "text/html": [
              "<div>\n",
              "<style scoped>\n",
              "    .dataframe tbody tr th:only-of-type {\n",
              "        vertical-align: middle;\n",
              "    }\n",
              "\n",
              "    .dataframe tbody tr th {\n",
              "        vertical-align: top;\n",
              "    }\n",
              "\n",
              "    .dataframe thead th {\n",
              "        text-align: right;\n",
              "    }\n",
              "</style>\n",
              "<table border=\"1\" class=\"dataframe\">\n",
              "  <thead>\n",
              "    <tr style=\"text-align: right;\">\n",
              "      <th></th>\n",
              "      <th>create time</th>\n",
              "      <th>sender</th>\n",
              "      <th>text</th>\n",
              "      <th>is_retweet</th>\n",
              "      <th>retweet_sender</th>\n",
              "      <th>is_quote</th>\n",
              "      <th>quoted_tweet_sender</th>\n",
              "      <th>quoted_tweet_text</th>\n",
              "    </tr>\n",
              "  </thead>\n",
              "  <tbody>\n",
              "    <tr>\n",
              "      <th>0</th>\n",
              "      <td>Fri Jul 02 10:36:07 +0000 2021</td>\n",
              "      <td>teat65501837</td>\n",
              "      <td>test3</td>\n",
              "      <td>False</td>\n",
              "      <td>None</td>\n",
              "      <td>None</td>\n",
              "      <td>None</td>\n",
              "      <td>None</td>\n",
              "    </tr>\n",
              "    <tr>\n",
              "      <th>1</th>\n",
              "      <td>Fri Jul 02 10:29:16 +0000 2021</td>\n",
              "      <td>teat65501837</td>\n",
              "      <td>test2</td>\n",
              "      <td>False</td>\n",
              "      <td>None</td>\n",
              "      <td>None</td>\n",
              "      <td>None</td>\n",
              "      <td>None</td>\n",
              "    </tr>\n",
              "    <tr>\n",
              "      <th>2</th>\n",
              "      <td>Fri Jul 02 10:25:50 +0000 2021</td>\n",
              "      <td>teat65501837</td>\n",
              "      <td>test</td>\n",
              "      <td>False</td>\n",
              "      <td>None</td>\n",
              "      <td>None</td>\n",
              "      <td>None</td>\n",
              "      <td>None</td>\n",
              "    </tr>\n",
              "    <tr>\n",
              "      <th>3</th>\n",
              "      <td>Fri Jul 02 09:18:14 +0000 2021</td>\n",
              "      <td>teat65501837</td>\n",
              "      <td>this tweet has a #hash_tag\\nalso has a url htt...</td>\n",
              "      <td>False</td>\n",
              "      <td>None</td>\n",
              "      <td>None</td>\n",
              "      <td>None</td>\n",
              "      <td>None</td>\n",
              "    </tr>\n",
              "    <tr>\n",
              "      <th>4</th>\n",
              "      <td>Fri Jul 02 08:51:09 +0000 2021</td>\n",
              "      <td>teat65501837</td>\n",
              "      <td>RT @teat65501837: long quote from a long tweet...</td>\n",
              "      <td>True</td>\n",
              "      <td>teat65501837</td>\n",
              "      <td>True</td>\n",
              "      <td>teat65501837</td>\n",
              "      <td>this is a long tweet this is a long tweet this...</td>\n",
              "    </tr>\n",
              "    <tr>\n",
              "      <th>5</th>\n",
              "      <td>Fri Jul 02 08:50:52 +0000 2021</td>\n",
              "      <td>teat65501837</td>\n",
              "      <td>long quote from a long tweet long quote from a...</td>\n",
              "      <td>False</td>\n",
              "      <td>None</td>\n",
              "      <td>True</td>\n",
              "      <td>teat65501837</td>\n",
              "      <td>this is a long tweet this is a long tweet this...</td>\n",
              "    </tr>\n",
              "    <tr>\n",
              "      <th>6</th>\n",
              "      <td>Fri Jul 02 08:50:27 +0000 2021</td>\n",
              "      <td>teat65501837</td>\n",
              "      <td>quote from a tweet https://t.co/clGsgVtOZU</td>\n",
              "      <td>False</td>\n",
              "      <td>None</td>\n",
              "      <td>True</td>\n",
              "      <td>teat65501837</td>\n",
              "      <td>this is a short tweet</td>\n",
              "    </tr>\n",
              "    <tr>\n",
              "      <th>7</th>\n",
              "      <td>Fri Jul 02 08:49:59 +0000 2021</td>\n",
              "      <td>teat65501837</td>\n",
              "      <td>RT @Apple: Von Dresden über Rüspel bis Berlin ...</td>\n",
              "      <td>True</td>\n",
              "      <td>Apple</td>\n",
              "      <td>None</td>\n",
              "      <td>None</td>\n",
              "      <td>None</td>\n",
              "    </tr>\n",
              "    <tr>\n",
              "      <th>8</th>\n",
              "      <td>Fri Jul 02 08:49:48 +0000 2021</td>\n",
              "      <td>teat65501837</td>\n",
              "      <td>RT @teat65501837: this is a short tweet</td>\n",
              "      <td>True</td>\n",
              "      <td>teat65501837</td>\n",
              "      <td>None</td>\n",
              "      <td>None</td>\n",
              "      <td>None</td>\n",
              "    </tr>\n",
              "    <tr>\n",
              "      <th>9</th>\n",
              "      <td>Fri Jul 02 08:49:39 +0000 2021</td>\n",
              "      <td>teat65501837</td>\n",
              "      <td>this is a long tweet this is a long tweet this...</td>\n",
              "      <td>False</td>\n",
              "      <td>None</td>\n",
              "      <td>None</td>\n",
              "      <td>None</td>\n",
              "      <td>None</td>\n",
              "    </tr>\n",
              "    <tr>\n",
              "      <th>10</th>\n",
              "      <td>Fri Jul 02 08:49:14 +0000 2021</td>\n",
              "      <td>teat65501837</td>\n",
              "      <td>this is a short tweet</td>\n",
              "      <td>False</td>\n",
              "      <td>None</td>\n",
              "      <td>None</td>\n",
              "      <td>None</td>\n",
              "      <td>None</td>\n",
              "    </tr>\n",
              "  </tbody>\n",
              "</table>\n",
              "</div>"
            ],
            "text/plain": [
              "                       create time  ...                                  quoted_tweet_text\n",
              "0   Fri Jul 02 10:36:07 +0000 2021  ...                                               None\n",
              "1   Fri Jul 02 10:29:16 +0000 2021  ...                                               None\n",
              "2   Fri Jul 02 10:25:50 +0000 2021  ...                                               None\n",
              "3   Fri Jul 02 09:18:14 +0000 2021  ...                                               None\n",
              "4   Fri Jul 02 08:51:09 +0000 2021  ...  this is a long tweet this is a long tweet this...\n",
              "5   Fri Jul 02 08:50:52 +0000 2021  ...  this is a long tweet this is a long tweet this...\n",
              "6   Fri Jul 02 08:50:27 +0000 2021  ...                              this is a short tweet\n",
              "7   Fri Jul 02 08:49:59 +0000 2021  ...                                               None\n",
              "8   Fri Jul 02 08:49:48 +0000 2021  ...                                               None\n",
              "9   Fri Jul 02 08:49:39 +0000 2021  ...                                               None\n",
              "10  Fri Jul 02 08:49:14 +0000 2021  ...                                               None\n",
              "\n",
              "[11 rows x 8 columns]"
            ]
          },
          "metadata": {
            "tags": []
          },
          "execution_count": 86
        }
      ]
    }
  ]
}